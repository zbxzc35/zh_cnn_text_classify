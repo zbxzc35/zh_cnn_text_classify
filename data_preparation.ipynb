{
 "cells": [
  {
   "cell_type": "code",
   "execution_count": 9,
   "metadata": {},
   "outputs": [],
   "source": [
    "import pandas as pd\n",
    "import numpy as np\n",
    "import re\n",
    "import os\n",
    "from os import listdir\n",
    "from os.path import isfile, join\n",
    "import data_helpers\n",
    "from hanziconv import HanziConv"
   ]
  },
  {
   "cell_type": "code",
   "execution_count": 27,
   "metadata": {
    "collapsed": true
   },
   "outputs": [],
   "source": [
    "weibo_m_o = pd.read_csv('./data/Weibo_M.csv')\n",
    "weibo_o = pd.read_csv('./data/Weibo.csv')\n",
    "wechat_o = pd.read_csv('./data/Wechat.csv')\n",
    "news_forum_o = pd.read_csv('./data/News_forum.csv')"
   ]
  },
  {
   "cell_type": "code",
   "execution_count": 100,
   "metadata": {},
   "outputs": [],
   "source": [
    "weibo_m = weibo_m_o[['COMMENT','AREAS AFFECTED']].dropna(axis=0, how = 'any')\n",
    "weibo = weibo_o[['COMMENT','AREAS AFFECTED']].dropna(axis=0, how = 'any')\n",
    "wechat = wechat_o[['CONTENT','AREAS AFFECTED']].dropna(axis=0, how = 'any')\n",
    "news_forum = news_forum_o[['CONTENT','AREAS AFFECTED']].dropna(axis=0, how = 'any')"
   ]
  },
  {
   "cell_type": "code",
   "execution_count": 101,
   "metadata": {
    "collapsed": true
   },
   "outputs": [],
   "source": [
    "weibo_m.columns = ['CONTENT','AREAS AFFECTED']\n",
    "weibo.columns = ['CONTENT','AREAS AFFECTED']"
   ]
  },
  {
   "cell_type": "code",
   "execution_count": 102,
   "metadata": {
    "collapsed": true
   },
   "outputs": [],
   "source": [
    "data = pd.concat([weibo_m,weibo,wechat,news_forum])"
   ]
  },
  {
   "cell_type": "code",
   "execution_count": 103,
   "metadata": {
    "collapsed": true
   },
   "outputs": [],
   "source": [
    "data['CONTENT'] = data['CONTENT'].str.replace('\\n', '')\n",
    "data['AREAS AFFECTED'] = data['AREAS AFFECTED'].str.replace('life', 'Life')\n",
    "data['AREAS AFFECTED'] = data['AREAS AFFECTED'].str.replace('sponsored', 'Sponsored')\n",
    "data['AREAS AFFECTED'] = data['AREAS AFFECTED'].str.replace('news', 'News')\n",
    "data = data.reset_index(drop=True)"
   ]
  },
  {
   "cell_type": "code",
   "execution_count": 104,
   "metadata": {},
   "outputs": [],
   "source": [
    "for i in range(len(data)):\n",
    "    data['CONTENT'][i] = HanziConv.toSimplified(data['CONTENT'][i]).encode('utf-8')"
   ]
  },
  {
   "cell_type": "code",
   "execution_count": null,
   "metadata": {
    "collapsed": true
   },
   "outputs": [],
   "source": []
  },
  {
   "cell_type": "code",
   "execution_count": 105,
   "metadata": {
    "collapsed": true
   },
   "outputs": [],
   "source": [
    "data['AREAS AFFECTED'] = data['AREAS AFFECTED'].str.replace('News', 'Brands')\n",
    "for i in range(len(data)):\n",
    "    if ((data['AREAS AFFECTED'][i] != 'Products/Service') and \n",
    "        (data['AREAS AFFECTED'][i] != 'Corporate Brands')):\n",
    "        data['AREAS AFFECTED'][i] = 'others'"
   ]
  },
  {
   "cell_type": "code",
   "execution_count": 106,
   "metadata": {
    "collapsed": true
   },
   "outputs": [],
   "source": [
    "mypath = './data/processed/'\n",
    "for the_file in os.listdir(mypath):\n",
    "    file_path = os.path.join(mypath, the_file)\n",
    "    try:\n",
    "        if os.path.isfile(file_path):\n",
    "            os.unlink(file_path)\n",
    "        #elif os.path.isdir(file_path): shutil.rmtree(file_path)\n",
    "    except Exception as e:\n",
    "        print(e)"
   ]
  },
  {
   "cell_type": "code",
   "execution_count": 107,
   "metadata": {
    "collapsed": true
   },
   "outputs": [],
   "source": [
    "for x in data['AREAS AFFECTED'].unique():\n",
    "    np.savetxt(mypath+ x.replace('/',' ') +'.utf8',\\\n",
    "                   data[data['AREAS AFFECTED'] == x]['CONTENT'].values, fmt='%s')"
   ]
  },
  {
   "cell_type": "code",
   "execution_count": 108,
   "metadata": {},
   "outputs": [
    {
     "data": {
      "text/plain": [
       "others              15095\n",
       "Products/Service     9062\n",
       "Corporate Brands     6737\n",
       "Name: AREAS AFFECTED, dtype: int64"
      ]
     },
     "execution_count": 108,
     "metadata": {},
     "output_type": "execute_result"
    }
   ],
   "source": [
    "data['AREAS AFFECTED'].value_counts()"
   ]
  },
  {
   "cell_type": "markdown",
   "metadata": {},
   "source": [
    "# Sentiment data"
   ]
  },
  {
   "cell_type": "code",
   "execution_count": 38,
   "metadata": {},
   "outputs": [],
   "source": [
    "weibo_m_s = weibo_m_o[['COMMENT','SENTIMENT']].dropna(axis=0, how = 'any')\n",
    "weibo_s = weibo_o[['COMMENT','SENTIMENT']].dropna(axis=0, how = 'any')\n",
    "wechat_s = wechat_o[['CONTENT','SENTIMENT']].dropna(axis=0, how = 'any')"
   ]
  },
  {
   "cell_type": "code",
   "execution_count": 49,
   "metadata": {
    "collapsed": true
   },
   "outputs": [],
   "source": [
    "weibo_m_s.columns = ['CONTENT','SENTIMENT']\n",
    "weibo_s.columns = ['CONTENT','SENTIMENT']"
   ]
  },
  {
   "cell_type": "code",
   "execution_count": 50,
   "metadata": {},
   "outputs": [],
   "source": [
    "data = pd.concat([weibo_m_s,weibo_s,wechat_s])"
   ]
  },
  {
   "cell_type": "code",
   "execution_count": 51,
   "metadata": {
    "collapsed": true
   },
   "outputs": [],
   "source": [
    "data['CONTENT'] = data['CONTENT'].str.replace('\\n', '')\n",
    "data = data.reset_index(drop=True)"
   ]
  },
  {
   "cell_type": "code",
   "execution_count": 52,
   "metadata": {},
   "outputs": [],
   "source": [
    "for i in range(len(data)):\n",
    "    data['CONTENT'][i] = HanziConv.toSimplified(data['CONTENT'][i]).encode('utf-8')"
   ]
  },
  {
   "cell_type": "code",
   "execution_count": 54,
   "metadata": {},
   "outputs": [],
   "source": [
    "mypath = './data/processed/'\n",
    "for the_file in os.listdir(mypath):\n",
    "    file_path = os.path.join(mypath, the_file)\n",
    "    try:\n",
    "        if os.path.isfile(file_path):\n",
    "            os.unlink(file_path)\n",
    "        #elif os.path.isdir(file_path): shutil.rmtree(file_path)\n",
    "    except Exception as e:\n",
    "        print(e)"
   ]
  },
  {
   "cell_type": "code",
   "execution_count": 57,
   "metadata": {},
   "outputs": [],
   "source": [
    "for x in data['SENTIMENT'].unique():\n",
    "    np.savetxt(mypath+ x.replace('/',' ') +'.utf8',\\\n",
    "                   data[data['SENTIMENT'] == x]['CONTENT'].values, fmt='%s')"
   ]
  },
  {
   "cell_type": "code",
   "execution_count": 59,
   "metadata": {},
   "outputs": [
    {
     "data": {
      "text/plain": [
       "Neutral       14618\n",
       "Positive        465\n",
       "Negative        287\n",
       "Irrelevant      253\n",
       "Name: SENTIMENT, dtype: int64"
      ]
     },
     "execution_count": 59,
     "metadata": {},
     "output_type": "execute_result"
    }
   ],
   "source": [
    "data['SENTIMENT'].value_counts()"
   ]
  },
  {
   "cell_type": "code",
   "execution_count": 109,
   "metadata": {},
   "outputs": [],
   "source": [
    "from gensim.models import Word2Vec\n",
    "w2vModel = Word2Vec.load('runs/trained_word2vec.model')"
   ]
  },
  {
   "cell_type": "code",
   "execution_count": 110,
   "metadata": {},
   "outputs": [
    {
     "data": {
      "text/plain": [
       "3598"
      ]
     },
     "execution_count": 110,
     "metadata": {},
     "output_type": "execute_result"
    }
   ],
   "source": [
    "vocab_obj = w2vModel.wv.vocab\n",
    "len(vocab_obj)"
   ]
  },
  {
   "cell_type": "code",
   "execution_count": null,
   "metadata": {
    "collapsed": true
   },
   "outputs": [],
   "source": []
  }
 ],
 "metadata": {
  "kernelspec": {
   "display_name": "Python 2",
   "language": "python",
   "name": "python2"
  },
  "language_info": {
   "codemirror_mode": {
    "name": "ipython",
    "version": 2
   },
   "file_extension": ".py",
   "mimetype": "text/x-python",
   "name": "python",
   "nbconvert_exporter": "python",
   "pygments_lexer": "ipython2",
   "version": "2.7.13"
  }
 },
 "nbformat": 4,
 "nbformat_minor": 2
}
