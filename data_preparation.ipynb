{
 "cells": [
  {
   "cell_type": "code",
   "execution_count": 1,
   "metadata": {},
   "outputs": [
    {
     "name": "stderr",
     "output_type": "stream",
     "text": [
      "Using TensorFlow backend.\n"
     ]
    }
   ],
   "source": [
    "import pandas as pd\n",
    "import numpy as np\n",
    "import re\n",
    "import os\n",
    "from os import listdir\n",
    "from os.path import isfile, join\n",
    "import data_helpers\n",
    "from hanziconv import HanziConv"
   ]
  },
  {
   "cell_type": "code",
   "execution_count": 2,
   "metadata": {
    "collapsed": true
   },
   "outputs": [],
   "source": [
    "weibo_m_o = pd.read_csv('./data/Weibo_M.csv')\n",
    "weibo_o = pd.read_csv('./data/Weibo.csv')\n",
    "wechat_o = pd.read_csv('./data/Wechat.csv')\n",
    "news_forum_o = pd.read_csv('./data/News_forum.csv')"
   ]
  },
  {
   "cell_type": "code",
   "execution_count": 3,
   "metadata": {
    "collapsed": true
   },
   "outputs": [],
   "source": [
    "weibo_m = weibo_m_o[['COMMENT','AREAS AFFECTED']].dropna(axis=0, how = 'any')\n",
    "weibo = weibo_o[['COMMENT','AREAS AFFECTED']].dropna(axis=0, how = 'any')\n",
    "wechat = wechat_o[['CONTENT','AREAS AFFECTED']].dropna(axis=0, how = 'any')\n",
    "news_forum = news_forum_o[['CONTENT','AREAS AFFECTED']].dropna(axis=0, how = 'any')"
   ]
  },
  {
   "cell_type": "code",
   "execution_count": 4,
   "metadata": {
    "collapsed": true
   },
   "outputs": [],
   "source": [
    "weibo_m.columns = ['CONTENT','AREAS AFFECTED']\n",
    "weibo.columns = ['CONTENT','AREAS AFFECTED']"
   ]
  },
  {
   "cell_type": "code",
   "execution_count": 5,
   "metadata": {
    "collapsed": true
   },
   "outputs": [],
   "source": [
    "data = pd.concat([weibo_m,weibo,wechat,news_forum])"
   ]
  },
  {
   "cell_type": "code",
   "execution_count": 6,
   "metadata": {
    "collapsed": true
   },
   "outputs": [],
   "source": [
    "data['CONTENT'] = data['CONTENT'].str.replace('\\n', '')\n",
    "data['AREAS AFFECTED'] = data['AREAS AFFECTED'].str.replace('life', 'Life')\n",
    "data['AREAS AFFECTED'] = data['AREAS AFFECTED'].str.replace('sponsored', 'Sponsored')\n",
    "data['AREAS AFFECTED'] = data['AREAS AFFECTED'].str.replace('news', 'News')\n",
    "data = data.reset_index(drop=True)"
   ]
  },
  {
   "cell_type": "code",
   "execution_count": 7,
   "metadata": {
    "collapsed": true
   },
   "outputs": [],
   "source": [
    "for i in range(len(data)):\n",
    "    data['CONTENT'][i] = HanziConv.toSimplified(data['CONTENT'][i]).encode('utf-8')"
   ]
  },
  {
   "cell_type": "code",
   "execution_count": 8,
   "metadata": {
    "collapsed": true
   },
   "outputs": [],
   "source": [
    "# for i in range(len(data)):\n",
    "#     if ((data['AREAS AFFECTED'][i] != 'Customer Service')):\n",
    "#         data['AREAS AFFECTED'][i] = 'others'"
   ]
  },
  {
   "cell_type": "code",
   "execution_count": 9,
   "metadata": {
    "collapsed": true
   },
   "outputs": [],
   "source": [
    "from sklearn.model_selection import train_test_split\n",
    "\n",
    "train, test = train_test_split(data, test_size=0.1)"
   ]
  },
  {
   "cell_type": "code",
   "execution_count": 17,
   "metadata": {},
   "outputs": [
    {
     "data": {
      "text/plain": [
       "19617"
      ]
     },
     "execution_count": 17,
     "metadata": {},
     "output_type": "execute_result"
    }
   ],
   "source": [
    "len(train[train['AREAS AFFECTED'] != 'Products/Service'])"
   ]
  },
  {
   "cell_type": "code",
   "execution_count": 102,
   "metadata": {
    "collapsed": true
   },
   "outputs": [],
   "source": [
    "trainpath = './data/processed/training/'\n",
    "if not os.path.exists(trainpath):\n",
    "    os.makedirs(trainpath)\n",
    "for the_file in os.listdir(trainpath):\n",
    "    file_path = os.path.join(trainpath, the_file)\n",
    "    try:\n",
    "        if os.path.isfile(file_path):\n",
    "            os.unlink(file_path)\n",
    "        #elif os.path.isdir(file_path): shutil.rmtree(file_path)\n",
    "    except Exception as e:\n",
    "        print(e)\n",
    "testpath = './data/processed/testing/'\n",
    "if not os.path.exists(testpath):\n",
    "    os.makedirs(testpath)\n",
    "for the_file in os.listdir(testpath):\n",
    "    file_path = os.path.join(testpath, the_file)\n",
    "    try:\n",
    "        if os.path.isfile(file_path):\n",
    "            os.unlink(file_path)\n",
    "        #elif os.path.isdir(file_path): shutil.rmtree(file_path)\n",
    "    except Exception as e:\n",
    "        print(e)"
   ]
  },
  {
   "cell_type": "code",
   "execution_count": 103,
   "metadata": {
    "collapsed": true
   },
   "outputs": [],
   "source": [
    "for x in data['AREAS AFFECTED'].unique():\n",
    "    np.savetxt(trainpath+ x.replace('/',' ') +'.utf8',\\\n",
    "                   train[train['AREAS AFFECTED'] == x]['CONTENT'].values, fmt='%s')\n",
    "    np.savetxt(testpath+ x.replace('/',' ') +'.utf8',\\\n",
    "                   test[test['AREAS AFFECTED'] == x]['CONTENT'].values, fmt='%s')"
   ]
  },
  {
   "cell_type": "code",
   "execution_count": 104,
   "metadata": {},
   "outputs": [
    {
     "data": {
      "text/plain": [
       "Products/Service         9062\n",
       "Corporate News           3431\n",
       "Corporate Brands         3306\n",
       "Life Comprehend          2167\n",
       "Charity Events           1870\n",
       "Customer Service         1752\n",
       "General Mentioned        1558\n",
       "Sponsored Events         1494\n",
       "Stocks&Earnings          1293\n",
       "Ads/Marketing            1220\n",
       "Health Information        590\n",
       "Products                  519\n",
       "Fund                      479\n",
       "General Info              421\n",
       "Survey/Questions          370\n",
       "Employment                364\n",
       "Recruitment               358\n",
       "Irrelevant Ads            267\n",
       "Employee Information      128\n",
       "Volunteering Activity      96\n",
       "Contact Information        66\n",
       "Agent Issues               41\n",
       "Website Issues             39\n",
       "Agent                       3\n",
       "Name: AREAS AFFECTED, dtype: int64"
      ]
     },
     "execution_count": 104,
     "metadata": {},
     "output_type": "execute_result"
    }
   ],
   "source": [
    "data['AREAS AFFECTED'].value_counts()"
   ]
  },
  {
   "cell_type": "code",
   "execution_count": 111,
   "metadata": {},
   "outputs": [
    {
     "data": {
      "text/html": [
       "<div>\n",
       "<style>\n",
       "    .dataframe thead tr:only-child th {\n",
       "        text-align: right;\n",
       "    }\n",
       "\n",
       "    .dataframe thead th {\n",
       "        text-align: left;\n",
       "    }\n",
       "\n",
       "    .dataframe tbody tr th {\n",
       "        vertical-align: top;\n",
       "    }\n",
       "</style>\n",
       "<table border=\"1\" class=\"dataframe\">\n",
       "  <thead>\n",
       "    <tr style=\"text-align: right;\">\n",
       "      <th></th>\n",
       "      <th>CONTENT</th>\n",
       "      <th>AREAS AFFECTED</th>\n",
       "    </tr>\n",
       "  </thead>\n",
       "  <tbody>\n",
       "    <tr>\n",
       "      <th>664</th>\n",
       "      <td>很敬业的公司！中宏保险400客服周末晚上八点半了还在打回访电话！刚刚接到电话很是感动</td>\n",
       "      <td>Customer Service</td>\n",
       "    </tr>\n",
       "    <tr>\n",
       "      <th>715</th>\n",
       "      <td>榜样的力量！ 聪明宝宝是中宏保教育金类保险产品，百度一下:中宏保险聪明宝宝，原本属于中宏的产...</td>\n",
       "      <td>Customer Service</td>\n",
       "    </tr>\n",
       "    <tr>\n",
       "      <th>716</th>\n",
       "      <td>上传《滁州六安巢湖马鞍山中宏人寿大众保险华安永安 生命人http://t.itc.cn/Qc...</td>\n",
       "      <td>Customer Service</td>\n",
       "    </tr>\n",
       "    <tr>\n",
       "      <th>738</th>\n",
       "      <td>\\n[哈哈]人寿保险啊，缠人的本事比他们要强百倍，而且总公司就在上海书城后面的世贸大厦//@...</td>\n",
       "      <td>Customer Service</td>\n",
       "    </tr>\n",
       "    <tr>\n",
       "      <th>843</th>\n",
       "      <td>中宏的理赔总是这么快！让我怎么对得起当时质疑我的人？“易变的岁月，不变的承诺”</td>\n",
       "      <td>Customer Service</td>\n",
       "    </tr>\n",
       "    <tr>\n",
       "      <th>850</th>\n",
       "      <td>如果有中宏保险的VIP客户在尼泊尔受伤了…赶紧拔打国际SOS中国24小时援助中心：+86 1...</td>\n",
       "      <td>Customer Service</td>\n",
       "    </tr>\n",
       "    <tr>\n",
       "      <th>854</th>\n",
       "      <td>如果您在尼泊尔，如果你受伤了，如果您是中宏保险的VIP客户…国际SOS中国24小时免费援助中...</td>\n",
       "      <td>Customer Service</td>\n",
       "    </tr>\n",
       "    <tr>\n",
       "      <th>858</th>\n",
       "      <td>#关注尼泊尔地震#中宏保险启动重大事故理赔应急预案，成立重大事故应急小组，启动快速理赔服务机...</td>\n",
       "      <td>Customer Service</td>\n",
       "    </tr>\n",
       "    <tr>\n",
       "      <th>860</th>\n",
       "      <td>告中宏保险VIP客户：如果你在尼泊尔地震中受伤，请拨打中宏贵宾国际SOS中国24小时免费援助...</td>\n",
       "      <td>Customer Service</td>\n",
       "    </tr>\n",
       "    <tr>\n",
       "      <th>867</th>\n",
       "      <td>中宏保险：#关注尼泊尔地震#中宏保险启动重大事故理赔应急预案，成立重大事故应急小组，启动快速...</td>\n",
       "      <td>Customer Service</td>\n",
       "    </tr>\n",
       "    <tr>\n",
       "      <th>869</th>\n",
       "      <td>中宏保险启动尼泊尔地震应急预案 4月25日14时许尼泊尔发生8.1级地震，造成大量人员伤亡和...</td>\n",
       "      <td>Customer Service</td>\n",
       "    </tr>\n",
       "    <tr>\n",
       "      <th>876</th>\n",
       "      <td>【客户的福利一】科技创新，人性关怀！现在绑定中宏保险微信公众号，可以通过微信进行理赔业务办理...</td>\n",
       "      <td>Customer Service</td>\n",
       "    </tr>\n",
       "    <tr>\n",
       "      <th>882</th>\n",
       "      <td>中宏保险微信理赔服务全面开启。很负责任地说：客户体验比中宏好客户们想要的都还要好。</td>\n",
       "      <td>Customer Service</td>\n",
       "    </tr>\n",
       "    <tr>\n",
       "      <th>883</th>\n",
       "      <td>4月1日，中宏开通微信理赔服务，4月2日，我们绵阳机构第一个客户尝试自助理赔的体验[强]当天...</td>\n",
       "      <td>Customer Service</td>\n",
       "    </tr>\n",
       "    <tr>\n",
       "      <th>884</th>\n",
       "      <td>4月1日，中宏开通微信理赔服务，4月2日，我们绵阳机构第一个客户尝试自助理赔的体验[good...</td>\n",
       "      <td>Customer Service</td>\n",
       "    </tr>\n",
       "    <tr>\n",
       "      <th>900</th>\n",
       "      <td>如果可以，白血病就不是事儿了，那么什么是事儿！  真正的重疾三次赔付在中宏保险，中宏怎么做到...</td>\n",
       "      <td>Customer Service</td>\n",
       "    </tr>\n",
       "    <tr>\n",
       "      <th>914</th>\n",
       "      <td>应保监会的要求今后各家公司均会在与客户相关的各种文件上公开披露公司的偿付能力信息，供客户更好...</td>\n",
       "      <td>Customer Service</td>\n",
       "    </tr>\n",
       "    <tr>\n",
       "      <th>924</th>\n",
       "      <td>上月意外受伤，月底申请理赔，今天收到理赔款，中宏保险很靠谱啊[爱你][爱你][爱你]</td>\n",
       "      <td>Customer Service</td>\n",
       "    </tr>\n",
       "    <tr>\n",
       "      <th>925</th>\n",
       "      <td>中宏保险公司的微信，使理赔更便捷、有效</td>\n",
       "      <td>Customer Service</td>\n",
       "    </tr>\n",
       "    <tr>\n",
       "      <th>936</th>\n",
       "      <td>工伤十级伤残遭拒赔 中宏人寿：伤残等级不达标http://url.cn/47DXqrl</td>\n",
       "      <td>Customer Service</td>\n",
       "    </tr>\n",
       "    <tr>\n",
       "      <th>953</th>\n",
       "      <td>哎，还有多少人被洗脑了 ​​​​</td>\n",
       "      <td>Customer Service</td>\n",
       "    </tr>\n",
       "    <tr>\n",
       "      <th>954</th>\n",
       "      <td>幼儿园悬浮地板施工@买了保险十级伤残不赔付！到底是哪家保险这么拽？\\n     两名工人受了...</td>\n",
       "      <td>Customer Service</td>\n",
       "    </tr>\n",
       "    <tr>\n",
       "      <th>965</th>\n",
       "      <td>在网易新闻论坛【新闻贴图】版下发表了话题为《中宏人寿保险有限客户如何退保/退钱 保险官网》的...</td>\n",
       "      <td>Customer Service</td>\n",
       "    </tr>\n",
       "    <tr>\n",
       "      <th>967</th>\n",
       "      <td>【中宏理赔】转自同事： 感谢中宏保险公司，在一天时间内把我客户的重疾保险和医疗费费用共十六...</td>\n",
       "      <td>Customer Service</td>\n",
       "    </tr>\n",
       "    <tr>\n",
       "      <th>974</th>\n",
       "      <td>中宏保险保险怎么申请退保,如何退出 http://t.cn/RPS1Ntv</td>\n",
       "      <td>Customer Service</td>\n",
       "    </tr>\n",
       "    <tr>\n",
       "      <th>982</th>\n",
       "      <td>【什么是全球理赔】 关于买了保险，出国怎么？针对越来越多的客户在中宏保险投保，有些客户会担心...</td>\n",
       "      <td>Customer Service</td>\n",
       "    </tr>\n",
       "    <tr>\n",
       "      <th>986</th>\n",
       "      <td>\\n中宏保险保险怎么申请退保,如何退出\\n \\n用户5240406173发布于2014年8月...</td>\n",
       "      <td>Customer Service</td>\n",
       "    </tr>\n",
       "    <tr>\n",
       "      <th>988</th>\n",
       "      <td>\\n中宏保险保险怎么申请退保,如何退出\\n \\n用户5240406173发布于2014年8月...</td>\n",
       "      <td>Customer Service</td>\n",
       "    </tr>\n",
       "    <tr>\n",
       "      <th>1014</th>\n",
       "      <td>这是中国保监会7月25日颁布的处罚报表。其中依然没有中宏保险的身影，近十年来在保监会收到的电...</td>\n",
       "      <td>Customer Service</td>\n",
       "    </tr>\n",
       "    <tr>\n",
       "      <th>1015</th>\n",
       "      <td>这是中国保监会7月25日颁布的处罚报表。其中依然没有中宏保险的身影，近十年来在保监会收到的电...</td>\n",
       "      <td>Customer Service</td>\n",
       "    </tr>\n",
       "    <tr>\n",
       "      <th>...</th>\n",
       "      <td>...</td>\n",
       "      <td>...</td>\n",
       "    </tr>\n",
       "    <tr>\n",
       "      <th>4600</th>\n",
       "      <td>在网易新闻论坛【新闻贴图】版下发表了话题为《中宏人寿保险退保后钱什么时候到帐-百度知道》的帖...</td>\n",
       "      <td>Customer Service</td>\n",
       "    </tr>\n",
       "    <tr>\n",
       "      <th>4616</th>\n",
       "      <td>对话题为《中宏人寿保险公司怎么才能申请退保》的帖子回帖： http://163.fm/XNA...</td>\n",
       "      <td>Customer Service</td>\n",
       "    </tr>\n",
       "    <tr>\n",
       "      <th>4648</th>\n",
       "      <td>我上传了：【视频：中宏保险-2014刘婧客户答谢会邀请函】|中宏保险-2014刘婧客户答谢会...</td>\n",
       "      <td>Customer Service</td>\n",
       "    </tr>\n",
       "    <tr>\n",
       "      <th>4684</th>\n",
       "      <td>全球理赔案例-加拿大】客户在加拿大旅游时不慎被鱼刺卡住喉咙，拔根鱼刺花了800多加元，近期客...</td>\n",
       "      <td>Customer Service</td>\n",
       "    </tr>\n",
       "    <tr>\n",
       "      <th>4686</th>\n",
       "      <td>【全球理赔案例-加拿大】客户短期外派加拿大工作期间不慎被鱼刺卡住喉咙，拔根鱼刺花了800多加...</td>\n",
       "      <td>Customer Service</td>\n",
       "    </tr>\n",
       "    <tr>\n",
       "      <th>4720</th>\n",
       "      <td>【午间资讯】中宏保险99.7%的理赔2个工作日内完成，这就是中宏以客户为中心的服务理念的体现...</td>\n",
       "      <td>Customer Service</td>\n",
       "    </tr>\n",
       "    <tr>\n",
       "      <th>4727</th>\n",
       "      <td>【理赔快讯】我的客户今天上午递交理赔申请书到公司，下午就获得理赔结果，可见理赔速度之快。信守...</td>\n",
       "      <td>Customer Service</td>\n",
       "    </tr>\n",
       "    <tr>\n",
       "      <th>4768</th>\n",
       "      <td>【中宏保险，服务为先】他，在埃及车祸理赔到了175万，快速理赔，专业服务，深受感动，康复后毅...</td>\n",
       "      <td>Customer Service</td>\n",
       "    </tr>\n",
       "    <tr>\n",
       "      <th>4769</th>\n",
       "      <td>您知道吗？国内保险公司都说大病险全球都可以理赔，但是您可以随意拨打某个公司的客服热线，咨询具...</td>\n",
       "      <td>Customer Service</td>\n",
       "    </tr>\n",
       "    <tr>\n",
       "      <th>4776</th>\n",
       "      <td>[心]您知道吗？国内保险公司都说大病险全球都可以理赔，但是您可以随意拨打某个公司的客服热线，...</td>\n",
       "      <td>Customer Service</td>\n",
       "    </tr>\n",
       "    <tr>\n",
       "      <th>4778</th>\n",
       "      <td>就医难，挂号难，预约专家更难！怎么办？中宏保险为您健康护航！免费领取专家预约，一对一私享服务...</td>\n",
       "      <td>Customer Service</td>\n",
       "    </tr>\n",
       "    <tr>\n",
       "      <th>4781</th>\n",
       "      <td>【中宏保险】尊敬的张思明先生，恭喜您成功领取中宏人寿赠送的全国专家挂号预约服务（包括1年2次...</td>\n",
       "      <td>Customer Service</td>\n",
       "    </tr>\n",
       "    <tr>\n",
       "      <th>4846</th>\n",
       "      <td>【保险汇】保险公司的服务之道—中宏人寿</td>\n",
       "      <td>Customer Service</td>\n",
       "    </tr>\n",
       "    <tr>\n",
       "      <th>4867</th>\n",
       "      <td>在网易新闻论坛【时事论坛】版下发表了话题为《中宏人寿保险怎么申请退保》的帖子 &gt;&gt;http:...</td>\n",
       "      <td>Customer Service</td>\n",
       "    </tr>\n",
       "    <tr>\n",
       "      <th>4868</th>\n",
       "      <td>会有用么？[思考] btw, 中宏人寿的那位：你是打哪儿知道我的信息的呢? \\n   \\n\\...</td>\n",
       "      <td>Customer Service</td>\n",
       "    </tr>\n",
       "    <tr>\n",
       "      <th>4966</th>\n",
       "      <td>中宏人寿保险办理退保电话是多少?受 理,续 保 ,投 诉,分 红</td>\n",
       "      <td>Customer Service</td>\n",
       "    </tr>\n",
       "    <tr>\n",
       "      <th>4972</th>\n",
       "      <td>在网易新闻论坛【中日关系】版下发表了话题为《中宏人寿保险怎么才能申请办理退保？请拨打:400...</td>\n",
       "      <td>Customer Service</td>\n",
       "    </tr>\n",
       "    <tr>\n",
       "      <th>4994</th>\n",
       "      <td>发表了博文《医疗保险是骗人的--中宏保险拒赔记(亲身经历)》°医疗保险是骗人的--中宏保险拒...</td>\n",
       "      <td>Customer Service</td>\n",
       "    </tr>\n",
       "    <tr>\n",
       "      <th>5018</th>\n",
       "      <td>【中宏保险】很多客户对小医疗理赔有疑虑，不分类理赔是最一目了然的，计划书上对应的典型理赔数据...</td>\n",
       "      <td>Customer Service</td>\n",
       "    </tr>\n",
       "    <tr>\n",
       "      <th>5019</th>\n",
       "      <td>【中宏保险】轻松理赔你我他，易变的岁月，不变的承诺 2无锡·滨湖区</td>\n",
       "      <td>Customer Service</td>\n",
       "    </tr>\n",
       "    <tr>\n",
       "      <th>5204</th>\n",
       "      <td>#国际SOS救援服务#不管你人在地球的任何一个角落，一个电话，我与中宏随时为你服务！</td>\n",
       "      <td>Customer Service</td>\n",
       "    </tr>\n",
       "    <tr>\n",
       "      <th>5210</th>\n",
       "      <td>【是退保好还是选择减额交清保额好？】据说知道这个问题的人都特别可爱~@华泰保险公司客服中心@...</td>\n",
       "      <td>Customer Service</td>\n",
       "    </tr>\n",
       "    <tr>\n",
       "      <th>5211</th>\n",
       "      <td>你觉得这个回答怎么样？求验证~【是退保好还是选择减额交清保额好？】@华泰保险公司客服中心@中...</td>\n",
       "      <td>Customer Service</td>\n",
       "    </tr>\n",
       "    <tr>\n",
       "      <th>5212</th>\n",
       "      <td>你觉得这个回答怎么样？求验证~【杭州新车自己去上牌流程 要交多少钱？】@华泰保险公司客服中心...</td>\n",
       "      <td>Customer Service</td>\n",
       "    </tr>\n",
       "    <tr>\n",
       "      <th>5216</th>\n",
       "      <td>【请问在外地公司离职后，公司交的社保都给停了，至今已经三个多月了，还没找到新的公司，需要办什...</td>\n",
       "      <td>Customer Service</td>\n",
       "    </tr>\n",
       "    <tr>\n",
       "      <th>5225</th>\n",
       "      <td>【中宏保险与众不同】 客户理赔案例：一位女性客户（39岁），在2015年投保了重大疾病保险，...</td>\n",
       "      <td>Customer Service</td>\n",
       "    </tr>\n",
       "    <tr>\n",
       "      <th>5231</th>\n",
       "      <td>【这种情况是否属于交强险的理赔范围？】据说知道这个问题的人都特别可爱~@华泰保险公司客服中心...</td>\n",
       "      <td>Customer Service</td>\n",
       "    </tr>\n",
       "    <tr>\n",
       "      <th>5232</th>\n",
       "      <td>寿险除外责任（免责）哪家强？？ 太平洋：12条 中国平安：8条 信诚人寿：3条 泰康人寿：8...</td>\n",
       "      <td>Customer Service</td>\n",
       "    </tr>\n",
       "    <tr>\n",
       "      <th>5235</th>\n",
       "      <td>中宏保险简直就是骗人的，我保了一份7800元的一份保险，就退给我三百块钱，简直是吃人不吐骨头...</td>\n",
       "      <td>Customer Service</td>\n",
       "    </tr>\n",
       "    <tr>\n",
       "      <th>5306</th>\n",
       "      <td>以下商业保险： 中国人寿、人保人寿、新华人寿、泰康人寿、太平人寿、太平洋人寿、平安人寿、阳光...</td>\n",
       "      <td>Customer Service</td>\n",
       "    </tr>\n",
       "  </tbody>\n",
       "</table>\n",
       "<p>170 rows × 2 columns</p>\n",
       "</div>"
      ],
      "text/plain": [
       "                                                CONTENT    AREAS AFFECTED\n",
       "664          很敬业的公司！中宏保险400客服周末晚上八点半了还在打回访电话！刚刚接到电话很是感动  Customer Service\n",
       "715   榜样的力量！ 聪明宝宝是中宏保教育金类保险产品，百度一下:中宏保险聪明宝宝，原本属于中宏的产...  Customer Service\n",
       "716   上传《滁州六安巢湖马鞍山中宏人寿大众保险华安永安 生命人http://t.itc.cn/Qc...  Customer Service\n",
       "738   \\n[哈哈]人寿保险啊，缠人的本事比他们要强百倍，而且总公司就在上海书城后面的世贸大厦//@...  Customer Service\n",
       "843            中宏的理赔总是这么快！让我怎么对得起当时质疑我的人？“易变的岁月，不变的承诺”   Customer Service\n",
       "850   如果有中宏保险的VIP客户在尼泊尔受伤了…赶紧拔打国际SOS中国24小时援助中心：+86 1...  Customer Service\n",
       "854   如果您在尼泊尔，如果你受伤了，如果您是中宏保险的VIP客户…国际SOS中国24小时免费援助中...  Customer Service\n",
       "858   #关注尼泊尔地震#中宏保险启动重大事故理赔应急预案，成立重大事故应急小组，启动快速理赔服务机...  Customer Service\n",
       "860   告中宏保险VIP客户：如果你在尼泊尔地震中受伤，请拨打中宏贵宾国际SOS中国24小时免费援助...  Customer Service\n",
       "867   中宏保险：#关注尼泊尔地震#中宏保险启动重大事故理赔应急预案，成立重大事故应急小组，启动快速...  Customer Service\n",
       "869   中宏保险启动尼泊尔地震应急预案 4月25日14时许尼泊尔发生8.1级地震，造成大量人员伤亡和...  Customer Service\n",
       "876   【客户的福利一】科技创新，人性关怀！现在绑定中宏保险微信公众号，可以通过微信进行理赔业务办理...  Customer Service\n",
       "882           中宏保险微信理赔服务全面开启。很负责任地说：客户体验比中宏好客户们想要的都还要好。  Customer Service\n",
       "883   4月1日，中宏开通微信理赔服务，4月2日，我们绵阳机构第一个客户尝试自助理赔的体验[强]当天...  Customer Service\n",
       "884   4月1日，中宏开通微信理赔服务，4月2日，我们绵阳机构第一个客户尝试自助理赔的体验[good...  Customer Service\n",
       "900   如果可以，白血病就不是事儿了，那么什么是事儿！  真正的重疾三次赔付在中宏保险，中宏怎么做到...  Customer Service\n",
       "914   应保监会的要求今后各家公司均会在与客户相关的各种文件上公开披露公司的偿付能力信息，供客户更好...  Customer Service\n",
       "924         上月意外受伤，月底申请理赔，今天收到理赔款，中宏保险很靠谱啊[爱你][爱你][爱你]   Customer Service\n",
       "925                                 中宏保险公司的微信，使理赔更便捷、有效  Customer Service\n",
       "936        工伤十级伤残遭拒赔 中宏人寿：伤残等级不达标http://url.cn/47DXqrl   Customer Service\n",
       "953                                   哎，还有多少人被洗脑了 ​​​​   Customer Service\n",
       "954   幼儿园悬浮地板施工@买了保险十级伤残不赔付！到底是哪家保险这么拽？\\n     两名工人受了...  Customer Service\n",
       "965   在网易新闻论坛【新闻贴图】版下发表了话题为《中宏人寿保险有限客户如何退保/退钱 保险官网》的...  Customer Service\n",
       "967    【中宏理赔】转自同事： 感谢中宏保险公司，在一天时间内把我客户的重疾保险和医疗费费用共十六...  Customer Service\n",
       "974              中宏保险保险怎么申请退保,如何退出 http://t.cn/RPS1Ntv   Customer Service\n",
       "982   【什么是全球理赔】 关于买了保险，出国怎么？针对越来越多的客户在中宏保险投保，有些客户会担心...  Customer Service\n",
       "986   \\n中宏保险保险怎么申请退保,如何退出\\n \\n用户5240406173发布于2014年8月...  Customer Service\n",
       "988   \\n中宏保险保险怎么申请退保,如何退出\\n \\n用户5240406173发布于2014年8月...  Customer Service\n",
       "1014  这是中国保监会7月25日颁布的处罚报表。其中依然没有中宏保险的身影，近十年来在保监会收到的电...  Customer Service\n",
       "1015  这是中国保监会7月25日颁布的处罚报表。其中依然没有中宏保险的身影，近十年来在保监会收到的电...  Customer Service\n",
       "...                                                 ...               ...\n",
       "4600  在网易新闻论坛【新闻贴图】版下发表了话题为《中宏人寿保险退保后钱什么时候到帐-百度知道》的帖...  Customer Service\n",
       "4616  对话题为《中宏人寿保险公司怎么才能申请退保》的帖子回帖： http://163.fm/XNA...  Customer Service\n",
       "4648  我上传了：【视频：中宏保险-2014刘婧客户答谢会邀请函】|中宏保险-2014刘婧客户答谢会...  Customer Service\n",
       "4684  全球理赔案例-加拿大】客户在加拿大旅游时不慎被鱼刺卡住喉咙，拔根鱼刺花了800多加元，近期客...  Customer Service\n",
       "4686  【全球理赔案例-加拿大】客户短期外派加拿大工作期间不慎被鱼刺卡住喉咙，拔根鱼刺花了800多加...  Customer Service\n",
       "4720  【午间资讯】中宏保险99.7%的理赔2个工作日内完成，这就是中宏以客户为中心的服务理念的体现...  Customer Service\n",
       "4727  【理赔快讯】我的客户今天上午递交理赔申请书到公司，下午就获得理赔结果，可见理赔速度之快。信守...  Customer Service\n",
       "4768  【中宏保险，服务为先】他，在埃及车祸理赔到了175万，快速理赔，专业服务，深受感动，康复后毅...  Customer Service\n",
       "4769  您知道吗？国内保险公司都说大病险全球都可以理赔，但是您可以随意拨打某个公司的客服热线，咨询具...  Customer Service\n",
       "4776  [心]您知道吗？国内保险公司都说大病险全球都可以理赔，但是您可以随意拨打某个公司的客服热线，...  Customer Service\n",
       "4778  就医难，挂号难，预约专家更难！怎么办？中宏保险为您健康护航！免费领取专家预约，一对一私享服务...  Customer Service\n",
       "4781  【中宏保险】尊敬的张思明先生，恭喜您成功领取中宏人寿赠送的全国专家挂号预约服务（包括1年2次...  Customer Service\n",
       "4846                                【保险汇】保险公司的服务之道—中宏人寿  Customer Service\n",
       "4867  在网易新闻论坛【时事论坛】版下发表了话题为《中宏人寿保险怎么申请退保》的帖子 >>http:...  Customer Service\n",
       "4868  会有用么？[思考] btw, 中宏人寿的那位：你是打哪儿知道我的信息的呢? \\n   \\n\\...  Customer Service\n",
       "4966                   中宏人寿保险办理退保电话是多少?受 理,续 保 ,投 诉,分 红  Customer Service\n",
       "4972  在网易新闻论坛【中日关系】版下发表了话题为《中宏人寿保险怎么才能申请办理退保？请拨打:400...  Customer Service\n",
       "4994  发表了博文《医疗保险是骗人的--中宏保险拒赔记(亲身经历)》°医疗保险是骗人的--中宏保险拒...  Customer Service\n",
       "5018  【中宏保险】很多客户对小医疗理赔有疑虑，不分类理赔是最一目了然的，计划书上对应的典型理赔数据...  Customer Service\n",
       "5019                 【中宏保险】轻松理赔你我他，易变的岁月，不变的承诺 2无锡·滨湖区   Customer Service\n",
       "5204        #国际SOS救援服务#不管你人在地球的任何一个角落，一个电话，我与中宏随时为你服务！   Customer Service\n",
       "5210  【是退保好还是选择减额交清保额好？】据说知道这个问题的人都特别可爱~@华泰保险公司客服中心@...  Customer Service\n",
       "5211  你觉得这个回答怎么样？求验证~【是退保好还是选择减额交清保额好？】@华泰保险公司客服中心@中...  Customer Service\n",
       "5212  你觉得这个回答怎么样？求验证~【杭州新车自己去上牌流程 要交多少钱？】@华泰保险公司客服中心...  Customer Service\n",
       "5216  【请问在外地公司离职后，公司交的社保都给停了，至今已经三个多月了，还没找到新的公司，需要办什...  Customer Service\n",
       "5225  【中宏保险与众不同】 客户理赔案例：一位女性客户（39岁），在2015年投保了重大疾病保险，...  Customer Service\n",
       "5231  【这种情况是否属于交强险的理赔范围？】据说知道这个问题的人都特别可爱~@华泰保险公司客服中心...  Customer Service\n",
       "5232  寿险除外责任（免责）哪家强？？ 太平洋：12条 中国平安：8条 信诚人寿：3条 泰康人寿：8...  Customer Service\n",
       "5235  中宏保险简直就是骗人的，我保了一份7800元的一份保险，就退给我三百块钱，简直是吃人不吐骨头...  Customer Service\n",
       "5306  以下商业保险： 中国人寿、人保人寿、新华人寿、泰康人寿、太平人寿、太平洋人寿、平安人寿、阳光...  Customer Service\n",
       "\n",
       "[170 rows x 2 columns]"
      ]
     },
     "execution_count": 111,
     "metadata": {},
     "output_type": "execute_result"
    }
   ],
   "source": [
    "weibo[weibo['AREAS AFFECTED'] == 'Customer Service']"
   ]
  },
  {
   "cell_type": "markdown",
   "metadata": {},
   "source": [
    "# Sentiment data"
   ]
  },
  {
   "cell_type": "code",
   "execution_count": 76,
   "metadata": {
    "collapsed": true
   },
   "outputs": [],
   "source": [
    "weibo_m_s = weibo_m_o[['COMMENT','SENTIMENT']].dropna(axis=0, how = 'any')\n",
    "weibo_s = weibo_o[['COMMENT','SENTIMENT']].dropna(axis=0, how = 'any')\n",
    "wechat_s = wechat_o[['CONTENT','SENTIMENT']].dropna(axis=0, how = 'any')"
   ]
  },
  {
   "cell_type": "code",
   "execution_count": 77,
   "metadata": {
    "collapsed": true
   },
   "outputs": [],
   "source": [
    "weibo_m_s.columns = ['CONTENT','SENTIMENT']\n",
    "weibo_s.columns = ['CONTENT','SENTIMENT']"
   ]
  },
  {
   "cell_type": "code",
   "execution_count": 78,
   "metadata": {
    "collapsed": true
   },
   "outputs": [],
   "source": [
    "data = pd.concat([weibo_m_s,weibo_s,wechat_s])"
   ]
  },
  {
   "cell_type": "code",
   "execution_count": 79,
   "metadata": {
    "collapsed": true
   },
   "outputs": [],
   "source": [
    "data['CONTENT'] = data['CONTENT'].str.replace('\\n', '')\n",
    "data = data.reset_index(drop=True)"
   ]
  },
  {
   "cell_type": "code",
   "execution_count": 80,
   "metadata": {
    "collapsed": true
   },
   "outputs": [],
   "source": [
    "length = []\n",
    "for i in range(len(data)):\n",
    "    data['CONTENT'][i] = HanziConv.toSimplified(data['CONTENT'][i]).encode('utf-8')\n",
    "    length.append(len(data['CONTENT'][i]))\n",
    "length = np.array(length)"
   ]
  },
  {
   "cell_type": "code",
   "execution_count": 81,
   "metadata": {
    "collapsed": true
   },
   "outputs": [],
   "source": [
    "data = data[length <= 1000]"
   ]
  },
  {
   "cell_type": "code",
   "execution_count": 82,
   "metadata": {
    "collapsed": true
   },
   "outputs": [],
   "source": [
    "mypath = './data/processed/'\n",
    "if not os.path.exists(mypath):\n",
    "    os.makedirs(mypath)\n",
    "for the_file in os.listdir(mypath):\n",
    "    file_path = os.path.join(mypath, the_file)\n",
    "    try:\n",
    "        if os.path.isfile(file_path):\n",
    "            os.unlink(file_path)\n",
    "        #elif os.path.isdir(file_path): shutil.rmtree(file_path)\n",
    "    except Exception as e:\n",
    "        print(e)"
   ]
  },
  {
   "cell_type": "code",
   "execution_count": 83,
   "metadata": {
    "collapsed": true
   },
   "outputs": [],
   "source": [
    "for x in data['SENTIMENT'].unique():\n",
    "    np.savetxt(mypath+ x.replace('/',' ') +'.utf8',\\\n",
    "                   data[data['SENTIMENT'] == x]['CONTENT'].values, fmt='%s')"
   ]
  },
  {
   "cell_type": "code",
   "execution_count": 84,
   "metadata": {},
   "outputs": [
    {
     "data": {
      "text/plain": [
       "Neutral       12972\n",
       "Positive        447\n",
       "Irrelevant      253\n",
       "Negative        250\n",
       "Name: SENTIMENT, dtype: int64"
      ]
     },
     "execution_count": 84,
     "metadata": {},
     "output_type": "execute_result"
    }
   ],
   "source": [
    "data['SENTIMENT'].value_counts()"
   ]
  },
  {
   "cell_type": "code",
   "execution_count": 85,
   "metadata": {},
   "outputs": [
    {
     "data": {
      "text/plain": [
       "Neutral       12972\n",
       "Positive        447\n",
       "Irrelevant      253\n",
       "Negative        250\n",
       "Name: SENTIMENT, dtype: int64"
      ]
     },
     "execution_count": 85,
     "metadata": {},
     "output_type": "execute_result"
    }
   ],
   "source": [
    "data['SENTIMENT'].value_counts()"
   ]
  },
  {
   "cell_type": "code",
   "execution_count": 108,
   "metadata": {
    "collapsed": true
   },
   "outputs": [],
   "source": [
    "from gensim.models import Word2Vec\n",
    "w2vModel = Word2Vec.load('runs/trained_word2vec.model')"
   ]
  },
  {
   "cell_type": "code",
   "execution_count": 109,
   "metadata": {},
   "outputs": [
    {
     "data": {
      "text/plain": [
       "3967"
      ]
     },
     "execution_count": 109,
     "metadata": {},
     "output_type": "execute_result"
    }
   ],
   "source": [
    "len(w2vModel.wv.vocab)"
   ]
  },
  {
   "cell_type": "code",
   "execution_count": 89,
   "metadata": {
    "collapsed": true
   },
   "outputs": [],
   "source": [
    "from gensim.models import KeyedVectors\n",
    "w2vModel = KeyedVectors.load_word2vec_format('runs/wiki.zh.vec')"
   ]
  },
  {
   "cell_type": "code",
   "execution_count": 90,
   "metadata": {},
   "outputs": [
    {
     "name": "stdout",
     "output_type": "stream",
     "text": [
      "河北\n",
      "3038\n"
     ]
    }
   ],
   "source": [
    "vocab_obj = w2vModel.wv.vocab\n",
    "word = u'河北'\n",
    "print word\n",
    "print vocab_obj[word].index"
   ]
  },
  {
   "cell_type": "code",
   "execution_count": 94,
   "metadata": {},
   "outputs": [
    {
     "data": {
      "text/plain": [
       "array([80, 37, 63,  4,  9, 95, 97, 78, 86, 40, 75, 46, 13, 64, 50,  7, 93,\n",
       "       65, 55, 26, 83, 53, 32, 99, 39,  2, 31, 60, 52, 28, 23, 11, 81, 73,\n",
       "       48, 15, 33,  1, 19, 30, 56, 27,  6, 36, 61, 98, 42, 58, 82, 18, 49,\n",
       "       38, 12, 90, 35, 62, 17, 43, 91, 71,  8, 89, 79, 20, 14, 44, 41,  3,\n",
       "       84, 96, 21, 51, 68, 69, 47, 88, 24, 70, 45, 29, 25, 34, 66, 87, 22,\n",
       "       74,  0, 16, 67, 57, 94, 54, 59,  5, 92, 77, 85, 10, 72, 76])"
      ]
     },
     "execution_count": 94,
     "metadata": {},
     "output_type": "execute_result"
    }
   ],
   "source": [
    "np.random.permutation(np.arange(100))"
   ]
  },
  {
   "cell_type": "code",
   "execution_count": 34,
   "metadata": {},
   "outputs": [
    {
     "data": {
      "text/plain": [
       "1"
      ]
     },
     "execution_count": 34,
     "metadata": {},
     "output_type": "execute_result"
    }
   ],
   "source": [
    "np.sum(np.array([1,2]) == np.array([1,3]))"
   ]
  },
  {
   "cell_type": "code",
   "execution_count": null,
   "metadata": {
    "collapsed": true
   },
   "outputs": [],
   "source": []
  }
 ],
 "metadata": {
  "kernelspec": {
   "display_name": "Python 2",
   "language": "python",
   "name": "python2"
  },
  "language_info": {
   "codemirror_mode": {
    "name": "ipython",
    "version": 2
   },
   "file_extension": ".py",
   "mimetype": "text/x-python",
   "name": "python",
   "nbconvert_exporter": "python",
   "pygments_lexer": "ipython2",
   "version": "2.7.13"
  }
 },
 "nbformat": 4,
 "nbformat_minor": 2
}
