{
 "cells": [
  {
   "cell_type": "code",
   "execution_count": 95,
   "metadata": {
    "collapsed": true
   },
   "outputs": [],
   "source": [
    "import pandas as pd\n",
    "import numpy as np\n",
    "import re\n",
    "import os\n",
    "from os import listdir\n",
    "from os.path import isfile, join\n",
    "import data_helpers\n",
    "from hanziconv import HanziConv\n",
    "import shutil"
   ]
  },
  {
   "cell_type": "code",
   "execution_count": 96,
   "metadata": {
    "collapsed": true
   },
   "outputs": [],
   "source": [
    "weibo_m_o = pd.read_csv('./data/Weibo_M.csv')\n",
    "weibo_o = pd.read_csv('./data/Weibo.csv')\n",
    "wechat_o = pd.read_csv('./data/Wechat.csv')\n",
    "news_forum_o = pd.read_csv('./data/News_forum.csv')\n",
    "dianping = pd.read_csv('./data/dianping135.csv')\n",
    "#dianping = pd.read_csv('./data/dianping_full.csv')"
   ]
  },
  {
   "cell_type": "code",
   "execution_count": 97,
   "metadata": {
    "collapsed": true
   },
   "outputs": [],
   "source": [
    "# dianping_pos = dianping[dianping['rate']>4]\n",
    "# dianping_pos['SENTIMENT'] = 'Positive'\n",
    "# dianping_neg = dianping[dianping['rate']<2]\n",
    "# dianping_neg['SENTIMENT'] = 'Negative'\n",
    "# dianping_neu = dianping[dianping['rate']==3]\n",
    "# dianping_neu['SENTIMENT'] = 'Neutral'\n",
    "# dianping = pd.concat([dianping_pos,dianping_neg,dianping_neu])"
   ]
  },
  {
   "cell_type": "code",
   "execution_count": 98,
   "metadata": {
    "collapsed": true
   },
   "outputs": [],
   "source": [
    "# dianping = dianping[['content','SENTIMENT']].dropna(axis=0, how = 'any')\n",
    "# dianping.columns = ['CONTENT','SENTIMENT']\n",
    "# dianping['CONTENT'] = dianping['CONTENT'].str.replace('\\n', '')\n",
    "# dianping = dianping.reset_index(drop=True)\n",
    "# dianping.to_csv('./data/dianping.csv',encoding = 'utf-8',index=False)\n",
    "# dianping = pd.read_csv('./data/dianping.csv')"
   ]
  },
  {
   "cell_type": "code",
   "execution_count": 99,
   "metadata": {
    "collapsed": true
   },
   "outputs": [],
   "source": [
    "dianping = dianping.reset_index(drop=True)\n",
    "shuffle_indices = np.random.permutation(np.arange(len(dianping)))\n",
    "dianping = dianping.loc[shuffle_indices]\n",
    "dianping = pd.concat([dianping[dianping.SENTIMENT == 'Positive'][:10000],\n",
    "                      dianping[dianping.SENTIMENT == 'Negative'][:10000],\n",
    "                      dianping[dianping.SENTIMENT == 'Neutral'][:10000]\n",
    "                    ])"
   ]
  },
  {
   "cell_type": "markdown",
   "metadata": {},
   "source": [
    "# Sentiment data"
   ]
  },
  {
   "cell_type": "code",
   "execution_count": 100,
   "metadata": {
    "collapsed": true
   },
   "outputs": [],
   "source": [
    "weibo_m_s = weibo_m_o[['COMMENT','SENTIMENT']].dropna(axis=0, how = 'any')\n",
    "weibo_s = weibo_o[['COMMENT','SENTIMENT']].dropna(axis=0, how = 'any')\n",
    "wechat_s = wechat_o[['CONTENT','SENTIMENT']].dropna(axis=0, how = 'any')"
   ]
  },
  {
   "cell_type": "code",
   "execution_count": 101,
   "metadata": {
    "collapsed": true
   },
   "outputs": [],
   "source": [
    "weibo_m_s.columns = ['CONTENT','SENTIMENT']\n",
    "weibo_s.columns = ['CONTENT','SENTIMENT']"
   ]
  },
  {
   "cell_type": "code",
   "execution_count": 102,
   "metadata": {
    "collapsed": true
   },
   "outputs": [],
   "source": [
    "data = pd.concat([weibo_m_s,weibo_s,wechat_s])"
   ]
  },
  {
   "cell_type": "code",
   "execution_count": 103,
   "metadata": {
    "collapsed": true
   },
   "outputs": [],
   "source": [
    "data['CONTENT'] = data['CONTENT'].str.replace('\\n', '')\n",
    "data = data.reset_index(drop=True)"
   ]
  },
  {
   "cell_type": "code",
   "execution_count": 104,
   "metadata": {
    "collapsed": true
   },
   "outputs": [],
   "source": [
    "length = []\n",
    "for i in range(len(data)):\n",
    "    data['CONTENT'][i] = HanziConv.toSimplified(data['CONTENT'][i]).encode('utf-8')\n",
    "    length.append(len(data['CONTENT'][i]))\n",
    "    if data['SENTIMENT'][i] == 'Irrelevant':\n",
    "        data['SENTIMENT'][i] = 'Neutral'\n",
    "length = np.array(length)"
   ]
  },
  {
   "cell_type": "code",
   "execution_count": null,
   "metadata": {
    "collapsed": true
   },
   "outputs": [],
   "source": []
  },
  {
   "cell_type": "code",
   "execution_count": 172,
   "metadata": {
    "collapsed": true
   },
   "outputs": [],
   "source": [
    "from sklearn.model_selection import train_test_split\n",
    "\n",
    "dev, test = train_test_split(data, test_size=0.2, random_state = 100)"
   ]
  },
  {
   "cell_type": "code",
   "execution_count": 173,
   "metadata": {},
   "outputs": [
    {
     "data": {
      "text/html": [
       "<div>\n",
       "<style>\n",
       "    .dataframe thead tr:only-child th {\n",
       "        text-align: right;\n",
       "    }\n",
       "\n",
       "    .dataframe thead th {\n",
       "        text-align: left;\n",
       "    }\n",
       "\n",
       "    .dataframe tbody tr th {\n",
       "        vertical-align: top;\n",
       "    }\n",
       "</style>\n",
       "<table border=\"1\" class=\"dataframe\">\n",
       "  <thead>\n",
       "    <tr style=\"text-align: right;\">\n",
       "      <th></th>\n",
       "      <th>CONTENT</th>\n",
       "      <th>SENTIMENT</th>\n",
       "    </tr>\n",
       "  </thead>\n",
       "  <tbody>\n",
       "    <tr>\n",
       "      <th>4777</th>\n",
       "      <td>转发微博◆◆@中宏保险一个人即使没有钱，也可以给予别人五样东西。第一，颜施，你可以用微笑与别...</td>\n",
       "      <td>Neutral</td>\n",
       "    </tr>\n",
       "    <tr>\n",
       "      <th>2784</th>\n",
       "      <td>转发微博   @中宏保险【静夜心语】智慧，其实是两个词，由智和慧构成。急中生智，定静生慧；智...</td>\n",
       "      <td>Neutral</td>\n",
       "    </tr>\n",
       "    <tr>\n",
       "      <th>8361</th>\n",
       "      <td>加入中宏保险有三个月了。真的很开心有这样的团队。这样同事朋友。以后我会更加努力完善自己。把保...</td>\n",
       "      <td>Neutral</td>\n",
       "    </tr>\n",
       "    <tr>\n",
       "      <th>13610</th>\n",
       "      <td>2015年1-6月人身保险公司原保险保费收入情况表单位：万元资本结构序号公司名称原保险保费收...</td>\n",
       "      <td>Neutral</td>\n",
       "    </tr>\n",
       "    <tr>\n",
       "      <th>978</th>\n",
       "      <td>#NBA5v5# 恭喜来自宝岛台湾的GDS拿下南京站的分区冠军，期待北京站我星奥恒和联队出场...</td>\n",
       "      <td>Neutral</td>\n",
       "    </tr>\n",
       "    <tr>\n",
       "      <th>6559</th>\n",
       "      <td>转发微博@中宏保险 【给孩子买什么保险好？八个要点不容忽视】①不要认为为孩子购买意外险或者重...</td>\n",
       "      <td>Neutral</td>\n",
       "    </tr>\n",
       "    <tr>\n",
       "      <th>13016</th>\n",
       "      <td>购买教育金的建议1、先重保障后重教育：很多父母花大量资金为孩子购买教育金保险，却不购买或疏于...</td>\n",
       "      <td>Neutral</td>\n",
       "    </tr>\n",
       "    <tr>\n",
       "      <th>13554</th>\n",
       "      <td>【“第一家”国有保险公司成立】　　1949年10月20日，中国人民保险公司在北京成立，标志着...</td>\n",
       "      <td>Neutral</td>\n",
       "    </tr>\n",
       "    <tr>\n",
       "      <th>942</th>\n",
       "      <td>转发微博@加拿大大使馆官方微博来自加拿大的的 @中宏保险 ，被上海市政府评选获得2016年...</td>\n",
       "      <td>Positive</td>\n",
       "    </tr>\n",
       "    <tr>\n",
       "      <th>12527</th>\n",
       "      <td>2016年4月26日，中国保监会发布《2016年1-3月人身保险公司原保险保费收入情况表》，...</td>\n",
       "      <td>Neutral</td>\n",
       "    </tr>\n",
       "    <tr>\n",
       "      <th>4971</th>\n",
       "      <td>转发微博◆◆@中宏保险【关注女性保障】20－30岁的年轻未婚女性，身体状况较好，是投保的最佳...</td>\n",
       "      <td>Neutral</td>\n",
       "    </tr>\n",
       "    <tr>\n",
       "      <th>11046</th>\n",
       "      <td>组合智慧，中宏与你共创未来！ 五月八日晚上七点半至九点半，中宏保险四川分公司邀请母公司加拿大...</td>\n",
       "      <td>Neutral</td>\n",
       "    </tr>\n",
       "    <tr>\n",
       "      <th>75</th>\n",
       "      <td>等大图！ @天使且珍惜 @中国太平洋保险 @中宏保险 @央视新闻 @人民网 @josee-y...</td>\n",
       "      <td>Neutral</td>\n",
       "    </tr>\n",
       "    <tr>\n",
       "      <th>533</th>\n",
       "      <td>转发微博 @中宏保险 “打鼾”严重会让慢性病发病风险翻倍!在某种程度上，打唿噜是睡眠障碍的一...</td>\n",
       "      <td>Neutral</td>\n",
       "    </tr>\n",
       "    <tr>\n",
       "      <th>14023</th>\n",
       "      <td>2015年6月29日，中国保监会官网发布“2015年1-5月人身保险公司原保险保费收入情况表...</td>\n",
       "      <td>Neutral</td>\n",
       "    </tr>\n",
       "    <tr>\n",
       "      <th>1142</th>\n",
       "      <td>转发微博@中宏保险人生最重要的不仅是努力，还有方向。压力不是有人比你努力，而是比你优秀几倍的...</td>\n",
       "      <td>Neutral</td>\n",
       "    </tr>\n",
       "    <tr>\n",
       "      <th>3159</th>\n",
       "      <td>这里沟通吧我会投诉到底的</td>\n",
       "      <td>Negative</td>\n",
       "    </tr>\n",
       "    <tr>\n",
       "      <th>4948</th>\n",
       "      <td>这个测试还挺准的，测你的【爱情塔罗牌】的，你们有兴趣可以玩玩看&gt;&gt; @韩珂echo,@Tri...</td>\n",
       "      <td>Neutral</td>\n",
       "    </tr>\n",
       "    <tr>\n",
       "      <th>9050</th>\n",
       "      <td>#WE公益•衣暖童心# 随手公益黔西南的志愿者与中宏保险和圆通速递的志愿者 2015-01-...</td>\n",
       "      <td>Neutral</td>\n",
       "    </tr>\n",
       "    <tr>\n",
       "      <th>1588</th>\n",
       "      <td>中宏保险的服务太垃圾！6年前老婆作为投保人给自己和孩子分别投保了长保无忧，一直连续缴费，今年...</td>\n",
       "      <td>Negative</td>\n",
       "    </tr>\n",
       "    <tr>\n",
       "      <th>5010</th>\n",
       "      <td>转发微博◆◆@中宏保险家庭保障四个一：男人投保要舍得一点。据调查显示，只有约5%男性是为自己...</td>\n",
       "      <td>Neutral</td>\n",
       "    </tr>\n",
       "    <tr>\n",
       "      <th>4977</th>\n",
       "      <td>转发微博◆◆@中宏保险烧伤、烫伤、气管异物等是儿童常见的意外，涵盖此类意外情况保障的意外险可...</td>\n",
       "      <td>Neutral</td>\n",
       "    </tr>\n",
       "    <tr>\n",
       "      <th>8368</th>\n",
       "      <td>中宏人寿保险有限公司是国内首家中外合资 人寿保险 公司，由加拿大宏利金融旗下的宏利人寿保险（...</td>\n",
       "      <td>Neutral</td>\n",
       "    </tr>\n",
       "    <tr>\n",
       "      <th>10924</th>\n",
       "      <td>浙江中宏保险排名居外资保险之首！</td>\n",
       "      <td>Neutral</td>\n",
       "    </tr>\n",
       "    <tr>\n",
       "      <th>13571</th>\n",
       "      <td>首批以房养老产品在投保时需要得到投保老人子女或者继承人的同意，此外给付的养老金固定，老人无法...</td>\n",
       "      <td>Neutral</td>\n",
       "    </tr>\n",
       "    <tr>\n",
       "      <th>7410</th>\n",
       "      <td>盐城中宏保险公司老总猝死之谜团。http://url.cn/Os6Lwf</td>\n",
       "      <td>Neutral</td>\n",
       "    </tr>\n",
       "    <tr>\n",
       "      <th>12944</th>\n",
       "      <td>睿智人生 财富生活苏州宝信全新BMW 5系品鉴会中宏保险专场邀您品鉴！</td>\n",
       "      <td>Neutral</td>\n",
       "    </tr>\n",
       "    <tr>\n",
       "      <th>10354</th>\n",
       "      <td>刚得到消息盐城中宏人寿老总李勇 ，中午因不舒服在医院输液，下午二点在医院猝死，生命永远定格在...</td>\n",
       "      <td>Neutral</td>\n",
       "    </tr>\n",
       "    <tr>\n",
       "      <th>651</th>\n",
       "      <td>转发微博@中宏保险 【健康保健】酷暑季节，为防冷气侵害，应注意室内外的温差不宜过大，以不超过...</td>\n",
       "      <td>Neutral</td>\n",
       "    </tr>\n",
       "    <tr>\n",
       "      <th>2304</th>\n",
       "      <td>正能量[心]//@EXO吧微博:广东的L棒棒哒，每个人前进一小步，社会前进一大步[good]...</td>\n",
       "      <td>Neutral</td>\n",
       "    </tr>\n",
       "    <tr>\n",
       "      <th>...</th>\n",
       "      <td>...</td>\n",
       "      <td>...</td>\n",
       "    </tr>\n",
       "    <tr>\n",
       "      <th>12833</th>\n",
       "      <td>中宏人寿北京分公司 耿佳耿佳有着10年的教师职业生涯和8年的保险从业经历，乘着北京奥运会的东...</td>\n",
       "      <td>Neutral</td>\n",
       "    </tr>\n",
       "    <tr>\n",
       "      <th>1662</th>\n",
       "      <td>转发微博@中宏保险人生有两种境界：一是痛而不言，二是笑而不语。痛而不言是一种智慧，人生在世，...</td>\n",
       "      <td>Neutral</td>\n",
       "    </tr>\n",
       "    <tr>\n",
       "      <th>5054</th>\n",
       "      <td>谢谢@中宏保险 今天下午，思源绿舟救援队前方队员平安归来，谢谢你们的关爱和保障！@中宏保险#...</td>\n",
       "      <td>Neutral</td>\n",
       "    </tr>\n",
       "    <tr>\n",
       "      <th>12242</th>\n",
       "      <td>中宏保险 MOVE计划 全新保险概念  成为中宏保险MOVE会员，免费申领智能手环，记录每日...</td>\n",
       "      <td>Neutral</td>\n",
       "    </tr>\n",
       "    <tr>\n",
       "      <th>6694</th>\n",
       "      <td>转发微博  @中宏保险9月1日，香港流行歌手@周柏豪Pakho 现身中宏保险#MOVE计划#...</td>\n",
       "      <td>Neutral</td>\n",
       "    </tr>\n",
       "    <tr>\n",
       "      <th>1366</th>\n",
       "      <td>特别感谢小伙伴@赱猫步德鸡腿 的礼物，虽不是什么价值连城的宝物，但这份心思难能可贵，我懂的！...</td>\n",
       "      <td>Positive</td>\n",
       "    </tr>\n",
       "    <tr>\n",
       "      <th>4003</th>\n",
       "      <td>转发微博@中宏保险愿意吃亏的人，终究吃不了亏，吃亏多了，总有厚报；爱占便宜的人，定是占不了便...</td>\n",
       "      <td>Neutral</td>\n",
       "    </tr>\n",
       "    <tr>\n",
       "      <th>5337</th>\n",
       "      <td>转发微博@中宏保险不是为人山人海的名胜，只为怡然自得的街景。或走或停，原则就是去看心情。没有...</td>\n",
       "      <td>Neutral</td>\n",
       "    </tr>\n",
       "    <tr>\n",
       "      <th>12770</th>\n",
       "      <td>2015年8月25日，中国保监会发布“2015年1-7月人身保险公司原保险保费收入情况表”，...</td>\n",
       "      <td>Neutral</td>\n",
       "    </tr>\n",
       "    <tr>\n",
       "      <th>5688</th>\n",
       "      <td>转发微博@中宏保险 摔跤了，不要哭，再爬起来，站直一笑，拍拍尘灰，继续奔跑。正视人生的每一个...</td>\n",
       "      <td>Neutral</td>\n",
       "    </tr>\n",
       "    <tr>\n",
       "      <th>9463</th>\n",
       "      <td>堆起多彩的积木，堆起一份快乐；攀爬美丽的滑梯，滑去一点忧伤；描绘美丽的图画，绘出一种精彩；哼...</td>\n",
       "      <td>Neutral</td>\n",
       "    </tr>\n",
       "    <tr>\n",
       "      <th>2953</th>\n",
       "      <td>作为宏利人 自豪啊评论我的微博：北京时间7月22日晚，美国《财富》杂志发布2015“世界50...</td>\n",
       "      <td>Positive</td>\n",
       "    </tr>\n",
       "    <tr>\n",
       "      <th>3784</th>\n",
       "      <td>[笑哈哈][笑哈哈][笑哈哈]@中宏保险感恩是一种善行，我们要感恩一切善待自己的人，感恩世间...</td>\n",
       "      <td>Neutral</td>\n",
       "    </tr>\n",
       "    <tr>\n",
       "      <th>15613</th>\n",
       "      <td>北京2008年奥运会寿险合作伙伴—中宏人寿保险有限公司在2006年时与中国跆拳道协会正式签约...</td>\n",
       "      <td>Neutral</td>\n",
       "    </tr>\n",
       "    <tr>\n",
       "      <th>12160</th>\n",
       "      <td>太激动了，加拿大总理贾斯廷·特鲁多（Justin Trudeau）莅临，为@中宏保险 二十周...</td>\n",
       "      <td>Neutral</td>\n",
       "    </tr>\n",
       "    <tr>\n",
       "      <th>81</th>\n",
       "      <td>转发微博 @中宏保险 【健康养生】温暖春天吃啥养生？1、红枣等养脾甜食：春季宜少吃酸，多吃甜...</td>\n",
       "      <td>Neutral</td>\n",
       "    </tr>\n",
       "    <tr>\n",
       "      <th>1963</th>\n",
       "      <td>@中宏保险 宏图家族在黄土敬老院不一样的元宵节！ ​   &gt;</td>\n",
       "      <td>Neutral</td>\n",
       "    </tr>\n",
       "    <tr>\n",
       "      <th>6538</th>\n",
       "      <td>明天肯定会变得更好，加油@中宏保险 【静夜心语】1.也许今天你过得很糟，但是明天总会是崭新的...</td>\n",
       "      <td>Neutral</td>\n",
       "    </tr>\n",
       "    <tr>\n",
       "      <th>10579</th>\n",
       "      <td>外企一般都知道国际标准普尔重要，而中宏却获得AAA http://t.cn/8kRRSnX</td>\n",
       "      <td>Positive</td>\n",
       "    </tr>\n",
       "    <tr>\n",
       "      <th>10817</th>\n",
       "      <td>中宏保险母公司外方股东---宏利金融近两年在香港市场的表现！/强/强/强百年宏利、值得信赖！...</td>\n",
       "      <td>Positive</td>\n",
       "    </tr>\n",
       "    <tr>\n",
       "      <th>15588</th>\n",
       "      <td>03高端配置，可以接受每年超过1万元的保费支出意外险：仍需要，可以解决简单的医疗支出，特别是...</td>\n",
       "      <td>Neutral</td>\n",
       "    </tr>\n",
       "    <tr>\n",
       "      <th>13334</th>\n",
       "      <td>2016年有8家外资寿险被监管罚款，共处罚138.3万元，包括信诚人寿、中英人寿、君龙人寿、...</td>\n",
       "      <td>Negative</td>\n",
       "    </tr>\n",
       "    <tr>\n",
       "      <th>7155</th>\n",
       "      <td>卖保险的，自己健康不保险，有啥用？/快哭了/快哭了盐城市中宏人寿保险老总李勇，前天中午不舒服...</td>\n",
       "      <td>Neutral</td>\n",
       "    </tr>\n",
       "    <tr>\n",
       "      <th>6464</th>\n",
       "      <td>爱心[去旅行]评论我的微博：寒风凛冽，唯爱能让暖意加身！2015年，久违的#衣暖童心#再次启...</td>\n",
       "      <td>Neutral</td>\n",
       "    </tr>\n",
       "    <tr>\n",
       "      <th>9493</th>\n",
       "      <td>诚信、严谨、高效、专注、双赢!中宏保险</td>\n",
       "      <td>Neutral</td>\n",
       "    </tr>\n",
       "    <tr>\n",
       "      <th>3441</th>\n",
       "      <td>转发微博@中宏保险【保险十大黄金价值】病有所医、老有所养、壮有所依、钱有所积、幼有所护、产有...</td>\n",
       "      <td>Neutral</td>\n",
       "    </tr>\n",
       "    <tr>\n",
       "      <th>13094</th>\n",
       "      <td>那么究竟如何才能在现实生活中拥有值得期待的美好生活中宏保险最新推出的金睿世家理财保险计划，让...</td>\n",
       "      <td>Neutral</td>\n",
       "    </tr>\n",
       "    <tr>\n",
       "      <th>11722</th>\n",
       "      <td>由21世纪传媒和《21世纪经济报道》联合主办的“第十一届中国最佳品牌建设案例（金象奖）”评选...</td>\n",
       "      <td>Positive</td>\n",
       "    </tr>\n",
       "    <tr>\n",
       "      <th>5526</th>\n",
       "      <td>～～～～～～～～～汇： @中宏保险#衣暖童心#11月1日，中宏淄博中心支公司联合淄博电视台生...</td>\n",
       "      <td>Neutral</td>\n",
       "    </tr>\n",
       "    <tr>\n",
       "      <th>2505</th>\n",
       "      <td>转发微博@中宏保险如果我办得到，我一定要把保险这两个字写在家家户户的门上，以及每一位公务员的...</td>\n",
       "      <td>Neutral</td>\n",
       "    </tr>\n",
       "  </tbody>\n",
       "</table>\n",
       "<p>3125 rows × 2 columns</p>\n",
       "</div>"
      ],
      "text/plain": [
       "                                                 CONTENT SENTIMENT\n",
       "4777   转发微博◆◆@中宏保险一个人即使没有钱，也可以给予别人五样东西。第一，颜施，你可以用微笑与别...   Neutral\n",
       "2784   转发微博   @中宏保险【静夜心语】智慧，其实是两个词，由智和慧构成。急中生智，定静生慧；智...   Neutral\n",
       "8361   加入中宏保险有三个月了。真的很开心有这样的团队。这样同事朋友。以后我会更加努力完善自己。把保...   Neutral\n",
       "13610  2015年1-6月人身保险公司原保险保费收入情况表单位：万元资本结构序号公司名称原保险保费收...   Neutral\n",
       "978    #NBA5v5# 恭喜来自宝岛台湾的GDS拿下南京站的分区冠军，期待北京站我星奥恒和联队出场...   Neutral\n",
       "6559   转发微博@中宏保险 【给孩子买什么保险好？八个要点不容忽视】①不要认为为孩子购买意外险或者重...   Neutral\n",
       "13016  购买教育金的建议1、先重保障后重教育：很多父母花大量资金为孩子购买教育金保险，却不购买或疏于...   Neutral\n",
       "13554  【“第一家”国有保险公司成立】　　1949年10月20日，中国人民保险公司在北京成立，标志着...   Neutral\n",
       "942     转发微博@加拿大大使馆官方微博来自加拿大的的 @中宏保险 ，被上海市政府评选获得2016年...  Positive\n",
       "12527  2016年4月26日，中国保监会发布《2016年1-3月人身保险公司原保险保费收入情况表》，...   Neutral\n",
       "4971   转发微博◆◆@中宏保险【关注女性保障】20－30岁的年轻未婚女性，身体状况较好，是投保的最佳...   Neutral\n",
       "11046  组合智慧，中宏与你共创未来！ 五月八日晚上七点半至九点半，中宏保险四川分公司邀请母公司加拿大...   Neutral\n",
       "75     等大图！ @天使且珍惜 @中国太平洋保险 @中宏保险 @央视新闻 @人民网 @josee-y...   Neutral\n",
       "533    转发微博 @中宏保险 “打鼾”严重会让慢性病发病风险翻倍!在某种程度上，打唿噜是睡眠障碍的一...   Neutral\n",
       "14023  2015年6月29日，中国保监会官网发布“2015年1-5月人身保险公司原保险保费收入情况表...   Neutral\n",
       "1142   转发微博@中宏保险人生最重要的不仅是努力，还有方向。压力不是有人比你努力，而是比你优秀几倍的...   Neutral\n",
       "3159                                        这里沟通吧我会投诉到底的  Negative\n",
       "4948   这个测试还挺准的，测你的【爱情塔罗牌】的，你们有兴趣可以玩玩看>> @韩珂echo,@Tri...   Neutral\n",
       "9050   #WE公益•衣暖童心# 随手公益黔西南的志愿者与中宏保险和圆通速递的志愿者 2015-01-...   Neutral\n",
       "1588   中宏保险的服务太垃圾！6年前老婆作为投保人给自己和孩子分别投保了长保无忧，一直连续缴费，今年...  Negative\n",
       "5010   转发微博◆◆@中宏保险家庭保障四个一：男人投保要舍得一点。据调查显示，只有约5%男性是为自己...   Neutral\n",
       "4977   转发微博◆◆@中宏保险烧伤、烫伤、气管异物等是儿童常见的意外，涵盖此类意外情况保障的意外险可...   Neutral\n",
       "8368   中宏人寿保险有限公司是国内首家中外合资 人寿保险 公司，由加拿大宏利金融旗下的宏利人寿保险（...   Neutral\n",
       "10924                                   浙江中宏保险排名居外资保险之首！   Neutral\n",
       "13571  首批以房养老产品在投保时需要得到投保老人子女或者继承人的同意，此外给付的养老金固定，老人无法...   Neutral\n",
       "7410               盐城中宏保险公司老总猝死之谜团。http://url.cn/Os6Lwf    Neutral\n",
       "12944                睿智人生 财富生活苏州宝信全新BMW 5系品鉴会中宏保险专场邀您品鉴！   Neutral\n",
       "10354  刚得到消息盐城中宏人寿老总李勇 ，中午因不舒服在医院输液，下午二点在医院猝死，生命永远定格在...   Neutral\n",
       "651    转发微博@中宏保险 【健康保健】酷暑季节，为防冷气侵害，应注意室内外的温差不宜过大，以不超过...   Neutral\n",
       "2304   正能量[心]//@EXO吧微博:广东的L棒棒哒，每个人前进一小步，社会前进一大步[good]...   Neutral\n",
       "...                                                  ...       ...\n",
       "12833  中宏人寿北京分公司 耿佳耿佳有着10年的教师职业生涯和8年的保险从业经历，乘着北京奥运会的东...   Neutral\n",
       "1662   转发微博@中宏保险人生有两种境界：一是痛而不言，二是笑而不语。痛而不言是一种智慧，人生在世，...   Neutral\n",
       "5054   谢谢@中宏保险 今天下午，思源绿舟救援队前方队员平安归来，谢谢你们的关爱和保障！@中宏保险#...   Neutral\n",
       "12242  中宏保险 MOVE计划 全新保险概念  成为中宏保险MOVE会员，免费申领智能手环，记录每日...   Neutral\n",
       "6694   转发微博  @中宏保险9月1日，香港流行歌手@周柏豪Pakho 现身中宏保险#MOVE计划#...   Neutral\n",
       "1366   特别感谢小伙伴@赱猫步德鸡腿 的礼物，虽不是什么价值连城的宝物，但这份心思难能可贵，我懂的！...  Positive\n",
       "4003   转发微博@中宏保险愿意吃亏的人，终究吃不了亏，吃亏多了，总有厚报；爱占便宜的人，定是占不了便...   Neutral\n",
       "5337   转发微博@中宏保险不是为人山人海的名胜，只为怡然自得的街景。或走或停，原则就是去看心情。没有...   Neutral\n",
       "12770  2015年8月25日，中国保监会发布“2015年1-7月人身保险公司原保险保费收入情况表”，...   Neutral\n",
       "5688   转发微博@中宏保险 摔跤了，不要哭，再爬起来，站直一笑，拍拍尘灰，继续奔跑。正视人生的每一个...   Neutral\n",
       "9463   堆起多彩的积木，堆起一份快乐；攀爬美丽的滑梯，滑去一点忧伤；描绘美丽的图画，绘出一种精彩；哼...   Neutral\n",
       "2953   作为宏利人 自豪啊评论我的微博：北京时间7月22日晚，美国《财富》杂志发布2015“世界50...  Positive\n",
       "3784   [笑哈哈][笑哈哈][笑哈哈]@中宏保险感恩是一种善行，我们要感恩一切善待自己的人，感恩世间...   Neutral\n",
       "15613  北京2008年奥运会寿险合作伙伴—中宏人寿保险有限公司在2006年时与中国跆拳道协会正式签约...   Neutral\n",
       "12160  太激动了，加拿大总理贾斯廷·特鲁多（Justin Trudeau）莅临，为@中宏保险 二十周...   Neutral\n",
       "81     转发微博 @中宏保险 【健康养生】温暖春天吃啥养生？1、红枣等养脾甜食：春季宜少吃酸，多吃甜...   Neutral\n",
       "1963            @中宏保险 宏图家族在黄土敬老院不一样的元宵节！ ​   >             Neutral\n",
       "6538   明天肯定会变得更好，加油@中宏保险 【静夜心语】1.也许今天你过得很糟，但是明天总会是崭新的...   Neutral\n",
       "10579     外企一般都知道国际标准普尔重要，而中宏却获得AAA http://t.cn/8kRRSnX   Positive\n",
       "10817  中宏保险母公司外方股东---宏利金融近两年在香港市场的表现！/强/强/强百年宏利、值得信赖！...  Positive\n",
       "15588  03高端配置，可以接受每年超过1万元的保费支出意外险：仍需要，可以解决简单的医疗支出，特别是...   Neutral\n",
       "13334  2016年有8家外资寿险被监管罚款，共处罚138.3万元，包括信诚人寿、中英人寿、君龙人寿、...  Negative\n",
       "7155   卖保险的，自己健康不保险，有啥用？/快哭了/快哭了盐城市中宏人寿保险老总李勇，前天中午不舒服...   Neutral\n",
       "6464   爱心[去旅行]评论我的微博：寒风凛冽，唯爱能让暖意加身！2015年，久违的#衣暖童心#再次启...   Neutral\n",
       "9493                                诚信、严谨、高效、专注、双赢!中宏保险    Neutral\n",
       "3441   转发微博@中宏保险【保险十大黄金价值】病有所医、老有所养、壮有所依、钱有所积、幼有所护、产有...   Neutral\n",
       "13094  那么究竟如何才能在现实生活中拥有值得期待的美好生活中宏保险最新推出的金睿世家理财保险计划，让...   Neutral\n",
       "11722  由21世纪传媒和《21世纪经济报道》联合主办的“第十一届中国最佳品牌建设案例（金象奖）”评选...  Positive\n",
       "5526   ～～～～～～～～～汇： @中宏保险#衣暖童心#11月1日，中宏淄博中心支公司联合淄博电视台生...   Neutral\n",
       "2505   转发微博@中宏保险如果我办得到，我一定要把保险这两个字写在家家户户的门上，以及每一位公务员的...   Neutral\n",
       "\n",
       "[3125 rows x 2 columns]"
      ]
     },
     "execution_count": 173,
     "metadata": {},
     "output_type": "execute_result"
    }
   ],
   "source": [
    "test"
   ]
  },
  {
   "cell_type": "code",
   "execution_count": 174,
   "metadata": {
    "collapsed": true
   },
   "outputs": [],
   "source": [
    "testing_folder = './data/processed/testing/'\n",
    "if not os.path.exists(testing_folder):\n",
    "    os.makedirs(testing_folder)\n",
    "for the_file in os.listdir(testing_folder):\n",
    "    file_path = os.path.join(testing_folder, the_file)\n",
    "    try:\n",
    "        if os.path.isfile(file_path):\n",
    "            os.unlink(file_path)\n",
    "        #elif os.path.isdir(file_path): shutil.rmtree(file_path)\n",
    "    except Exception as e:\n",
    "        print(e)\n",
    "train_folder = './data/processed/training/'\n",
    "if not os.path.exists(train_folder):\n",
    "    os.makedirs(train_folder)\n",
    "for the_file in os.listdir(train_folder):\n",
    "    file_path = os.path.join(train_folder, the_file)\n",
    "    try:\n",
    "        if os.path.isfile(file_path):\n",
    "            os.unlink(file_path)\n",
    "        #elif os.path.isdir(file_path): shutil.rmtree(file_path)\n",
    "    except Exception as e:\n",
    "        print(e)\n",
    "        \n",
    "dianping_folder = './data/processed/training/dianping/'\n",
    "if not os.path.exists(dianping_folder):\n",
    "    os.makedirs(dianping_folder)\n",
    "for the_file in os.listdir(dianping_folder):\n",
    "    file_path = os.path.join(dianping_folder, the_file)\n",
    "    try:\n",
    "        if os.path.isfile(file_path):\n",
    "            os.unlink(file_path)\n",
    "        #elif os.path.isdir(file_path): shutil.rmtree(file_path)\n",
    "    except Exception as e:\n",
    "        print(e)\n",
    "snownlp_folder = './data/processed/training/snownlp/'\n",
    "if not os.path.exists(snownlp_folder):\n",
    "    os.makedirs(snownlp_folder)\n",
    "for the_file in os.listdir(snownlp_folder):\n",
    "    file_path = os.path.join(snownlp_folder, the_file)\n",
    "    try:\n",
    "        if os.path.isfile(file_path):\n",
    "            os.unlink(file_path)\n",
    "        #elif os.path.isdir(file_path): shutil.rmtree(file_path)\n",
    "    except Exception as e:\n",
    "        print(e)\n",
    "dev_folder = './data/processed/validation/'\n",
    "if not os.path.exists(dev_folder):\n",
    "    os.makedirs(dev_folder)\n",
    "for the_file in os.listdir(dev_folder):\n",
    "    file_path = os.path.join(dev_folder, the_file)\n",
    "    try:\n",
    "        if os.path.isfile(file_path):\n",
    "            os.unlink(file_path)\n",
    "        #elif os.path.isdir(file_path): shutil.rmtree(file_path)\n",
    "    except Exception as e:\n",
    "        print(e)\n"
   ]
  },
  {
   "cell_type": "code",
   "execution_count": 175,
   "metadata": {
    "collapsed": true
   },
   "outputs": [],
   "source": [
    "# snownlp\n",
    "shutil.copyfile(\"./data/pos.txt\",snownlp_folder + \"Positive.utf8\")\n",
    "shutil.copyfile(\"./data/neg.txt\",snownlp_folder + \"Negative.utf8\")\n",
    "os.mknod(snownlp_folder + \"Neutral.utf8\") "
   ]
  },
  {
   "cell_type": "code",
   "execution_count": 176,
   "metadata": {
    "collapsed": true
   },
   "outputs": [],
   "source": [
    "# dianping\n",
    "for x in dianping['SENTIMENT'].unique():\n",
    "    np.savetxt(dianping_folder+ x.replace('/',' ') +'.utf8',\\\n",
    "                   dianping[dianping['SENTIMENT'] == x]['CONTENT'].values, fmt='%s')"
   ]
  },
  {
   "cell_type": "code",
   "execution_count": 177,
   "metadata": {
    "collapsed": true
   },
   "outputs": [],
   "source": [
    "# manulife\n",
    "for x in dev['SENTIMENT'].unique():\n",
    "    np.savetxt(dev_folder+ x.replace('/',' ') +'.utf8',\\\n",
    "                   train[train['SENTIMENT'] == x]['CONTENT'].values, fmt='%s')\n",
    "for x in test['SENTIMENT'].unique():\n",
    "    np.savetxt(testing_folder+ x.replace('/',' ') +'.utf8',\\\n",
    "                   test[test['SENTIMENT'] == x]['CONTENT'].values, fmt='%s')"
   ]
  },
  {
   "cell_type": "code",
   "execution_count": 184,
   "metadata": {},
   "outputs": [
    {
     "data": {
      "text/plain": [
       "Neutral     11928\n",
       "Positive      360\n",
       "Negative      210\n",
       "Name: SENTIMENT, dtype: int64"
      ]
     },
     "execution_count": 184,
     "metadata": {},
     "output_type": "execute_result"
    }
   ],
   "source": [
    "dev['SENTIMENT'].value_counts()"
   ]
  },
  {
   "cell_type": "code",
   "execution_count": 183,
   "metadata": {},
   "outputs": [
    {
     "data": {
      "text/plain": [
       "Neutral     2943\n",
       "Positive     105\n",
       "Negative      77\n",
       "Name: SENTIMENT, dtype: int64"
      ]
     },
     "execution_count": 183,
     "metadata": {},
     "output_type": "execute_result"
    }
   ],
   "source": [
    "test['SENTIMENT'].value_counts()"
   ]
  },
  {
   "cell_type": "code",
   "execution_count": 181,
   "metadata": {},
   "outputs": [],
   "source": [
    "from gensim.models import Word2Vec\n",
    "w2vModel = Word2Vec.load('runs/trained_word2vec.model.dianpingsnownlpmanulife')"
   ]
  },
  {
   "cell_type": "code",
   "execution_count": 182,
   "metadata": {},
   "outputs": [
    {
     "data": {
      "text/plain": [
       "4606"
      ]
     },
     "execution_count": 182,
     "metadata": {},
     "output_type": "execute_result"
    }
   ],
   "source": [
    "len(w2vModel.wv.vocab)"
   ]
  },
  {
   "cell_type": "code",
   "execution_count": 68,
   "metadata": {
    "collapsed": true
   },
   "outputs": [],
   "source": [
    "from gensim.models import KeyedVectors\n",
    "w2vModel = KeyedVectors.load_word2vec_format('runs/wiki.zh.vec')"
   ]
  },
  {
   "cell_type": "code",
   "execution_count": 19,
   "metadata": {},
   "outputs": [
    {
     "name": "stdout",
     "output_type": "stream",
     "text": [
      "保险\n",
      "2\n"
     ]
    }
   ],
   "source": [
    "vocab_obj = w2vModel.wv.vocab\n",
    "word = u'保险'\n",
    "print word\n",
    "print vocab_obj[word].index"
   ]
  },
  {
   "cell_type": "code",
   "execution_count": 41,
   "metadata": {},
   "outputs": [
    {
     "data": {
      "text/html": [
       "<div>\n",
       "<style>\n",
       "    .dataframe thead tr:only-child th {\n",
       "        text-align: right;\n",
       "    }\n",
       "\n",
       "    .dataframe thead th {\n",
       "        text-align: left;\n",
       "    }\n",
       "\n",
       "    .dataframe tbody tr th {\n",
       "        vertical-align: top;\n",
       "    }\n",
       "</style>\n",
       "<table border=\"1\" class=\"dataframe\">\n",
       "  <thead>\n",
       "    <tr style=\"text-align: right;\">\n",
       "      <th></th>\n",
       "      <th>CONTENT</th>\n",
       "      <th>SENTIMENT</th>\n",
       "    </tr>\n",
       "  </thead>\n",
       "  <tbody>\n",
       "    <tr>\n",
       "      <th>0</th>\n",
       "      <td>仓储式购物环境，看着货架上一堆堆的物品，人的购物欲望就被激发起来了！进口食品很多，特别是西点...</td>\n",
       "      <td>Positive</td>\n",
       "    </tr>\n",
       "    <tr>\n",
       "      <th>1</th>\n",
       "      <td>有点远 在西安的时候逛得多我在岳麓区这边 每次去都要坐一个多小时的车 搞得后来没什么欲望去了...</td>\n",
       "      <td>Positive</td>\n",
       "    </tr>\n",
       "    <tr>\n",
       "      <th>2</th>\n",
       "      <td>实在要来赞一赞省博，首先网站做的很好，不多的能支持firefox的网站啊。网上订票系统非常靠...</td>\n",
       "      <td>Positive</td>\n",
       "    </tr>\n",
       "    <tr>\n",
       "      <th>3</th>\n",
       "      <td>第二次去了，正值周末，10点到已经只拿到下午2点的票子。估计排在后面的人是看不成了。马王堆是...</td>\n",
       "      <td>Positive</td>\n",
       "    </tr>\n",
       "    <tr>\n",
       "      <th>4</th>\n",
       "      <td>给予全五星的评价在于带我们的荣誉志愿者，唐老伯。呵呵，好像是财政厅退休公务员，带着湖南口音，...</td>\n",
       "      <td>Positive</td>\n",
       "    </tr>\n",
       "  </tbody>\n",
       "</table>\n",
       "</div>"
      ],
      "text/plain": [
       "                                             CONTENT SENTIMENT\n",
       "0  仓储式购物环境，看着货架上一堆堆的物品，人的购物欲望就被激发起来了！进口食品很多，特别是西点...  Positive\n",
       "1  有点远 在西安的时候逛得多我在岳麓区这边 每次去都要坐一个多小时的车 搞得后来没什么欲望去了...  Positive\n",
       "2  实在要来赞一赞省博，首先网站做的很好，不多的能支持firefox的网站啊。网上订票系统非常靠...  Positive\n",
       "3  第二次去了，正值周末，10点到已经只拿到下午2点的票子。估计排在后面的人是看不成了。马王堆是...  Positive\n",
       "4  给予全五星的评价在于带我们的荣誉志愿者，唐老伯。呵呵，好像是财政厅退休公务员，带着湖南口音，...  Positive"
      ]
     },
     "execution_count": 41,
     "metadata": {},
     "output_type": "execute_result"
    }
   ],
   "source": [
    "dianping.head()"
   ]
  },
  {
   "cell_type": "code",
   "execution_count": 70,
   "metadata": {
    "collapsed": true
   },
   "outputs": [],
   "source": [
    "from os import listdir"
   ]
  },
  {
   "cell_type": "code",
   "execution_count": 162,
   "metadata": {},
   "outputs": [
    {
     "data": {
      "text/plain": [
       "0.049958374957880025"
      ]
     },
     "execution_count": 162,
     "metadata": {},
     "output_type": "execute_result"
    }
   ],
   "source": [
    "2. / (1. + np.exp(-10. * 0.01)) - 1"
   ]
  },
  {
   "cell_type": "code",
   "execution_count": null,
   "metadata": {
    "collapsed": true
   },
   "outputs": [],
   "source": []
  }
 ],
 "metadata": {
  "kernelspec": {
   "display_name": "Python 2",
   "language": "python",
   "name": "python2"
  },
  "language_info": {
   "codemirror_mode": {
    "name": "ipython",
    "version": 2
   },
   "file_extension": ".py",
   "mimetype": "text/x-python",
   "name": "python",
   "nbconvert_exporter": "python",
   "pygments_lexer": "ipython2",
   "version": "2.7.13"
  }
 },
 "nbformat": 4,
 "nbformat_minor": 2
}
