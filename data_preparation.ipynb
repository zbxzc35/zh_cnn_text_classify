{
 "cells": [
  {
   "cell_type": "code",
   "execution_count": 95,
   "metadata": {
    "collapsed": true
   },
   "outputs": [],
   "source": [
    "import pandas as pd\n",
    "import numpy as np\n",
    "import re\n",
    "import os\n",
    "from os import listdir\n",
    "from os.path import isfile, join\n",
    "import data_helpers\n",
    "from hanziconv import HanziConv\n",
    "import shutil"
   ]
  },
  {
   "cell_type": "code",
   "execution_count": 241,
   "metadata": {
    "collapsed": true
   },
   "outputs": [],
   "source": [
    "weibo_m_o = pd.read_csv('./data/Weibo_M.csv')\n",
    "weibo_o = pd.read_csv('./data/Weibo.csv')\n",
    "wechat_o = pd.read_csv('./data/Wechat.csv')\n",
    "news_forum_o = pd.read_csv('./data/News_forum.csv')\n",
    "dianping = pd.read_csv('./data/dianping135.csv')\n",
    "#dianping = pd.read_csv('./data/dianping_full.csv')"
   ]
  },
  {
   "cell_type": "code",
   "execution_count": 242,
   "metadata": {
    "collapsed": true
   },
   "outputs": [],
   "source": [
    "# dianping_pos = dianping[dianping['rate']>4]\n",
    "# dianping_pos['SENTIMENT'] = 'Positive'\n",
    "# dianping_neg = dianping[dianping['rate']<2]\n",
    "# dianping_neg['SENTIMENT'] = 'Negative'\n",
    "# dianping_neu = dianping[dianping['rate']==3]\n",
    "# dianping_neu['SENTIMENT'] = 'Neutral'\n",
    "# dianping = pd.concat([dianping_pos,dianping_neg,dianping_neu])"
   ]
  },
  {
   "cell_type": "code",
   "execution_count": 243,
   "metadata": {
    "collapsed": true
   },
   "outputs": [],
   "source": [
    "# dianping = dianping[['content','SENTIMENT']].dropna(axis=0, how = 'any')\n",
    "# dianping.columns = ['CONTENT','SENTIMENT']\n",
    "# dianping['CONTENT'] = dianping['CONTENT'].str.replace('\\n', '')\n",
    "# dianping = dianping.reset_index(drop=True)\n",
    "# dianping.to_csv('./data/dianping.csv',encoding = 'utf-8',index=False)\n",
    "# dianping = pd.read_csv('./data/dianping.csv')"
   ]
  },
  {
   "cell_type": "code",
   "execution_count": 244,
   "metadata": {
    "collapsed": true
   },
   "outputs": [],
   "source": [
    "dianping = dianping.reset_index(drop=True)\n",
    "shuffle_indices = np.random.permutation(np.arange(len(dianping)))\n",
    "dianping = dianping.loc[shuffle_indices]\n",
    "dianping = pd.concat([dianping[dianping.SENTIMENT == 'Positive'][:10000],\n",
    "                      dianping[dianping.SENTIMENT == 'Negative'][:20000],\n",
    "                      dianping[dianping.SENTIMENT == 'Neutral'][:10000]\n",
    "                    ])"
   ]
  },
  {
   "cell_type": "markdown",
   "metadata": {},
   "source": [
    "# Sentiment data"
   ]
  },
  {
   "cell_type": "code",
   "execution_count": 245,
   "metadata": {
    "collapsed": true
   },
   "outputs": [],
   "source": [
    "weibo_m_s = weibo_m_o[['COMMENT','SENTIMENT']].dropna(axis=0, how = 'any')\n",
    "weibo_s = weibo_o[['COMMENT','SENTIMENT']].dropna(axis=0, how = 'any')\n",
    "wechat_s = wechat_o[['CONTENT','SENTIMENT']].dropna(axis=0, how = 'any')"
   ]
  },
  {
   "cell_type": "code",
   "execution_count": 246,
   "metadata": {
    "collapsed": true
   },
   "outputs": [],
   "source": [
    "weibo_m_s.columns = ['CONTENT','SENTIMENT']\n",
    "weibo_s.columns = ['CONTENT','SENTIMENT']"
   ]
  },
  {
   "cell_type": "code",
   "execution_count": 247,
   "metadata": {
    "collapsed": true
   },
   "outputs": [],
   "source": [
    "data = pd.concat([weibo_m_s,weibo_s,wechat_s])"
   ]
  },
  {
   "cell_type": "code",
   "execution_count": 248,
   "metadata": {
    "collapsed": true
   },
   "outputs": [],
   "source": [
    "data['CONTENT'] = data['CONTENT'].str.replace('\\n', '')\n",
    "data = data.reset_index(drop=True)"
   ]
  },
  {
   "cell_type": "code",
   "execution_count": 249,
   "metadata": {
    "collapsed": true
   },
   "outputs": [],
   "source": [
    "length = []\n",
    "for i in range(len(data)):\n",
    "    data['CONTENT'][i] = HanziConv.toSimplified(data['CONTENT'][i]).encode('utf-8')\n",
    "    length.append(len(data['CONTENT'][i]))\n",
    "    if data['SENTIMENT'][i] == 'Irrelevant':\n",
    "        data['SENTIMENT'][i] = 'Neutral'\n",
    "length = np.array(length)"
   ]
  },
  {
   "cell_type": "code",
   "execution_count": null,
   "metadata": {
    "collapsed": true
   },
   "outputs": [],
   "source": []
  },
  {
   "cell_type": "code",
   "execution_count": 265,
   "metadata": {
    "collapsed": true
   },
   "outputs": [],
   "source": [
    "from sklearn.model_selection import train_test_split\n",
    "\n",
    "dev, test = train_test_split(data, test_size=0.2, random_state = 200)"
   ]
  },
  {
   "cell_type": "code",
   "execution_count": 266,
   "metadata": {},
   "outputs": [
    {
     "data": {
      "text/html": [
       "<div>\n",
       "<style>\n",
       "    .dataframe thead tr:only-child th {\n",
       "        text-align: right;\n",
       "    }\n",
       "\n",
       "    .dataframe thead th {\n",
       "        text-align: left;\n",
       "    }\n",
       "\n",
       "    .dataframe tbody tr th {\n",
       "        vertical-align: top;\n",
       "    }\n",
       "</style>\n",
       "<table border=\"1\" class=\"dataframe\">\n",
       "  <thead>\n",
       "    <tr style=\"text-align: right;\">\n",
       "      <th></th>\n",
       "      <th>CONTENT</th>\n",
       "      <th>SENTIMENT</th>\n",
       "    </tr>\n",
       "  </thead>\n",
       "  <tbody>\n",
       "    <tr>\n",
       "      <th>3652</th>\n",
       "      <td>真是够敬业啊！中宏保险成都公司的员工加班加点的骚扰投保人！如果这都不算骚扰算什么？@中宏保险...</td>\n",
       "      <td>Negative</td>\n",
       "    </tr>\n",
       "    <tr>\n",
       "      <th>9390</th>\n",
       "      <td>中化集团下属上市公司众多，分别有：中化国际，中化化股（港），方兴地产（港），远东宏信（港），...</td>\n",
       "      <td>Neutral</td>\n",
       "    </tr>\n",
       "    <tr>\n",
       "      <th>1792</th>\n",
       "      <td>转发微博@中宏保险 保险是随着风险事故的不断发展而产生的，未来人生或财产的不确定性是保险业务...</td>\n",
       "      <td>Neutral</td>\n",
       "    </tr>\n",
       "    <tr>\n",
       "      <th>10659</th>\n",
       "      <td>福布斯授予中宏保险母公司宏利金融为2016加拿大最佳雇主，250个企业中排行第29位。</td>\n",
       "      <td>Neutral</td>\n",
       "    </tr>\n",
       "    <tr>\n",
       "      <th>1593</th>\n",
       "      <td>自2016年12月起，当您在[中宏保险]微信上的理赔申请通过审核后，即可实现3000元以内理...</td>\n",
       "      <td>Neutral</td>\n",
       "    </tr>\n",
       "    <tr>\n",
       "      <th>9352</th>\n",
       "      <td>我们公司哦~@中宏保险 //@LetsChengdu:【甲级办公楼成交案例】➊中宏保险入驻华...</td>\n",
       "      <td>Neutral</td>\n",
       "    </tr>\n",
       "    <tr>\n",
       "      <th>2353</th>\n",
       "      <td>转发微博@中宏保险 【保险知识】保险不是保证不发生风险，而是减少风险发生的频率和在发生风险时...</td>\n",
       "      <td>Neutral</td>\n",
       "    </tr>\n",
       "    <tr>\n",
       "      <th>11886</th>\n",
       "      <td>一切归零，想吃煲的亲们下月下旬见，接下去盼要回归主业---中宏保险事业，我需要做服务并送更多...</td>\n",
       "      <td>Neutral</td>\n",
       "    </tr>\n",
       "    <tr>\n",
       "      <th>10239</th>\n",
       "      <td>【泰康人寿南充中心支公司总经理陈姿桦 |保险公司|互联网|保险_新浪财经_新浪网】陈姿桦在台...</td>\n",
       "      <td>Neutral</td>\n",
       "    </tr>\n",
       "    <tr>\n",
       "      <th>33</th>\n",
       "      <td>转发微博◆◆@中宏保险人生没有如果，只有后果和结果。过去的不再回来，回来的不再完美。生活有进...</td>\n",
       "      <td>Neutral</td>\n",
       "    </tr>\n",
       "    <tr>\n",
       "      <th>9166</th>\n",
       "      <td>发表了博文《中宏保险是公司销售人员是骗子》麻痹的，骗老子买了一份重疾保险说的是20多W，结果...</td>\n",
       "      <td>Negative</td>\n",
       "    </tr>\n",
       "    <tr>\n",
       "      <th>1202</th>\n",
       "      <td>思念如雪随风飘，相拥赏景聚欢笑，牵挂如梅绽娇艳，关怀缱绻身边绕，甜蜜如糖融心跳，牵手幸福暮暮...</td>\n",
       "      <td>Neutral</td>\n",
       "    </tr>\n",
       "    <tr>\n",
       "      <th>5710</th>\n",
       "      <td>转发微博◆◆@中宏保险好心情才会有好风景，好眼光才会有好发现，好思考才会有好主意。人可以不美...</td>\n",
       "      <td>Neutral</td>\n",
       "    </tr>\n",
       "    <tr>\n",
       "      <th>2387</th>\n",
       "      <td>#爱心落地##WE·公益 衣暖童心# 马关县南捞乡那往村那往小学119名学生，1月17日收到...</td>\n",
       "      <td>Neutral</td>\n",
       "    </tr>\n",
       "    <tr>\n",
       "      <th>5136</th>\n",
       "      <td>这个可以学习下下@中宏保险 正确的寿险购买顺序：1意外险——以小博大，保费低廉，保意外；2重...</td>\n",
       "      <td>Neutral</td>\n",
       "    </tr>\n",
       "    <tr>\n",
       "      <th>9284</th>\n",
       "      <td>岳阳平江专业租车3天就上平江中宏保险咨询【13873062228】</td>\n",
       "      <td>Neutral</td>\n",
       "    </tr>\n",
       "    <tr>\n",
       "      <th>10704</th>\n",
       "      <td>【中宏保险总裁张凯：摒弃唯渠道论 建立全方位财富管理体系】中宏保险掌门人，总裁兼首席执行官张...</td>\n",
       "      <td>Neutral</td>\n",
       "    </tr>\n",
       "    <tr>\n",
       "      <th>13387</th>\n",
       "      <td>公司介绍：中宏人寿保险有限公司是国内首家中外合资人寿保险公司，由加拿大宏利金融旗下的宏利人寿...</td>\n",
       "      <td>Neutral</td>\n",
       "    </tr>\n",
       "    <tr>\n",
       "      <th>3964</th>\n",
       "      <td>转发微博@中宏保险 【买保险，不能等！】我们面临的风险有两类：高频低损型——如感冒发烧、跌打...</td>\n",
       "      <td>Neutral</td>\n",
       "    </tr>\n",
       "    <tr>\n",
       "      <th>7974</th>\n",
       "      <td>中宏人寿保险有限公司简介http://url.cn/MEBH0D</td>\n",
       "      <td>Neutral</td>\n",
       "    </tr>\n",
       "    <tr>\n",
       "      <th>10564</th>\n",
       "      <td>@智联招聘 好工作，别错过~~#智联微招聘#【中宏人寿保险有限公司】在【上海】急聘【团险中介...</td>\n",
       "      <td>Neutral</td>\n",
       "    </tr>\n",
       "    <tr>\n",
       "      <th>9615</th>\n",
       "      <td>这位英俊潇洒、事业有成的帅哥，是江苏省盐城市中宏人寿老总李勇，昨天中午不舒服在南三院挂水，下...</td>\n",
       "      <td>Neutral</td>\n",
       "    </tr>\n",
       "    <tr>\n",
       "      <th>9098</th>\n",
       "      <td>【【加拿大宏利金融中宏保险简介】】125年历史的专业寿险公司，一张保单世界通用，，， (分享...</td>\n",
       "      <td>Neutral</td>\n",
       "    </tr>\n",
       "    <tr>\n",
       "      <th>2271</th>\n",
       "      <td>#衣暖童心#爱心落地了！！！感谢@中宏保险，感谢@上海随手公益基金会，感谢所有爱心人士对红河...</td>\n",
       "      <td>Neutral</td>\n",
       "    </tr>\n",
       "    <tr>\n",
       "      <th>10710</th>\n",
       "      <td>利用朋友圈的威力，帮忙转发[玫瑰][玫瑰]中宏保险公司太过分了，被保人是我一个朋友的亲人，【...</td>\n",
       "      <td>Negative</td>\n",
       "    </tr>\n",
       "    <tr>\n",
       "      <th>10034</th>\n",
       "      <td>今天又一个社会精英倒下了，他就是江苏省盐城市中宏人寿老总李勇，中午因不舒服在医院挂水，下午二...</td>\n",
       "      <td>Neutral</td>\n",
       "    </tr>\n",
       "    <tr>\n",
       "      <th>13139</th>\n",
       "      <td>万士家中宏人寿保险有限公司总裁兼CEO每次开会前对会议目标要非常明确我以前有一位老板，告诉我...</td>\n",
       "      <td>Neutral</td>\n",
       "    </tr>\n",
       "    <tr>\n",
       "      <th>3930</th>\n",
       "      <td>[笑哈哈][笑哈哈][笑哈哈][笑哈哈]@中宏保险 所谓舍得，舍即是得，舍在得中，得在舍中。...</td>\n",
       "      <td>Neutral</td>\n",
       "    </tr>\n",
       "    <tr>\n",
       "      <th>14018</th>\n",
       "      <td>【梦工厂招聘455】中宏人寿保险有限公司交易员招聘 金融梦工厂（微信号：jrmgc2013）...</td>\n",
       "      <td>Neutral</td>\n",
       "    </tr>\n",
       "    <tr>\n",
       "      <th>3884</th>\n",
       "      <td>转发微博@新浪公益 【#衣暖童心#公益活动完美收官】全国51个城市累计举办公益活动136场次...</td>\n",
       "      <td>Neutral</td>\n",
       "    </tr>\n",
       "    <tr>\n",
       "      <th>...</th>\n",
       "      <td>...</td>\n",
       "      <td>...</td>\n",
       "    </tr>\n",
       "    <tr>\n",
       "      <th>1153</th>\n",
       "      <td>说的实在@中宏保险越有故事的人越沉静简单，越肤浅单薄的人越浮躁不安；强者，不是没有眼泪的人，...</td>\n",
       "      <td>Neutral</td>\n",
       "    </tr>\n",
       "    <tr>\n",
       "      <th>2808</th>\n",
       "      <td>转发微博@中宏保险【静夜心语】往事如烟，浅笑而安。慢慢的懂得人的一生会经历太多起伏，不可能总...</td>\n",
       "      <td>Neutral</td>\n",
       "    </tr>\n",
       "    <tr>\n",
       "      <th>13255</th>\n",
       "      <td>中宏人寿老总李勇，下班后去宾馆约客户谈事期间突发腹痛，因抢救无效不幸去世，生命永远定格在46...</td>\n",
       "      <td>Neutral</td>\n",
       "    </tr>\n",
       "    <tr>\n",
       "      <th>15464</th>\n",
       "      <td>网易财经连续第四年发布《中国金融500强》2014中国金融500强由239家银行、102家保...</td>\n",
       "      <td>Neutral</td>\n",
       "    </tr>\n",
       "    <tr>\n",
       "      <th>12948</th>\n",
       "      <td>原中宏人寿总裁林重文创办第三方保险中介机构！江泰保险经纪股份有限公司（以下简称江泰）成立于2...</td>\n",
       "      <td>Neutral</td>\n",
       "    </tr>\n",
       "    <tr>\n",
       "      <th>14304</th>\n",
       "      <td>中银金融商务有限公司（以下简称中银商务）于2007年11月成立，是中国银行股份有限公司的全资...</td>\n",
       "      <td>Neutral</td>\n",
       "    </tr>\n",
       "    <tr>\n",
       "      <th>11824</th>\n",
       "      <td>中宏保险2014年MDRT进修营学习结束，感谢公司的贴心安排，吃住得很舒适/握手/握手更重要...</td>\n",
       "      <td>Positive</td>\n",
       "    </tr>\n",
       "    <tr>\n",
       "      <th>1157</th>\n",
       "      <td>有一种理解，叫感同身受。寒潮来袭，让我们挑战寒冷，@不二马菲菲 @卿卿我我的语 @小资-小男...</td>\n",
       "      <td>Neutral</td>\n",
       "    </tr>\n",
       "    <tr>\n",
       "      <th>15012</th>\n",
       "      <td>在你印象中，幼儿园毕业表演是怎么一回事？如果你认为这样的表演通常是枯燥的，那是因为你没看过这...</td>\n",
       "      <td>Neutral</td>\n",
       "    </tr>\n",
       "    <tr>\n",
       "      <th>7914</th>\n",
       "      <td>这是中国保监会7月25日颁布的处罚报表。其中依然没有中宏保险Manu life的身影，近十年...</td>\n",
       "      <td>Neutral</td>\n",
       "    </tr>\n",
       "    <tr>\n",
       "      <th>15272</th>\n",
       "      <td>ACCA精英学员实习生日”Alcoa，Auchan，Celestica，Compass，Fe...</td>\n",
       "      <td>Neutral</td>\n",
       "    </tr>\n",
       "    <tr>\n",
       "      <th>10976</th>\n",
       "      <td>盛世中宏，荣耀荆楚，中宏保险营销精英颁奖盛典！活动马上开始！ 我在:|黄鹂路</td>\n",
       "      <td>Neutral</td>\n",
       "    </tr>\n",
       "    <tr>\n",
       "      <th>6392</th>\n",
       "      <td>女性保险@中宏保险 【关于女性保险的小常识】购买女性保险时需首先应该对自身的保险需求要有一个...</td>\n",
       "      <td>Neutral</td>\n",
       "    </tr>\n",
       "    <tr>\n",
       "      <th>4656</th>\n",
       "      <td>//@保险优选:转发微博◆◆@中宏保险【保险理念】真正不能输在起跑线上的是孩子的健康，全面的...</td>\n",
       "      <td>Neutral</td>\n",
       "    </tr>\n",
       "    <tr>\n",
       "      <th>5932</th>\n",
       "      <td>转发微博@中宏保险 【静夜心语】受挫一次，对生活的理解加深一层；失误一次，对人生的醒悟增添一...</td>\n",
       "      <td>Neutral</td>\n",
       "    </tr>\n",
       "    <tr>\n",
       "      <th>13039</th>\n",
       "      <td>中国保险公司排名公司名称 原保险保费收入 资本结构 排名国寿股份 39469684.11 中...</td>\n",
       "      <td>Neutral</td>\n",
       "    </tr>\n",
       "    <tr>\n",
       "      <th>4904</th>\n",
       "      <td>人生的美好其实是无止境的追求 @丫小情 http://t.cn/RvhKGtD</td>\n",
       "      <td>Neutral</td>\n",
       "    </tr>\n",
       "    <tr>\n",
       "      <th>10897</th>\n",
       "      <td>一个绿色盒子代表什么？/疑问代表MANULIFE对您超过125年的承诺！不管世界经历怎样的动...</td>\n",
       "      <td>Neutral</td>\n",
       "    </tr>\n",
       "    <tr>\n",
       "      <th>3947</th>\n",
       "      <td>转发微博 @中宏保险 小时候，幸福是一件东西，拥有就幸福；长大后，幸福是一个目标，达到就幸福...</td>\n",
       "      <td>Neutral</td>\n",
       "    </tr>\n",
       "    <tr>\n",
       "      <th>2463</th>\n",
       "      <td>能不能别吹牛逼？不吹会不会死[偷笑]改保险都不敢承认[笑cry]@中国保险报-中保网  中华...</td>\n",
       "      <td>Neutral</td>\n",
       "    </tr>\n",
       "    <tr>\n",
       "      <th>10450</th>\n",
       "      <td>#围观世界杯领现金#给力的微博世界杯福利疯抢ing~围观世界杯还能领现金红包，这事儿一般人我...</td>\n",
       "      <td>Neutral</td>\n",
       "    </tr>\n",
       "    <tr>\n",
       "      <th>3025</th>\n",
       "      <td>转发微博@中宏保险 【你的器官需要打扫了吗？】经常打嗝、腹胀？大白天犯困夜里却睡不着？脸颊两...</td>\n",
       "      <td>Neutral</td>\n",
       "    </tr>\n",
       "    <tr>\n",
       "      <th>6186</th>\n",
       "      <td>转发微博◆◆ @ZyeZhang 信赖由时间累积而成！本期《大众理财》惊现中宏新款少儿专属理...</td>\n",
       "      <td>Neutral</td>\n",
       "    </tr>\n",
       "    <tr>\n",
       "      <th>6706</th>\n",
       "      <td>积极健康，也是传递一种思想评论我的微博：9月1日，香港流行歌手@周柏豪Pakho 现身中宏保...</td>\n",
       "      <td>Neutral</td>\n",
       "    </tr>\n",
       "    <tr>\n",
       "      <th>9844</th>\n",
       "      <td>转：江苏省盐城中宏人寿老总李勇，昨天中午不舒服在南三院挂水，下午二点生命永远定格在46岁！他...</td>\n",
       "      <td>Neutral</td>\n",
       "    </tr>\n",
       "    <tr>\n",
       "      <th>15020</th>\n",
       "      <td>中国保监会关于人身保险失效保单专项清理工作情况的通报保监消保〔2015〕206号各保监局、各...</td>\n",
       "      <td>Neutral</td>\n",
       "    </tr>\n",
       "    <tr>\n",
       "      <th>9258</th>\n",
       "      <td>中宏保险客户服务--《未来就是现在》亲子教育活动专题讲座正在进行！邀请到成都电视三台亲子导师...</td>\n",
       "      <td>Neutral</td>\n",
       "    </tr>\n",
       "    <tr>\n",
       "      <th>9084</th>\n",
       "      <td>有需要买保险的找我，中宏保险</td>\n",
       "      <td>Neutral</td>\n",
       "    </tr>\n",
       "    <tr>\n",
       "      <th>14951</th>\n",
       "      <td>五月在一片繁花绿树中走来，温暖的阳光照耀着大地，它是全世界劳动人民的节日，到处洋溢着一张张笑...</td>\n",
       "      <td>Neutral</td>\n",
       "    </tr>\n",
       "    <tr>\n",
       "      <th>6598</th>\n",
       "      <td>转发微博@中宏保险[保险小贴士]保险产品的选购应结合年龄特点、婚姻状况、收入水平等因素综合...</td>\n",
       "      <td>Neutral</td>\n",
       "    </tr>\n",
       "  </tbody>\n",
       "</table>\n",
       "<p>3125 rows × 2 columns</p>\n",
       "</div>"
      ],
      "text/plain": [
       "                                                 CONTENT SENTIMENT\n",
       "3652   真是够敬业啊！中宏保险成都公司的员工加班加点的骚扰投保人！如果这都不算骚扰算什么？@中宏保险...  Negative\n",
       "9390   中化集团下属上市公司众多，分别有：中化国际，中化化股（港），方兴地产（港），远东宏信（港），...   Neutral\n",
       "1792   转发微博@中宏保险 保险是随着风险事故的不断发展而产生的，未来人生或财产的不确定性是保险业务...   Neutral\n",
       "10659        福布斯授予中宏保险母公司宏利金融为2016加拿大最佳雇主，250个企业中排行第29位。   Neutral\n",
       "1593   自2016年12月起，当您在[中宏保险]微信上的理赔申请通过审核后，即可实现3000元以内理...   Neutral\n",
       "9352   我们公司哦~@中宏保险 //@LetsChengdu:【甲级办公楼成交案例】➊中宏保险入驻华...   Neutral\n",
       "2353   转发微博@中宏保险 【保险知识】保险不是保证不发生风险，而是减少风险发生的频率和在发生风险时...   Neutral\n",
       "11886  一切归零，想吃煲的亲们下月下旬见，接下去盼要回归主业---中宏保险事业，我需要做服务并送更多...   Neutral\n",
       "10239  【泰康人寿南充中心支公司总经理陈姿桦 |保险公司|互联网|保险_新浪财经_新浪网】陈姿桦在台...   Neutral\n",
       "33     转发微博◆◆@中宏保险人生没有如果，只有后果和结果。过去的不再回来，回来的不再完美。生活有进...   Neutral\n",
       "9166   发表了博文《中宏保险是公司销售人员是骗子》麻痹的，骗老子买了一份重疾保险说的是20多W，结果...  Negative\n",
       "1202   思念如雪随风飘，相拥赏景聚欢笑，牵挂如梅绽娇艳，关怀缱绻身边绕，甜蜜如糖融心跳，牵手幸福暮暮...   Neutral\n",
       "5710   转发微博◆◆@中宏保险好心情才会有好风景，好眼光才会有好发现，好思考才会有好主意。人可以不美...   Neutral\n",
       "2387   #爱心落地##WE·公益 衣暖童心# 马关县南捞乡那往村那往小学119名学生，1月17日收到...   Neutral\n",
       "5136   这个可以学习下下@中宏保险 正确的寿险购买顺序：1意外险——以小博大，保费低廉，保意外；2重...   Neutral\n",
       "9284                  岳阳平江专业租车3天就上平江中宏保险咨询【13873062228】    Neutral\n",
       "10704  【中宏保险总裁张凯：摒弃唯渠道论 建立全方位财富管理体系】中宏保险掌门人，总裁兼首席执行官张...   Neutral\n",
       "13387  公司介绍：中宏人寿保险有限公司是国内首家中外合资人寿保险公司，由加拿大宏利金融旗下的宏利人寿...   Neutral\n",
       "3964   转发微博@中宏保险 【买保险，不能等！】我们面临的风险有两类：高频低损型——如感冒发烧、跌打...   Neutral\n",
       "7974                   中宏人寿保险有限公司简介http://url.cn/MEBH0D    Neutral\n",
       "10564  @智联招聘 好工作，别错过~~#智联微招聘#【中宏人寿保险有限公司】在【上海】急聘【团险中介...   Neutral\n",
       "9615   这位英俊潇洒、事业有成的帅哥，是江苏省盐城市中宏人寿老总李勇，昨天中午不舒服在南三院挂水，下...   Neutral\n",
       "9098   【【加拿大宏利金融中宏保险简介】】125年历史的专业寿险公司，一张保单世界通用，，， (分享...   Neutral\n",
       "2271   #衣暖童心#爱心落地了！！！感谢@中宏保险，感谢@上海随手公益基金会，感谢所有爱心人士对红河...   Neutral\n",
       "10710  利用朋友圈的威力，帮忙转发[玫瑰][玫瑰]中宏保险公司太过分了，被保人是我一个朋友的亲人，【...  Negative\n",
       "10034  今天又一个社会精英倒下了，他就是江苏省盐城市中宏人寿老总李勇，中午因不舒服在医院挂水，下午二...   Neutral\n",
       "13139  万士家中宏人寿保险有限公司总裁兼CEO每次开会前对会议目标要非常明确我以前有一位老板，告诉我...   Neutral\n",
       "3930   [笑哈哈][笑哈哈][笑哈哈][笑哈哈]@中宏保险 所谓舍得，舍即是得，舍在得中，得在舍中。...   Neutral\n",
       "14018  【梦工厂招聘455】中宏人寿保险有限公司交易员招聘 金融梦工厂（微信号：jrmgc2013）...   Neutral\n",
       "3884   转发微博@新浪公益 【#衣暖童心#公益活动完美收官】全国51个城市累计举办公益活动136场次...   Neutral\n",
       "...                                                  ...       ...\n",
       "1153   说的实在@中宏保险越有故事的人越沉静简单，越肤浅单薄的人越浮躁不安；强者，不是没有眼泪的人，...   Neutral\n",
       "2808   转发微博@中宏保险【静夜心语】往事如烟，浅笑而安。慢慢的懂得人的一生会经历太多起伏，不可能总...   Neutral\n",
       "13255  中宏人寿老总李勇，下班后去宾馆约客户谈事期间突发腹痛，因抢救无效不幸去世，生命永远定格在46...   Neutral\n",
       "15464  网易财经连续第四年发布《中国金融500强》2014中国金融500强由239家银行、102家保...   Neutral\n",
       "12948  原中宏人寿总裁林重文创办第三方保险中介机构！江泰保险经纪股份有限公司（以下简称江泰）成立于2...   Neutral\n",
       "14304  中银金融商务有限公司（以下简称中银商务）于2007年11月成立，是中国银行股份有限公司的全资...   Neutral\n",
       "11824  中宏保险2014年MDRT进修营学习结束，感谢公司的贴心安排，吃住得很舒适/握手/握手更重要...  Positive\n",
       "1157   有一种理解，叫感同身受。寒潮来袭，让我们挑战寒冷，@不二马菲菲 @卿卿我我的语 @小资-小男...   Neutral\n",
       "15012  在你印象中，幼儿园毕业表演是怎么一回事？如果你认为这样的表演通常是枯燥的，那是因为你没看过这...   Neutral\n",
       "7914   这是中国保监会7月25日颁布的处罚报表。其中依然没有中宏保险Manu life的身影，近十年...   Neutral\n",
       "15272  ACCA精英学员实习生日”Alcoa，Auchan，Celestica，Compass，Fe...   Neutral\n",
       "10976             盛世中宏，荣耀荆楚，中宏保险营销精英颁奖盛典！活动马上开始！ 我在:|黄鹂路   Neutral\n",
       "6392   女性保险@中宏保险 【关于女性保险的小常识】购买女性保险时需首先应该对自身的保险需求要有一个...   Neutral\n",
       "4656   //@保险优选:转发微博◆◆@中宏保险【保险理念】真正不能输在起跑线上的是孩子的健康，全面的...   Neutral\n",
       "5932   转发微博@中宏保险 【静夜心语】受挫一次，对生活的理解加深一层；失误一次，对人生的醒悟增添一...   Neutral\n",
       "13039  中国保险公司排名公司名称 原保险保费收入 资本结构 排名国寿股份 39469684.11 中...   Neutral\n",
       "4904            人生的美好其实是无止境的追求 @丫小情 http://t.cn/RvhKGtD    Neutral\n",
       "10897  一个绿色盒子代表什么？/疑问代表MANULIFE对您超过125年的承诺！不管世界经历怎样的动...   Neutral\n",
       "3947   转发微博 @中宏保险 小时候，幸福是一件东西，拥有就幸福；长大后，幸福是一个目标，达到就幸福...   Neutral\n",
       "2463   能不能别吹牛逼？不吹会不会死[偷笑]改保险都不敢承认[笑cry]@中国保险报-中保网  中华...   Neutral\n",
       "10450  #围观世界杯领现金#给力的微博世界杯福利疯抢ing~围观世界杯还能领现金红包，这事儿一般人我...   Neutral\n",
       "3025   转发微博@中宏保险 【你的器官需要打扫了吗？】经常打嗝、腹胀？大白天犯困夜里却睡不着？脸颊两...   Neutral\n",
       "6186   转发微博◆◆ @ZyeZhang 信赖由时间累积而成！本期《大众理财》惊现中宏新款少儿专属理...   Neutral\n",
       "6706   积极健康，也是传递一种思想评论我的微博：9月1日，香港流行歌手@周柏豪Pakho 现身中宏保...   Neutral\n",
       "9844   转：江苏省盐城中宏人寿老总李勇，昨天中午不舒服在南三院挂水，下午二点生命永远定格在46岁！他...   Neutral\n",
       "15020  中国保监会关于人身保险失效保单专项清理工作情况的通报保监消保〔2015〕206号各保监局、各...   Neutral\n",
       "9258   中宏保险客户服务--《未来就是现在》亲子教育活动专题讲座正在进行！邀请到成都电视三台亲子导师...   Neutral\n",
       "9084                                      有需要买保险的找我，中宏保险   Neutral\n",
       "14951  五月在一片繁花绿树中走来，温暖的阳光照耀着大地，它是全世界劳动人民的节日，到处洋溢着一张张笑...   Neutral\n",
       "6598    转发微博@中宏保险[保险小贴士]保险产品的选购应结合年龄特点、婚姻状况、收入水平等因素综合...   Neutral\n",
       "\n",
       "[3125 rows x 2 columns]"
      ]
     },
     "execution_count": 266,
     "metadata": {},
     "output_type": "execute_result"
    }
   ],
   "source": [
    "test"
   ]
  },
  {
   "cell_type": "code",
   "execution_count": 267,
   "metadata": {
    "collapsed": true
   },
   "outputs": [],
   "source": [
    "testing_folder = './data/processed/testing/'\n",
    "if not os.path.exists(testing_folder):\n",
    "    os.makedirs(testing_folder)\n",
    "for the_file in os.listdir(testing_folder):\n",
    "    file_path = os.path.join(testing_folder, the_file)\n",
    "    try:\n",
    "        if os.path.isfile(file_path):\n",
    "            os.unlink(file_path)\n",
    "        #elif os.path.isdir(file_path): shutil.rmtree(file_path)\n",
    "    except Exception as e:\n",
    "        print(e)\n",
    "train_folder = './data/processed/training/'\n",
    "if not os.path.exists(train_folder):\n",
    "    os.makedirs(train_folder)\n",
    "for the_file in os.listdir(train_folder):\n",
    "    file_path = os.path.join(train_folder, the_file)\n",
    "    try:\n",
    "        if os.path.isfile(file_path):\n",
    "            os.unlink(file_path)\n",
    "        #elif os.path.isdir(file_path): shutil.rmtree(file_path)\n",
    "    except Exception as e:\n",
    "        print(e)\n",
    "        \n",
    "dianping_folder = './data/processed/training/dianping/'\n",
    "if not os.path.exists(dianping_folder):\n",
    "    os.makedirs(dianping_folder)\n",
    "for the_file in os.listdir(dianping_folder):\n",
    "    file_path = os.path.join(dianping_folder, the_file)\n",
    "    try:\n",
    "        if os.path.isfile(file_path):\n",
    "            os.unlink(file_path)\n",
    "        #elif os.path.isdir(file_path): shutil.rmtree(file_path)\n",
    "    except Exception as e:\n",
    "        print(e)\n",
    "snownlp_folder = './data/processed/training/snownlp/'\n",
    "if not os.path.exists(snownlp_folder):\n",
    "    os.makedirs(snownlp_folder)\n",
    "for the_file in os.listdir(snownlp_folder):\n",
    "    file_path = os.path.join(snownlp_folder, the_file)\n",
    "    try:\n",
    "        if os.path.isfile(file_path):\n",
    "            os.unlink(file_path)\n",
    "        #elif os.path.isdir(file_path): shutil.rmtree(file_path)\n",
    "    except Exception as e:\n",
    "        print(e)\n",
    "dev_folder = './data/processed/validation/'\n",
    "if not os.path.exists(dev_folder):\n",
    "    os.makedirs(dev_folder)\n",
    "for the_file in os.listdir(dev_folder):\n",
    "    file_path = os.path.join(dev_folder, the_file)\n",
    "    try:\n",
    "        if os.path.isfile(file_path):\n",
    "            os.unlink(file_path)\n",
    "        #elif os.path.isdir(file_path): shutil.rmtree(file_path)\n",
    "    except Exception as e:\n",
    "        print(e)\n"
   ]
  },
  {
   "cell_type": "code",
   "execution_count": 268,
   "metadata": {
    "collapsed": true
   },
   "outputs": [],
   "source": [
    "# snownlp\n",
    "shutil.copyfile(\"./data/pos.txt\",snownlp_folder + \"Positive.utf8\")\n",
    "shutil.copyfile(\"./data/neg.txt\",snownlp_folder + \"Negative.utf8\")\n",
    "os.mknod(snownlp_folder + \"Neutral.utf8\") "
   ]
  },
  {
   "cell_type": "code",
   "execution_count": 269,
   "metadata": {
    "collapsed": true
   },
   "outputs": [],
   "source": [
    "# dianping\n",
    "for x in dianping['SENTIMENT'].unique():\n",
    "    np.savetxt(dianping_folder+ x.replace('/',' ') +'.utf8',\\\n",
    "                   dianping[dianping['SENTIMENT'] == x]['CONTENT'].values, fmt='%s')"
   ]
  },
  {
   "cell_type": "code",
   "execution_count": 270,
   "metadata": {
    "collapsed": true
   },
   "outputs": [],
   "source": [
    "# manulife\n",
    "for x in dev['SENTIMENT'].unique():\n",
    "    np.savetxt(dev_folder+ x.replace('/',' ') +'.utf8',\\\n",
    "                   train[train['SENTIMENT'] == x]['CONTENT'].values, fmt='%s')\n",
    "for x in test['SENTIMENT'].unique():\n",
    "    np.savetxt(testing_folder+ x.replace('/',' ') +'.utf8',\\\n",
    "                   test[test['SENTIMENT'] == x]['CONTENT'].values, fmt='%s')"
   ]
  },
  {
   "cell_type": "code",
   "execution_count": 271,
   "metadata": {},
   "outputs": [
    {
     "data": {
      "text/plain": [
       "Neutral     11896\n",
       "Positive      371\n",
       "Negative      231\n",
       "Name: SENTIMENT, dtype: int64"
      ]
     },
     "execution_count": 271,
     "metadata": {},
     "output_type": "execute_result"
    }
   ],
   "source": [
    "dev['SENTIMENT'].value_counts()"
   ]
  },
  {
   "cell_type": "code",
   "execution_count": 272,
   "metadata": {},
   "outputs": [
    {
     "data": {
      "text/plain": [
       "Neutral     2975\n",
       "Positive      94\n",
       "Negative      56\n",
       "Name: SENTIMENT, dtype: int64"
      ]
     },
     "execution_count": 272,
     "metadata": {},
     "output_type": "execute_result"
    }
   ],
   "source": [
    "test['SENTIMENT'].value_counts()"
   ]
  },
  {
   "cell_type": "code",
   "execution_count": 277,
   "metadata": {},
   "outputs": [],
   "source": [
    "from gensim.models import Word2Vec\n",
    "w2vModel = Word2Vec.load('runs/trained_word2vec.model.all')"
   ]
  },
  {
   "cell_type": "code",
   "execution_count": 278,
   "metadata": {},
   "outputs": [
    {
     "data": {
      "text/plain": [
       "4806"
      ]
     },
     "execution_count": 278,
     "metadata": {},
     "output_type": "execute_result"
    }
   ],
   "source": [
    "len(w2vModel.wv.vocab)"
   ]
  },
  {
   "cell_type": "code",
   "execution_count": null,
   "metadata": {
    "collapsed": true
   },
   "outputs": [],
   "source": []
  },
  {
   "cell_type": "code",
   "execution_count": 275,
   "metadata": {
    "collapsed": true
   },
   "outputs": [],
   "source": [
    "from gensim.models import KeyedVectors\n",
    "w2vModel = KeyedVectors.load_word2vec_format('runs/wiki.zh.vec')"
   ]
  },
  {
   "cell_type": "code",
   "execution_count": 281,
   "metadata": {},
   "outputs": [
    {
     "name": "stdout",
     "output_type": "stream",
     "text": [
      "圾\n",
      "1397\n"
     ]
    }
   ],
   "source": [
    "vocab_obj = w2vModel.wv.vocab\n",
    "word = u'圾'\n",
    "print word\n",
    "print vocab_obj[word].index"
   ]
  },
  {
   "cell_type": "code",
   "execution_count": 41,
   "metadata": {},
   "outputs": [
    {
     "data": {
      "text/html": [
       "<div>\n",
       "<style>\n",
       "    .dataframe thead tr:only-child th {\n",
       "        text-align: right;\n",
       "    }\n",
       "\n",
       "    .dataframe thead th {\n",
       "        text-align: left;\n",
       "    }\n",
       "\n",
       "    .dataframe tbody tr th {\n",
       "        vertical-align: top;\n",
       "    }\n",
       "</style>\n",
       "<table border=\"1\" class=\"dataframe\">\n",
       "  <thead>\n",
       "    <tr style=\"text-align: right;\">\n",
       "      <th></th>\n",
       "      <th>CONTENT</th>\n",
       "      <th>SENTIMENT</th>\n",
       "    </tr>\n",
       "  </thead>\n",
       "  <tbody>\n",
       "    <tr>\n",
       "      <th>0</th>\n",
       "      <td>仓储式购物环境，看着货架上一堆堆的物品，人的购物欲望就被激发起来了！进口食品很多，特别是西点...</td>\n",
       "      <td>Positive</td>\n",
       "    </tr>\n",
       "    <tr>\n",
       "      <th>1</th>\n",
       "      <td>有点远 在西安的时候逛得多我在岳麓区这边 每次去都要坐一个多小时的车 搞得后来没什么欲望去了...</td>\n",
       "      <td>Positive</td>\n",
       "    </tr>\n",
       "    <tr>\n",
       "      <th>2</th>\n",
       "      <td>实在要来赞一赞省博，首先网站做的很好，不多的能支持firefox的网站啊。网上订票系统非常靠...</td>\n",
       "      <td>Positive</td>\n",
       "    </tr>\n",
       "    <tr>\n",
       "      <th>3</th>\n",
       "      <td>第二次去了，正值周末，10点到已经只拿到下午2点的票子。估计排在后面的人是看不成了。马王堆是...</td>\n",
       "      <td>Positive</td>\n",
       "    </tr>\n",
       "    <tr>\n",
       "      <th>4</th>\n",
       "      <td>给予全五星的评价在于带我们的荣誉志愿者，唐老伯。呵呵，好像是财政厅退休公务员，带着湖南口音，...</td>\n",
       "      <td>Positive</td>\n",
       "    </tr>\n",
       "  </tbody>\n",
       "</table>\n",
       "</div>"
      ],
      "text/plain": [
       "                                             CONTENT SENTIMENT\n",
       "0  仓储式购物环境，看着货架上一堆堆的物品，人的购物欲望就被激发起来了！进口食品很多，特别是西点...  Positive\n",
       "1  有点远 在西安的时候逛得多我在岳麓区这边 每次去都要坐一个多小时的车 搞得后来没什么欲望去了...  Positive\n",
       "2  实在要来赞一赞省博，首先网站做的很好，不多的能支持firefox的网站啊。网上订票系统非常靠...  Positive\n",
       "3  第二次去了，正值周末，10点到已经只拿到下午2点的票子。估计排在后面的人是看不成了。马王堆是...  Positive\n",
       "4  给予全五星的评价在于带我们的荣誉志愿者，唐老伯。呵呵，好像是财政厅退休公务员，带着湖南口音，...  Positive"
      ]
     },
     "execution_count": 41,
     "metadata": {},
     "output_type": "execute_result"
    }
   ],
   "source": [
    "dianping.head()"
   ]
  },
  {
   "cell_type": "code",
   "execution_count": 70,
   "metadata": {
    "collapsed": true
   },
   "outputs": [],
   "source": [
    "from os import listdir"
   ]
  },
  {
   "cell_type": "code",
   "execution_count": 162,
   "metadata": {},
   "outputs": [
    {
     "data": {
      "text/plain": [
       "0.049958374957880025"
      ]
     },
     "execution_count": 162,
     "metadata": {},
     "output_type": "execute_result"
    }
   ],
   "source": [
    "2. / (1. + np.exp(-10. * 0.01)) - 1"
   ]
  },
  {
   "cell_type": "code",
   "execution_count": null,
   "metadata": {
    "collapsed": true
   },
   "outputs": [],
   "source": []
  }
 ],
 "metadata": {
  "kernelspec": {
   "display_name": "Python 2",
   "language": "python",
   "name": "python2"
  },
  "language_info": {
   "codemirror_mode": {
    "name": "ipython",
    "version": 2
   },
   "file_extension": ".py",
   "mimetype": "text/x-python",
   "name": "python",
   "nbconvert_exporter": "python",
   "pygments_lexer": "ipython2",
   "version": "2.7.13"
  }
 },
 "nbformat": 4,
 "nbformat_minor": 2
}
