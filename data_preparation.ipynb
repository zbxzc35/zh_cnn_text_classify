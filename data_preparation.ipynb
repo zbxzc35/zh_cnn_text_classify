{
 "cells": [
  {
   "cell_type": "code",
   "execution_count": 9,
   "metadata": {},
   "outputs": [],
   "source": [
    "import pandas as pd\n",
    "import numpy as np\n",
    "import re\n",
    "import os\n",
    "from os import listdir\n",
    "from os.path import isfile, join\n",
    "import data_helpers\n",
    "from hanziconv import HanziConv"
   ]
  },
  {
   "cell_type": "code",
   "execution_count": 10,
   "metadata": {
    "collapsed": true
   },
   "outputs": [],
   "source": [
    "weibo_m = pd.read_csv('./data/Weibo_M.csv')\n",
    "weibo = pd.read_csv('./data/Weibo.csv')\n",
    "wechat = pd.read_csv('./data/Wechat.csv')\n",
    "news_forum = pd.read_csv('./data/News_forum.csv')"
   ]
  },
  {
   "cell_type": "code",
   "execution_count": 11,
   "metadata": {},
   "outputs": [],
   "source": [
    "weibo_m = weibo_m[['COMMENT','AREAS AFFECTED']].dropna(axis=0, how = 'any')\n",
    "weibo = weibo[['COMMENT','AREAS AFFECTED']].dropna(axis=0, how = 'any')\n",
    "wechat = wechat[['CONTENT','AREAS AFFECTED']].dropna(axis=0, how = 'any')\n",
    "news_forum = news_forum[['CONTENT','AREAS AFFECTED']].dropna(axis=0, how = 'any')"
   ]
  },
  {
   "cell_type": "code",
   "execution_count": 12,
   "metadata": {
    "collapsed": true
   },
   "outputs": [],
   "source": [
    "weibo_m.columns = ['CONTENT','AREAS AFFECTED']\n",
    "weibo.columns = ['CONTENT','AREAS AFFECTED']"
   ]
  },
  {
   "cell_type": "code",
   "execution_count": 13,
   "metadata": {
    "collapsed": true
   },
   "outputs": [],
   "source": [
    "data = pd.concat([weibo_m,weibo,wechat,news_forum])"
   ]
  },
  {
   "cell_type": "code",
   "execution_count": 14,
   "metadata": {
    "collapsed": true
   },
   "outputs": [],
   "source": [
    "data['CONTENT'] = data['CONTENT'].str.replace('\\n', '')\n",
    "data['AREAS AFFECTED'] = data['AREAS AFFECTED'].str.replace('life', 'Life')\n",
    "data['AREAS AFFECTED'] = data['AREAS AFFECTED'].str.replace('sponsored', 'Sponsored')\n",
    "data['AREAS AFFECTED'] = data['AREAS AFFECTED'].str.replace('news', 'News')\n",
    "data = data.reset_index(drop=True)"
   ]
  },
  {
   "cell_type": "code",
   "execution_count": 15,
   "metadata": {},
   "outputs": [],
   "source": [
    "for i in range(len(data)):\n",
    "    data['CONTENT'][i] = HanziConv.toSimplified(data['CONTENT'][i]).encode('utf-8')"
   ]
  },
  {
   "cell_type": "code",
   "execution_count": null,
   "metadata": {
    "collapsed": true
   },
   "outputs": [],
   "source": []
  },
  {
   "cell_type": "code",
   "execution_count": 16,
   "metadata": {
    "collapsed": true
   },
   "outputs": [],
   "source": [
    "#data['AREAS AFFECTED'] = data['AREAS AFFECTED'].str.replace('News', 'Brands')\n",
    "# for i in range(len(data)):\n",
    "#     if ((data['AREAS AFFECTED'][i] != 'Products/Service') and \n",
    "#         (data['AREAS AFFECTED'][i] != 'Corporate Brands')):\n",
    "#         data['AREAS AFFECTED'][i] = 'others'"
   ]
  },
  {
   "cell_type": "code",
   "execution_count": 17,
   "metadata": {
    "collapsed": true
   },
   "outputs": [],
   "source": [
    "mypath = './data/processed/'\n",
    "for the_file in os.listdir(mypath):\n",
    "    file_path = os.path.join(mypath, the_file)\n",
    "    try:\n",
    "        if os.path.isfile(file_path):\n",
    "            os.unlink(file_path)\n",
    "        #elif os.path.isdir(file_path): shutil.rmtree(file_path)\n",
    "    except Exception as e:\n",
    "        print(e)"
   ]
  },
  {
   "cell_type": "code",
   "execution_count": 18,
   "metadata": {
    "collapsed": true
   },
   "outputs": [],
   "source": [
    "for x in data['AREAS AFFECTED'].unique():\n",
    "    np.savetxt(mypath+ x.replace('/',' ') +'.utf8',\\\n",
    "                   data[data['AREAS AFFECTED'] == x]['CONTENT'].values, fmt='%s')"
   ]
  },
  {
   "cell_type": "code",
   "execution_count": null,
   "metadata": {
    "collapsed": true
   },
   "outputs": [],
   "source": []
  },
  {
   "cell_type": "code",
   "execution_count": 19,
   "metadata": {},
   "outputs": [
    {
     "data": {
      "text/plain": [
       "Products/Service         9062\n",
       "Corporate News           3431\n",
       "Corporate Brands         3306\n",
       "Life Comprehend          2167\n",
       "Charity Events           1870\n",
       "Customer Service         1752\n",
       "General Mentioned        1558\n",
       "Sponsored Events         1494\n",
       "Stocks&Earnings          1293\n",
       "Ads/Marketing            1220\n",
       "Health Information        590\n",
       "Products                  519\n",
       "Fund                      479\n",
       "General Info              421\n",
       "Survey/Questions          370\n",
       "Employment                364\n",
       "Recruitment               358\n",
       "Irrelevant Ads            267\n",
       "Employee Information      128\n",
       "Volunteering Activity      96\n",
       "Contact Information        66\n",
       "Agent Issues               41\n",
       "Website Issues             39\n",
       "Agent                       3\n",
       "Name: AREAS AFFECTED, dtype: int64"
      ]
     },
     "execution_count": 19,
     "metadata": {},
     "output_type": "execute_result"
    }
   ],
   "source": [
    "data['AREAS AFFECTED'].value_counts()"
   ]
  },
  {
   "cell_type": "code",
   "execution_count": null,
   "metadata": {
    "collapsed": true
   },
   "outputs": [],
   "source": []
  }
 ],
 "metadata": {
  "kernelspec": {
   "display_name": "Python 2",
   "language": "python",
   "name": "python2"
  },
  "language_info": {
   "codemirror_mode": {
    "name": "ipython",
    "version": 2
   },
   "file_extension": ".py",
   "mimetype": "text/x-python",
   "name": "python",
   "nbconvert_exporter": "python",
   "pygments_lexer": "ipython2",
   "version": "2.7.13"
  }
 },
 "nbformat": 4,
 "nbformat_minor": 2
}
