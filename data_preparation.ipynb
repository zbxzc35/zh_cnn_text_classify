{
 "cells": [
  {
   "cell_type": "code",
   "execution_count": 37,
   "metadata": {
    "collapsed": true
   },
   "outputs": [],
   "source": [
    "import pandas as pd\n",
    "import numpy as np\n",
    "import re"
   ]
  },
  {
   "cell_type": "code",
   "execution_count": 14,
   "metadata": {
    "collapsed": true
   },
   "outputs": [],
   "source": [
    "weibo_m = pd.read_csv('./data/Weibo_M.csv')\n",
    "weibo = pd.read_csv('./data/Weibo.csv')\n",
    "wechat = pd.read_csv('./data/Wechat.csv')\n",
    "news_forum = pd.read_csv('./data/News_forum.csv')"
   ]
  },
  {
   "cell_type": "code",
   "execution_count": 15,
   "metadata": {
    "collapsed": true
   },
   "outputs": [],
   "source": [
    "weibo_m = weibo_m[['COMMENT','AREAS AFFECTED']].dropna(axis=0, how = 'any')\n",
    "weibo = weibo[['COMMENT','AREAS AFFECTED']].dropna(axis=0, how = 'any')\n",
    "wechat = wechat[['CONTENT','AREAS AFFECTED']].dropna(axis=0, how = 'any')\n",
    "news_forum = news_forum[['CONTENT','AREAS AFFECTED']].dropna(axis=0, how = 'any')"
   ]
  },
  {
   "cell_type": "code",
   "execution_count": 16,
   "metadata": {
    "collapsed": true
   },
   "outputs": [],
   "source": [
    "weibo_m.columns = ['CONTENT','AREAS AFFECTED']\n",
    "weibo.columns = ['CONTENT','AREAS AFFECTED']"
   ]
  },
  {
   "cell_type": "code",
   "execution_count": 41,
   "metadata": {
    "collapsed": true
   },
   "outputs": [],
   "source": [
    "data = pd.concat([weibo_m,weibo,wechat])"
   ]
  },
  {
   "cell_type": "code",
   "execution_count": 42,
   "metadata": {
    "collapsed": true
   },
   "outputs": [],
   "source": [
    "data['CONTENT'] = data['CONTENT'].str.replace('\\n', '')\n",
    "data['AREAS AFFECTED'] = data['AREAS AFFECTED'].str.replace('life', 'Life')\n",
    "data['AREAS AFFECTED'] = data['AREAS AFFECTED'].str.replace('sponsored', 'Sponsored')\n",
    "data['AREAS AFFECTED'] = data['AREAS AFFECTED'].str.replace('news', 'News')"
   ]
  },
  {
   "cell_type": "code",
   "execution_count": 43,
   "metadata": {},
   "outputs": [
    {
     "data": {
      "text/plain": [
       "array(['Life Comprehend', 'Products/Service', 'Health Information',\n",
       "       'Ads/Marketing', 'Customer Service', 'Irrelevant Ads',\n",
       "       'Charity Events', 'Survey/Questions', 'Contact Information', 'Fund',\n",
       "       'Corporate Brands', 'Sponsored Events', 'Volunteering Activity',\n",
       "       'Products', 'Website Issues', 'Corporate News', 'Recruitment',\n",
       "       'Agent Issues', 'Employment', 'Stocks&Earnings',\n",
       "       'General Mentioned', 'Employee Information'], dtype=object)"
      ]
     },
     "execution_count": 43,
     "metadata": {},
     "output_type": "execute_result"
    }
   ],
   "source": [
    "data['AREAS AFFECTED'].unique()"
   ]
  },
  {
   "cell_type": "code",
   "execution_count": 25,
   "metadata": {
    "collapsed": true
   },
   "outputs": [],
   "source": [
    "for x in data['AREAS AFFECTED'].unique():\n",
    "    if(len(data[data['AREAS AFFECTED'] == x]['CONTENT'])>2000):\n",
    "        np.savetxt('./data/'+ x.replace('/',' ') +'.utf8',\\\n",
    "           data[data['AREAS AFFECTED'] == x]['CONTENT'][:2000].values, fmt='%s')\n",
    "    else:\n",
    "        np.savetxt('./data/'+ x.replace('/',' ') +'.utf8',\\\n",
    "               data[data['AREAS AFFECTED'] == x]['CONTENT'].values, fmt='%s')"
   ]
  },
  {
   "cell_type": "code",
   "execution_count": 45,
   "metadata": {},
   "outputs": [
    {
     "data": {
      "text/plain": [
       "(12326, 2)"
      ]
     },
     "execution_count": 45,
     "metadata": {},
     "output_type": "execute_result"
    }
   ],
   "source": [
    "data.shape"
   ]
  },
  {
   "cell_type": "code",
   "execution_count": 44,
   "metadata": {
    "collapsed": true
   },
   "outputs": [],
   "source": [
    "for x in data['AREAS AFFECTED'].unique():\n",
    "    np.savetxt('./data/'+ x.replace('/',' ') +'.utf8',\\\n",
    "                   data[data['AREAS AFFECTED'] == x]['CONTENT'].values, fmt='%s')"
   ]
  },
  {
   "cell_type": "code",
   "execution_count": null,
   "metadata": {
    "collapsed": true
   },
   "outputs": [],
   "source": []
  }
 ],
 "metadata": {
  "kernelspec": {
   "display_name": "Python 2",
   "language": "python",
   "name": "python2"
  },
  "language_info": {
   "codemirror_mode": {
    "name": "ipython",
    "version": 2
   },
   "file_extension": ".py",
   "mimetype": "text/x-python",
   "name": "python",
   "nbconvert_exporter": "python",
   "pygments_lexer": "ipython2",
   "version": "2.7.13"
  }
 },
 "nbformat": 4,
 "nbformat_minor": 2
}
