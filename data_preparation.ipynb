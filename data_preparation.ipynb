{
 "cells": [
  {
   "cell_type": "code",
   "execution_count": 1,
   "metadata": {},
   "outputs": [
    {
     "name": "stderr",
     "output_type": "stream",
     "text": [
      "Using TensorFlow backend.\n"
     ]
    }
   ],
   "source": [
    "import pandas as pd\n",
    "import numpy as np\n",
    "import re\n",
    "import os\n",
    "from os import listdir\n",
    "from os.path import isfile, join\n",
    "import data_helpers\n",
    "from hanziconv import HanziConv"
   ]
  },
  {
   "cell_type": "code",
   "execution_count": 2,
   "metadata": {
    "collapsed": true
   },
   "outputs": [],
   "source": [
    "weibo_m_o = pd.read_csv('./data/Weibo_M.csv')\n",
    "weibo_o = pd.read_csv('./data/Weibo.csv')\n",
    "wechat_o = pd.read_csv('./data/Wechat.csv')\n",
    "news_forum_o = pd.read_csv('./data/News_forum.csv')"
   ]
  },
  {
   "cell_type": "markdown",
   "metadata": {},
   "source": [
    "# Sentiment data"
   ]
  },
  {
   "cell_type": "code",
   "execution_count": 3,
   "metadata": {
    "collapsed": true
   },
   "outputs": [],
   "source": [
    "weibo_m_s = weibo_m_o[['COMMENT','SENTIMENT']].dropna(axis=0, how = 'any')\n",
    "weibo_s = weibo_o[['COMMENT','SENTIMENT']].dropna(axis=0, how = 'any')\n",
    "wechat_s = wechat_o[['CONTENT','SENTIMENT']].dropna(axis=0, how = 'any')"
   ]
  },
  {
   "cell_type": "code",
   "execution_count": 4,
   "metadata": {
    "collapsed": true
   },
   "outputs": [],
   "source": [
    "weibo_m_s.columns = ['CONTENT','SENTIMENT']\n",
    "weibo_s.columns = ['CONTENT','SENTIMENT']"
   ]
  },
  {
   "cell_type": "code",
   "execution_count": 5,
   "metadata": {
    "collapsed": true
   },
   "outputs": [],
   "source": [
    "data = pd.concat([weibo_m_s,weibo_s,wechat_s])"
   ]
  },
  {
   "cell_type": "code",
   "execution_count": 6,
   "metadata": {
    "collapsed": true
   },
   "outputs": [],
   "source": [
    "data['CONTENT'] = data['CONTENT'].str.replace('\\n', '')\n",
    "data = data.reset_index(drop=True)"
   ]
  },
  {
   "cell_type": "code",
   "execution_count": 7,
   "metadata": {
    "collapsed": true
   },
   "outputs": [],
   "source": [
    "length = []\n",
    "for i in range(len(data)):\n",
    "    data['CONTENT'][i] = HanziConv.toSimplified(data['CONTENT'][i]).encode('utf-8')\n",
    "    length.append(len(data['CONTENT'][i]))\n",
    "    if data['SENTIMENT'][i] == 'Irrelevant':\n",
    "        data['SENTIMENT'][i] = 'Neutral'\n",
    "length = np.array(length)"
   ]
  },
  {
   "cell_type": "code",
   "execution_count": 8,
   "metadata": {
    "collapsed": true
   },
   "outputs": [],
   "source": [
    "mypath = './data/processed/'\n",
    "if not os.path.exists(mypath):\n",
    "    os.makedirs(mypath)\n",
    "for the_file in os.listdir(mypath):\n",
    "    file_path = os.path.join(mypath, the_file)\n",
    "    try:\n",
    "        if os.path.isfile(file_path):\n",
    "            os.unlink(file_path)\n",
    "        #elif os.path.isdir(file_path): shutil.rmtree(file_path)\n",
    "    except Exception as e:\n",
    "        print(e)"
   ]
  },
  {
   "cell_type": "code",
   "execution_count": 63,
   "metadata": {
    "collapsed": true
   },
   "outputs": [],
   "source": [
    "for x in data['SENTIMENT'].unique():\n",
    "    np.savetxt(mypath+ x.replace('/',' ') +'.utf8',\\\n",
    "                   data[data['SENTIMENT'] == x]['CONTENT'].values, fmt='%s')"
   ]
  },
  {
   "cell_type": "code",
   "execution_count": 65,
   "metadata": {},
   "outputs": [
    {
     "data": {
      "text/plain": [
       "Neutral     14871\n",
       "Positive      465\n",
       "Negative      287\n",
       "Name: SENTIMENT, dtype: int64"
      ]
     },
     "execution_count": 65,
     "metadata": {},
     "output_type": "execute_result"
    }
   ],
   "source": [
    "data['SENTIMENT'].value_counts()"
   ]
  },
  {
   "cell_type": "code",
   "execution_count": 66,
   "metadata": {
    "collapsed": true
   },
   "outputs": [],
   "source": [
    "from gensim.models import Word2Vec\n",
    "w2vModel = Word2Vec.load('runs/trained_word2vec.model.512')"
   ]
  },
  {
   "cell_type": "code",
   "execution_count": 67,
   "metadata": {},
   "outputs": [
    {
     "data": {
      "text/plain": [
       "3570"
      ]
     },
     "execution_count": 67,
     "metadata": {},
     "output_type": "execute_result"
    }
   ],
   "source": [
    "len(w2vModel.wv.vocab)"
   ]
  },
  {
   "cell_type": "code",
   "execution_count": 68,
   "metadata": {
    "collapsed": true
   },
   "outputs": [],
   "source": [
    "from gensim.models import KeyedVectors\n",
    "w2vModel = KeyedVectors.load_word2vec_format('runs/wiki.zh.vec')"
   ]
  },
  {
   "cell_type": "code",
   "execution_count": 53,
   "metadata": {},
   "outputs": [
    {
     "name": "stdout",
     "output_type": "stream",
     "text": [
      "河北\n",
      "3038\n"
     ]
    }
   ],
   "source": [
    "vocab_obj = w2vModel.wv.vocab\n",
    "word = u'河北'\n",
    "print word\n",
    "print vocab_obj[word].index"
   ]
  },
  {
   "cell_type": "code",
   "execution_count": 36,
   "metadata": {},
   "outputs": [],
   "source": [
    "dianping_json = pd.read_table('./data/reviews.txt')"
   ]
  },
  {
   "cell_type": "code",
   "execution_count": 55,
   "metadata": {},
   "outputs": [],
   "source": [
    "x = pd.read_json(dianping_json.loc[0][0].split('^')[1])"
   ]
  },
  {
   "cell_type": "code",
   "execution_count": null,
   "metadata": {},
   "outputs": [],
   "source": [
    "x = []\n",
    "for i in range(len(dianping_json)):\n",
    "    x.append(dianping_json.loc[i][0].split('^')[1])"
   ]
  },
  {
   "cell_type": "code",
   "execution_count": null,
   "metadata": {
    "collapsed": true
   },
   "outputs": [],
   "source": []
  }
 ],
 "metadata": {
  "kernelspec": {
   "display_name": "Python 2",
   "language": "python",
   "name": "python2"
  },
  "language_info": {
   "codemirror_mode": {
    "name": "ipython",
    "version": 2
   },
   "file_extension": ".py",
   "mimetype": "text/x-python",
   "name": "python",
   "nbconvert_exporter": "python",
   "pygments_lexer": "ipython2",
   "version": "2.7.13"
  }
 },
 "nbformat": 4,
 "nbformat_minor": 2
}
