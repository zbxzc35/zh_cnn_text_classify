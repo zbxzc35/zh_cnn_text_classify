{
 "cells": [
  {
   "cell_type": "code",
   "execution_count": 4,
   "metadata": {
    "collapsed": true
   },
   "outputs": [],
   "source": [
    "import pandas as pd\n",
    "import numpy as np\n",
    "import re\n",
    "import os\n",
    "from os import listdir\n",
    "from os.path import isfile, join\n",
    "import data_helpers\n",
    "from hanziconv import HanziConv\n",
    "import shutil"
   ]
  },
  {
   "cell_type": "code",
   "execution_count": 17,
   "metadata": {
    "collapsed": true
   },
   "outputs": [],
   "source": [
    "weibo_m_o = pd.read_csv('./data/Weibo_M.csv',encoding='utf-8')\n",
    "weibo_o = pd.read_csv('./data/Weibo.csv',encoding='utf-8')\n",
    "wechat_o = pd.read_csv('./data/Wechat.csv',encoding='utf-8')\n",
    "news_forum_o = pd.read_csv('./data/News_forum.csv',encoding='utf-8')\n",
    "dianping = pd.read_csv('./data/dianping135.csv')\n",
    "#dianping = pd.read_csv('./data/dianping_full.csv')"
   ]
  },
  {
   "cell_type": "code",
   "execution_count": 18,
   "metadata": {
    "collapsed": true
   },
   "outputs": [],
   "source": [
    "seed = 200\n",
    "np.random.seed(seed)"
   ]
  },
  {
   "cell_type": "code",
   "execution_count": 19,
   "metadata": {
    "collapsed": true
   },
   "outputs": [],
   "source": [
    "# dianping_pos = dianping[dianping['rate']>4]\n",
    "# dianping_pos['SENTIMENT'] = 'Positive'\n",
    "# dianping_neg = dianping[dianping['rate']<2]\n",
    "# dianping_neg['SENTIMENT'] = 'Negative'\n",
    "# dianping_neu = dianping[dianping['rate']==3]\n",
    "# dianping_neu['SENTIMENT'] = 'Neutral'\n",
    "# dianping = pd.concat([dianping_pos,dianping_neg,dianping_neu])"
   ]
  },
  {
   "cell_type": "code",
   "execution_count": 20,
   "metadata": {
    "collapsed": true
   },
   "outputs": [],
   "source": [
    "# dianping = dianping[['content','SENTIMENT']].dropna(axis=0, how = 'any')\n",
    "# dianping.columns = ['CONTENT','SENTIMENT']\n",
    "# dianping['CONTENT'] = dianping['CONTENT'].str.replace('\\n', '')\n",
    "# dianping = dianping.reset_index(drop=True)\n",
    "# dianping.to_csv('./data/dianping.csv',encoding = 'utf-8',index=False)\n",
    "# dianping = pd.read_csv('./data/dianping.csv')"
   ]
  },
  {
   "cell_type": "code",
   "execution_count": 21,
   "metadata": {
    "collapsed": true
   },
   "outputs": [],
   "source": [
    "dianping = dianping.reset_index(drop=True)\n",
    "#shuffle_indices = np.random.permutation(np.arange(len(dianping)))\n",
    "#dianping = dianping.loc[shuffle_indices]\n",
    "dianping = pd.concat([dianping[dianping.SENTIMENT == 'Positive'][:10000],\n",
    "                      dianping[dianping.SENTIMENT == 'Negative'][:20000],\n",
    "                      dianping[dianping.SENTIMENT == 'Neutral'][:10000]\n",
    "                    ])"
   ]
  },
  {
   "cell_type": "markdown",
   "metadata": {},
   "source": [
    "# Sentiment data"
   ]
  },
  {
   "cell_type": "code",
   "execution_count": 22,
   "metadata": {
    "collapsed": true
   },
   "outputs": [],
   "source": [
    "weibo_m_s = weibo_m_o[['COMMENT','SENTIMENT']].dropna(axis=0, how = 'any')\n",
    "weibo_s = weibo_o[['COMMENT','SENTIMENT']].dropna(axis=0, how = 'any')\n",
    "wechat_s = wechat_o[['CONTENT','SENTIMENT']].dropna(axis=0, how = 'any')"
   ]
  },
  {
   "cell_type": "code",
   "execution_count": 23,
   "metadata": {
    "collapsed": true
   },
   "outputs": [],
   "source": [
    "weibo_m_s.columns = ['CONTENT','SENTIMENT']\n",
    "weibo_s.columns = ['CONTENT','SENTIMENT']"
   ]
  },
  {
   "cell_type": "code",
   "execution_count": 24,
   "metadata": {
    "collapsed": true
   },
   "outputs": [],
   "source": [
    "data = pd.concat([weibo_m_s,weibo_s,wechat_s])"
   ]
  },
  {
   "cell_type": "code",
   "execution_count": 25,
   "metadata": {
    "collapsed": true
   },
   "outputs": [],
   "source": [
    "data['CONTENT'] = data['CONTENT'].str.replace('\\n', '')\n",
    "data = data.reset_index(drop=True)"
   ]
  },
  {
   "cell_type": "code",
   "execution_count": 26,
   "metadata": {
    "collapsed": true
   },
   "outputs": [],
   "source": [
    "length = []\n",
    "for i in range(len(data)):\n",
    "    data['CONTENT'][i] = HanziConv.toSimplified(data['CONTENT'][i])\n",
    "    length.append(len(data['CONTENT'][i]))\n",
    "    if data['SENTIMENT'][i] == 'Irrelevant':\n",
    "        data['SENTIMENT'][i] = 'Neutral'\n",
    "length = np.array(length)"
   ]
  },
  {
   "cell_type": "code",
   "execution_count": 27,
   "metadata": {
    "collapsed": true
   },
   "outputs": [],
   "source": [
    "from sklearn.model_selection import train_test_split\n",
    "\n",
    "dev, test = train_test_split(data, test_size=0.0, random_state = seed)"
   ]
  },
  {
   "cell_type": "code",
   "execution_count": 28,
   "metadata": {},
   "outputs": [
    {
     "data": {
      "text/html": [
       "<div>\n",
       "<style>\n",
       "    .dataframe thead tr:only-child th {\n",
       "        text-align: right;\n",
       "    }\n",
       "\n",
       "    .dataframe thead th {\n",
       "        text-align: left;\n",
       "    }\n",
       "\n",
       "    .dataframe tbody tr th {\n",
       "        vertical-align: top;\n",
       "    }\n",
       "</style>\n",
       "<table border=\"1\" class=\"dataframe\">\n",
       "  <thead>\n",
       "    <tr style=\"text-align: right;\">\n",
       "      <th></th>\n",
       "      <th>CONTENT</th>\n",
       "      <th>SENTIMENT</th>\n",
       "    </tr>\n",
       "  </thead>\n",
       "  <tbody>\n",
       "  </tbody>\n",
       "</table>\n",
       "</div>"
      ],
      "text/plain": [
       "Empty DataFrame\n",
       "Columns: [CONTENT, SENTIMENT]\n",
       "Index: []"
      ]
     },
     "execution_count": 28,
     "metadata": {},
     "output_type": "execute_result"
    }
   ],
   "source": [
    "test"
   ]
  },
  {
   "cell_type": "code",
   "execution_count": 29,
   "metadata": {},
   "outputs": [
    {
     "data": {
      "text/html": [
       "<div>\n",
       "<style>\n",
       "    .dataframe thead tr:only-child th {\n",
       "        text-align: right;\n",
       "    }\n",
       "\n",
       "    .dataframe thead th {\n",
       "        text-align: left;\n",
       "    }\n",
       "\n",
       "    .dataframe tbody tr th {\n",
       "        vertical-align: top;\n",
       "    }\n",
       "</style>\n",
       "<table border=\"1\" class=\"dataframe\">\n",
       "  <thead>\n",
       "    <tr style=\"text-align: right;\">\n",
       "      <th></th>\n",
       "      <th>CONTENT</th>\n",
       "      <th>SENTIMENT</th>\n",
       "    </tr>\n",
       "  </thead>\n",
       "  <tbody>\n",
       "    <tr>\n",
       "      <th>3652</th>\n",
       "      <td>真是够敬业啊！中宏保险成都公司的员工加班加点的骚扰投保人！如果这都不算骚扰算什么？@中宏保险...</td>\n",
       "      <td>Negative</td>\n",
       "    </tr>\n",
       "    <tr>\n",
       "      <th>9390</th>\n",
       "      <td>中化集团下属上市公司众多，分别有：中化国际，中化化股（港），方兴地产（港），远东宏信（港），...</td>\n",
       "      <td>Neutral</td>\n",
       "    </tr>\n",
       "    <tr>\n",
       "      <th>1792</th>\n",
       "      <td>转发微博@中宏保险 保险是随着风险事故的不断发展而产生的，未来人生或财产的不确定性是保险业务...</td>\n",
       "      <td>Neutral</td>\n",
       "    </tr>\n",
       "    <tr>\n",
       "      <th>10659</th>\n",
       "      <td>福布斯授予中宏保险母公司宏利金融为2016加拿大最佳雇主，250个企业中排行第29位。</td>\n",
       "      <td>Neutral</td>\n",
       "    </tr>\n",
       "    <tr>\n",
       "      <th>1593</th>\n",
       "      <td>自2016年12月起，当您在[中宏保险]微信上的理赔申请通过审核后，即可实现3000元以内理...</td>\n",
       "      <td>Neutral</td>\n",
       "    </tr>\n",
       "    <tr>\n",
       "      <th>9352</th>\n",
       "      <td>我们公司哦~@中宏保险 //@LetsChengdu:【甲级办公楼成交案例】➊中宏保险入驻华...</td>\n",
       "      <td>Neutral</td>\n",
       "    </tr>\n",
       "    <tr>\n",
       "      <th>2353</th>\n",
       "      <td>转发微博@中宏保险 【保险知识】保险不是保证不发生风险，而是减少风险发生的频率和在发生风险时...</td>\n",
       "      <td>Neutral</td>\n",
       "    </tr>\n",
       "    <tr>\n",
       "      <th>11886</th>\n",
       "      <td>一切归零，想吃煲的亲们下月下旬见，接下去盼要回归主业---中宏保险事业，我需要做服务并送更多...</td>\n",
       "      <td>Neutral</td>\n",
       "    </tr>\n",
       "    <tr>\n",
       "      <th>10239</th>\n",
       "      <td>【泰康人寿南充中心支公司总经理陈姿桦 |保险公司|互联网|保险_新浪财经_新浪网】陈姿桦在台...</td>\n",
       "      <td>Neutral</td>\n",
       "    </tr>\n",
       "    <tr>\n",
       "      <th>33</th>\n",
       "      <td>转发微博◆◆@中宏保险人生没有如果，只有后果和结果。过去的不再回来，回来的不再完美。生活有进...</td>\n",
       "      <td>Neutral</td>\n",
       "    </tr>\n",
       "    <tr>\n",
       "      <th>9166</th>\n",
       "      <td>发表了博文《中宏保险是公司销售人员是骗子》麻痹的，骗老子买了一份重疾保险说的是20多W，结果...</td>\n",
       "      <td>Negative</td>\n",
       "    </tr>\n",
       "    <tr>\n",
       "      <th>1202</th>\n",
       "      <td>思念如雪随风飘，相拥赏景聚欢笑，牵挂如梅绽娇艳，关怀缱绻身边绕，甜蜜如糖融心跳，牵手幸福暮暮...</td>\n",
       "      <td>Neutral</td>\n",
       "    </tr>\n",
       "    <tr>\n",
       "      <th>5710</th>\n",
       "      <td>转发微博◆◆@中宏保险好心情才会有好风景，好眼光才会有好发现，好思考才会有好主意。人可以不美...</td>\n",
       "      <td>Neutral</td>\n",
       "    </tr>\n",
       "    <tr>\n",
       "      <th>2387</th>\n",
       "      <td>#爱心落地##WE·公益 衣暖童心# 马关县南捞乡那往村那往小学119名学生，1月17日收到...</td>\n",
       "      <td>Neutral</td>\n",
       "    </tr>\n",
       "    <tr>\n",
       "      <th>5136</th>\n",
       "      <td>这个可以学习下下@中宏保险 正确的寿险购买顺序：1意外险——以小博大，保费低廉，保意外；2重...</td>\n",
       "      <td>Neutral</td>\n",
       "    </tr>\n",
       "    <tr>\n",
       "      <th>9284</th>\n",
       "      <td>岳阳平江专业租车3天就上平江中宏保险咨询【13873062228】</td>\n",
       "      <td>Neutral</td>\n",
       "    </tr>\n",
       "    <tr>\n",
       "      <th>10704</th>\n",
       "      <td>【中宏保险总裁张凯：摒弃唯渠道论 建立全方位财富管理体系】中宏保险掌门人，总裁兼首席执行官张...</td>\n",
       "      <td>Neutral</td>\n",
       "    </tr>\n",
       "    <tr>\n",
       "      <th>13387</th>\n",
       "      <td>公司介绍：中宏人寿保险有限公司是国内首家中外合资人寿保险公司，由加拿大宏利金融旗下的宏利人寿...</td>\n",
       "      <td>Neutral</td>\n",
       "    </tr>\n",
       "    <tr>\n",
       "      <th>3964</th>\n",
       "      <td>转发微博@中宏保险 【买保险，不能等！】我们面临的风险有两类：高频低损型——如感冒发烧、跌打...</td>\n",
       "      <td>Neutral</td>\n",
       "    </tr>\n",
       "    <tr>\n",
       "      <th>7974</th>\n",
       "      <td>中宏人寿保险有限公司简介http://url.cn/MEBH0D</td>\n",
       "      <td>Neutral</td>\n",
       "    </tr>\n",
       "    <tr>\n",
       "      <th>10564</th>\n",
       "      <td>@智联招聘 好工作，别错过~~#智联微招聘#【中宏人寿保险有限公司】在【上海】急聘【团险中介...</td>\n",
       "      <td>Neutral</td>\n",
       "    </tr>\n",
       "    <tr>\n",
       "      <th>9615</th>\n",
       "      <td>这位英俊潇洒、事业有成的帅哥，是江苏省盐城市中宏人寿老总李勇，昨天中午不舒服在南三院挂水，下...</td>\n",
       "      <td>Neutral</td>\n",
       "    </tr>\n",
       "    <tr>\n",
       "      <th>9098</th>\n",
       "      <td>【【加拿大宏利金融中宏保险简介】】125年历史的专业寿险公司，一张保单世界通用，，， (分享...</td>\n",
       "      <td>Neutral</td>\n",
       "    </tr>\n",
       "    <tr>\n",
       "      <th>2271</th>\n",
       "      <td>#衣暖童心#爱心落地了！！！感谢@中宏保险，感谢@上海随手公益基金会，感谢所有爱心人士对红河...</td>\n",
       "      <td>Neutral</td>\n",
       "    </tr>\n",
       "    <tr>\n",
       "      <th>10710</th>\n",
       "      <td>利用朋友圈的威力，帮忙转发[玫瑰][玫瑰]中宏保险公司太过分了，被保人是我一个朋友的亲人，【...</td>\n",
       "      <td>Negative</td>\n",
       "    </tr>\n",
       "    <tr>\n",
       "      <th>10034</th>\n",
       "      <td>今天又一个社会精英倒下了，他就是江苏省盐城市中宏人寿老总李勇，中午因不舒服在医院挂水，下午二...</td>\n",
       "      <td>Neutral</td>\n",
       "    </tr>\n",
       "    <tr>\n",
       "      <th>13139</th>\n",
       "      <td>万士家中宏人寿保险有限公司总裁兼CEO每次开会前对会议目标要非常明确我以前有一位老板，告诉我...</td>\n",
       "      <td>Neutral</td>\n",
       "    </tr>\n",
       "    <tr>\n",
       "      <th>3930</th>\n",
       "      <td>[笑哈哈][笑哈哈][笑哈哈][笑哈哈]@中宏保险 所谓舍得，舍即是得，舍在得中，得在舍中。...</td>\n",
       "      <td>Neutral</td>\n",
       "    </tr>\n",
       "    <tr>\n",
       "      <th>14018</th>\n",
       "      <td>【梦工厂招聘455】中宏人寿保险有限公司交易员招聘 金融梦工厂（微信号：jrmgc2013）...</td>\n",
       "      <td>Neutral</td>\n",
       "    </tr>\n",
       "    <tr>\n",
       "      <th>3884</th>\n",
       "      <td>转发微博@新浪公益 【#衣暖童心#公益活动完美收官】全国51个城市累计举办公益活动136场次...</td>\n",
       "      <td>Neutral</td>\n",
       "    </tr>\n",
       "    <tr>\n",
       "      <th>...</th>\n",
       "      <td>...</td>\n",
       "      <td>...</td>\n",
       "    </tr>\n",
       "    <tr>\n",
       "      <th>10038</th>\n",
       "      <td>今天又一个社会精英倒下了，他就是江苏省盐城市中宏人寿老总李勇，中午因不舒服在医院挂水，下午二...</td>\n",
       "      <td>Neutral</td>\n",
       "    </tr>\n",
       "    <tr>\n",
       "      <th>5526</th>\n",
       "      <td>～～～～～～～～～汇： @中宏保险#衣暖童心#11月1日，中宏淄博中心支公司联合淄博电视台生...</td>\n",
       "      <td>Neutral</td>\n",
       "    </tr>\n",
       "    <tr>\n",
       "      <th>6552</th>\n",
       "      <td>转发微博 @中宏保险 #衣暖童心#活动正在进行中，您可以通过以下方式捐衣或参与活动：1、如果...</td>\n",
       "      <td>Neutral</td>\n",
       "    </tr>\n",
       "    <tr>\n",
       "      <th>6229</th>\n",
       "      <td>转发微博◆◆ @中宏保险家庭理财80定律：鸡蛋不能放在一个篮子里，是家庭资产保值增值的关键，...</td>\n",
       "      <td>Neutral</td>\n",
       "    </tr>\n",
       "    <tr>\n",
       "      <th>14615</th>\n",
       "      <td>F19中宏人寿保险有限公司汕头中心支公司MT精英项目寿险规划师明天将公布&lt;会展中心二楼&gt;企业...</td>\n",
       "      <td>Neutral</td>\n",
       "    </tr>\n",
       "    <tr>\n",
       "      <th>13550</th>\n",
       "      <td>2013年7月，中宏保险和天使妈妈基金联合发起“WE Love 烙印天使”公益活动，通过义卖...</td>\n",
       "      <td>Neutral</td>\n",
       "    </tr>\n",
       "    <tr>\n",
       "      <th>4737</th>\n",
       "      <td>在灵隐里也标着这句：境来不拒，境去不留。古时的哲理真是[good]◆◆ @中宏保险 做人其实...</td>\n",
       "      <td>Neutral</td>\n",
       "    </tr>\n",
       "    <tr>\n",
       "      <th>3215</th>\n",
       "      <td>转发微博◆◆ @中宏保险 让自己忙一点，忙到没有时间去思考无关紧要的事，很多事就这样悄悄地淡...</td>\n",
       "      <td>Neutral</td>\n",
       "    </tr>\n",
       "    <tr>\n",
       "      <th>13513</th>\n",
       "      <td>——杨迎伟公众微信平台姓名：杨迎伟服务热线：13801517747公司地址：无锡市崇安区人民...</td>\n",
       "      <td>Neutral</td>\n",
       "    </tr>\n",
       "    <tr>\n",
       "      <th>7067</th>\n",
       "      <td>卖保险的，自己健康不保险，有啥用/吐/吐/吐 盐城市中宏人寿老总李勇，前天中午不舒服在南三院...</td>\n",
       "      <td>Neutral</td>\n",
       "    </tr>\n",
       "    <tr>\n",
       "      <th>15411</th>\n",
       "      <td>越来越多的中国人开始追求健康的生活方式，因为他们明白，有趣、浪漫、激情等等都不是可以让人撑一...</td>\n",
       "      <td>Neutral</td>\n",
       "    </tr>\n",
       "    <tr>\n",
       "      <th>11271</th>\n",
       "      <td>【保单的功用之一：签证】中宏客户7月与家人欲赴加拿大及欧洲，签证官要求具备个人寿险保险单！一...</td>\n",
       "      <td>Neutral</td>\n",
       "    </tr>\n",
       "    <tr>\n",
       "      <th>5633</th>\n",
       "      <td>赞赞赞//@随手公益福建:[good][good][good] @雁南飞林斌 #衣暖童心#今...</td>\n",
       "      <td>Neutral</td>\n",
       "    </tr>\n",
       "    <tr>\n",
       "      <th>14648</th>\n",
       "      <td>据《证券日报》记者不完全统计，截至2015年12月31日，保监会2015年共核准了76家保险...</td>\n",
       "      <td>Neutral</td>\n",
       "    </tr>\n",
       "    <tr>\n",
       "      <th>7210</th>\n",
       "      <td>【保险很重要，可是保健更重要。】盐城市中宏人寿老总李勇，昨天中午不舒服在南三院挂水，下午二点...</td>\n",
       "      <td>Neutral</td>\n",
       "    </tr>\n",
       "    <tr>\n",
       "      <th>902</th>\n",
       "      <td>@重庆仁爱社会工作服务中心 @中宏保险  °中宏人寿保险有限公司爱心捐赠仪式中宏人寿保险有...</td>\n",
       "      <td>Neutral</td>\n",
       "    </tr>\n",
       "    <tr>\n",
       "      <th>10379</th>\n",
       "      <td>可惜啊！又多了个王君瑶走了，中宏人寿老总李勇，于2014年6月21号中午因不舒服在医院输液，...</td>\n",
       "      <td>Neutral</td>\n",
       "    </tr>\n",
       "    <tr>\n",
       "      <th>7769</th>\n",
       "      <td>全球第三大寿险公司百年宏利旗下的中宏人寿宁波分公司，招聘职业经理人精英计划，招聘25-45岁...</td>\n",
       "      <td>Neutral</td>\n",
       "    </tr>\n",
       "    <tr>\n",
       "      <th>8377</th>\n",
       "      <td>中宏保险的1月份即将上市的养老年金《尊颐人生》，是业内第一家“全残双倍给付”的年金产品，老年...</td>\n",
       "      <td>Neutral</td>\n",
       "    </tr>\n",
       "    <tr>\n",
       "      <th>14555</th>\n",
       "      <td>——杨迎伟公众微信平台姓名：杨迎伟服务热线：13801517747公司地址：无锡市崇安区人民...</td>\n",
       "      <td>Neutral</td>\n",
       "    </tr>\n",
       "    <tr>\n",
       "      <th>14862</th>\n",
       "      <td>据《中美联泰大都会人寿2015年重疾理赔报告》显示，太平重疾案件中被保人出险年龄区间段占比最...</td>\n",
       "      <td>Neutral</td>\n",
       "    </tr>\n",
       "    <tr>\n",
       "      <th>14681</th>\n",
       "      <td>FHC投资圈饭局是英文Friend, Healt and Cooperation三个单词第一...</td>\n",
       "      <td>Neutral</td>\n",
       "    </tr>\n",
       "    <tr>\n",
       "      <th>11343</th>\n",
       "      <td>#公司乔迁庆典职业发展研讨会# 总裁Guy Mills在宏利金融服务超20年，服务宏利全球数...</td>\n",
       "      <td>Neutral</td>\n",
       "    </tr>\n",
       "    <tr>\n",
       "      <th>9036</th>\n",
       "      <td>中宏保险:超级巨星,百万圆桌MDRT会员,RFC(国际认证财务顾问师)</td>\n",
       "      <td>Neutral</td>\n",
       "    </tr>\n",
       "    <tr>\n",
       "      <th>14007</th>\n",
       "      <td>保费收入超过百亿元的直辖市分公司终于由平安寿险北京分公司1家增为3家，增加的就是两匹黑马安邦...</td>\n",
       "      <td>Neutral</td>\n",
       "    </tr>\n",
       "    <tr>\n",
       "      <th>11050</th>\n",
       "      <td>组合智慧，中宏与你共创未来！ 五月八日晚上七点半至九点半，中宏保险四川分公司邀请母公司加拿大...</td>\n",
       "      <td>Neutral</td>\n",
       "    </tr>\n",
       "    <tr>\n",
       "      <th>14148</th>\n",
       "      <td>1949年10月20日 中国人民保险公司在北京成立，这也是新中国成立后第一家国有保险公司。　...</td>\n",
       "      <td>Neutral</td>\n",
       "    </tr>\n",
       "    <tr>\n",
       "      <th>784</th>\n",
       "      <td>加班中收到了友人的手信和慰问品@中宏保险 张童鞋的服务态度真是杠杠的[偷笑]</td>\n",
       "      <td>Positive</td>\n",
       "    </tr>\n",
       "    <tr>\n",
       "      <th>12905</th>\n",
       "      <td>网易财经连续第五年独家发布中国金融500强榜单。2015中国金融500强由241家银行、97...</td>\n",
       "      <td>Neutral</td>\n",
       "    </tr>\n",
       "    <tr>\n",
       "      <th>1818</th>\n",
       "      <td>订阅号：保险救我@中宏保险保险不是用来改变生活的，而是用来预防生活被改变的。通胀不断侵蚀着你...</td>\n",
       "      <td>Neutral</td>\n",
       "    </tr>\n",
       "  </tbody>\n",
       "</table>\n",
       "<p>15623 rows × 2 columns</p>\n",
       "</div>"
      ],
      "text/plain": [
       "                                                 CONTENT SENTIMENT\n",
       "3652   真是够敬业啊！中宏保险成都公司的员工加班加点的骚扰投保人！如果这都不算骚扰算什么？@中宏保险...  Negative\n",
       "9390   中化集团下属上市公司众多，分别有：中化国际，中化化股（港），方兴地产（港），远东宏信（港），...   Neutral\n",
       "1792   转发微博@中宏保险 保险是随着风险事故的不断发展而产生的，未来人生或财产的不确定性是保险业务...   Neutral\n",
       "10659        福布斯授予中宏保险母公司宏利金融为2016加拿大最佳雇主，250个企业中排行第29位。   Neutral\n",
       "1593   自2016年12月起，当您在[中宏保险]微信上的理赔申请通过审核后，即可实现3000元以内理...   Neutral\n",
       "9352   我们公司哦~@中宏保险 //@LetsChengdu:【甲级办公楼成交案例】➊中宏保险入驻华...   Neutral\n",
       "2353   转发微博@中宏保险 【保险知识】保险不是保证不发生风险，而是减少风险发生的频率和在发生风险时...   Neutral\n",
       "11886  一切归零，想吃煲的亲们下月下旬见，接下去盼要回归主业---中宏保险事业，我需要做服务并送更多...   Neutral\n",
       "10239  【泰康人寿南充中心支公司总经理陈姿桦 |保险公司|互联网|保险_新浪财经_新浪网】陈姿桦在台...   Neutral\n",
       "33     转发微博◆◆@中宏保险人生没有如果，只有后果和结果。过去的不再回来，回来的不再完美。生活有进...   Neutral\n",
       "9166   发表了博文《中宏保险是公司销售人员是骗子》麻痹的，骗老子买了一份重疾保险说的是20多W，结果...  Negative\n",
       "1202   思念如雪随风飘，相拥赏景聚欢笑，牵挂如梅绽娇艳，关怀缱绻身边绕，甜蜜如糖融心跳，牵手幸福暮暮...   Neutral\n",
       "5710   转发微博◆◆@中宏保险好心情才会有好风景，好眼光才会有好发现，好思考才会有好主意。人可以不美...   Neutral\n",
       "2387   #爱心落地##WE·公益 衣暖童心# 马关县南捞乡那往村那往小学119名学生，1月17日收到...   Neutral\n",
       "5136   这个可以学习下下@中宏保险 正确的寿险购买顺序：1意外险——以小博大，保费低廉，保意外；2重...   Neutral\n",
       "9284                  岳阳平江专业租车3天就上平江中宏保险咨询【13873062228】    Neutral\n",
       "10704  【中宏保险总裁张凯：摒弃唯渠道论 建立全方位财富管理体系】中宏保险掌门人，总裁兼首席执行官张...   Neutral\n",
       "13387  公司介绍：中宏人寿保险有限公司是国内首家中外合资人寿保险公司，由加拿大宏利金融旗下的宏利人寿...   Neutral\n",
       "3964   转发微博@中宏保险 【买保险，不能等！】我们面临的风险有两类：高频低损型——如感冒发烧、跌打...   Neutral\n",
       "7974                   中宏人寿保险有限公司简介http://url.cn/MEBH0D    Neutral\n",
       "10564  @智联招聘 好工作，别错过~~#智联微招聘#【中宏人寿保险有限公司】在【上海】急聘【团险中介...   Neutral\n",
       "9615   这位英俊潇洒、事业有成的帅哥，是江苏省盐城市中宏人寿老总李勇，昨天中午不舒服在南三院挂水，下...   Neutral\n",
       "9098   【【加拿大宏利金融中宏保险简介】】125年历史的专业寿险公司，一张保单世界通用，，， (分享...   Neutral\n",
       "2271   #衣暖童心#爱心落地了！！！感谢@中宏保险，感谢@上海随手公益基金会，感谢所有爱心人士对红河...   Neutral\n",
       "10710  利用朋友圈的威力，帮忙转发[玫瑰][玫瑰]中宏保险公司太过分了，被保人是我一个朋友的亲人，【...  Negative\n",
       "10034  今天又一个社会精英倒下了，他就是江苏省盐城市中宏人寿老总李勇，中午因不舒服在医院挂水，下午二...   Neutral\n",
       "13139  万士家中宏人寿保险有限公司总裁兼CEO每次开会前对会议目标要非常明确我以前有一位老板，告诉我...   Neutral\n",
       "3930   [笑哈哈][笑哈哈][笑哈哈][笑哈哈]@中宏保险 所谓舍得，舍即是得，舍在得中，得在舍中。...   Neutral\n",
       "14018  【梦工厂招聘455】中宏人寿保险有限公司交易员招聘 金融梦工厂（微信号：jrmgc2013）...   Neutral\n",
       "3884   转发微博@新浪公益 【#衣暖童心#公益活动完美收官】全国51个城市累计举办公益活动136场次...   Neutral\n",
       "...                                                  ...       ...\n",
       "10038  今天又一个社会精英倒下了，他就是江苏省盐城市中宏人寿老总李勇，中午因不舒服在医院挂水，下午二...   Neutral\n",
       "5526   ～～～～～～～～～汇： @中宏保险#衣暖童心#11月1日，中宏淄博中心支公司联合淄博电视台生...   Neutral\n",
       "6552   转发微博 @中宏保险 #衣暖童心#活动正在进行中，您可以通过以下方式捐衣或参与活动：1、如果...   Neutral\n",
       "6229   转发微博◆◆ @中宏保险家庭理财80定律：鸡蛋不能放在一个篮子里，是家庭资产保值增值的关键，...   Neutral\n",
       "14615  F19中宏人寿保险有限公司汕头中心支公司MT精英项目寿险规划师明天将公布<会展中心二楼>企业...   Neutral\n",
       "13550  2013年7月，中宏保险和天使妈妈基金联合发起“WE Love 烙印天使”公益活动，通过义卖...   Neutral\n",
       "4737   在灵隐里也标着这句：境来不拒，境去不留。古时的哲理真是[good]◆◆ @中宏保险 做人其实...   Neutral\n",
       "3215   转发微博◆◆ @中宏保险 让自己忙一点，忙到没有时间去思考无关紧要的事，很多事就这样悄悄地淡...   Neutral\n",
       "13513  ——杨迎伟公众微信平台姓名：杨迎伟服务热线：13801517747公司地址：无锡市崇安区人民...   Neutral\n",
       "7067   卖保险的，自己健康不保险，有啥用/吐/吐/吐 盐城市中宏人寿老总李勇，前天中午不舒服在南三院...   Neutral\n",
       "15411  越来越多的中国人开始追求健康的生活方式，因为他们明白，有趣、浪漫、激情等等都不是可以让人撑一...   Neutral\n",
       "11271  【保单的功用之一：签证】中宏客户7月与家人欲赴加拿大及欧洲，签证官要求具备个人寿险保险单！一...   Neutral\n",
       "5633   赞赞赞//@随手公益福建:[good][good][good] @雁南飞林斌 #衣暖童心#今...   Neutral\n",
       "14648  据《证券日报》记者不完全统计，截至2015年12月31日，保监会2015年共核准了76家保险...   Neutral\n",
       "7210   【保险很重要，可是保健更重要。】盐城市中宏人寿老总李勇，昨天中午不舒服在南三院挂水，下午二点...   Neutral\n",
       "902     @重庆仁爱社会工作服务中心 @中宏保险  °中宏人寿保险有限公司爱心捐赠仪式中宏人寿保险有...   Neutral\n",
       "10379  可惜啊！又多了个王君瑶走了，中宏人寿老总李勇，于2014年6月21号中午因不舒服在医院输液，...   Neutral\n",
       "7769   全球第三大寿险公司百年宏利旗下的中宏人寿宁波分公司，招聘职业经理人精英计划，招聘25-45岁...   Neutral\n",
       "8377   中宏保险的1月份即将上市的养老年金《尊颐人生》，是业内第一家“全残双倍给付”的年金产品，老年...   Neutral\n",
       "14555  ——杨迎伟公众微信平台姓名：杨迎伟服务热线：13801517747公司地址：无锡市崇安区人民...   Neutral\n",
       "14862  据《中美联泰大都会人寿2015年重疾理赔报告》显示，太平重疾案件中被保人出险年龄区间段占比最...   Neutral\n",
       "14681  FHC投资圈饭局是英文Friend, Healt and Cooperation三个单词第一...   Neutral\n",
       "11343  #公司乔迁庆典职业发展研讨会# 总裁Guy Mills在宏利金融服务超20年，服务宏利全球数...   Neutral\n",
       "9036                 中宏保险:超级巨星,百万圆桌MDRT会员,RFC(国际认证财务顾问师)   Neutral\n",
       "14007  保费收入超过百亿元的直辖市分公司终于由平安寿险北京分公司1家增为3家，增加的就是两匹黑马安邦...   Neutral\n",
       "11050  组合智慧，中宏与你共创未来！ 五月八日晚上七点半至九点半，中宏保险四川分公司邀请母公司加拿大...   Neutral\n",
       "14148  1949年10月20日 中国人民保险公司在北京成立，这也是新中国成立后第一家国有保险公司。　...   Neutral\n",
       "784               加班中收到了友人的手信和慰问品@中宏保险 张童鞋的服务态度真是杠杠的[偷笑]  Positive\n",
       "12905  网易财经连续第五年独家发布中国金融500强榜单。2015中国金融500强由241家银行、97...   Neutral\n",
       "1818   订阅号：保险救我@中宏保险保险不是用来改变生活的，而是用来预防生活被改变的。通胀不断侵蚀着你...   Neutral\n",
       "\n",
       "[15623 rows x 2 columns]"
      ]
     },
     "execution_count": 29,
     "metadata": {},
     "output_type": "execute_result"
    }
   ],
   "source": [
    "dev"
   ]
  },
  {
   "cell_type": "code",
   "execution_count": 30,
   "metadata": {
    "collapsed": true
   },
   "outputs": [],
   "source": [
    "testing_folder = './data/processed/testing/'\n",
    "if not os.path.exists(testing_folder):\n",
    "    os.makedirs(testing_folder)\n",
    "for the_file in os.listdir(testing_folder):\n",
    "    file_path = os.path.join(testing_folder, the_file)\n",
    "    try:\n",
    "        if os.path.isfile(file_path):\n",
    "            os.unlink(file_path)\n",
    "        #elif os.path.isdir(file_path): shutil.rmtree(file_path)\n",
    "    except Exception as e:\n",
    "        print(e)\n",
    "train_folder = './data/processed/training/'\n",
    "if not os.path.exists(train_folder):\n",
    "    os.makedirs(train_folder)\n",
    "for the_file in os.listdir(train_folder):\n",
    "    file_path = os.path.join(train_folder, the_file)\n",
    "    try:\n",
    "        if os.path.isfile(file_path):\n",
    "            os.unlink(file_path)\n",
    "        #elif os.path.isdir(file_path): shutil.rmtree(file_path)\n",
    "    except Exception as e:\n",
    "        print(e)\n",
    "        \n",
    "dianping_folder = './data/processed/training/dianping/'\n",
    "if not os.path.exists(dianping_folder):\n",
    "    os.makedirs(dianping_folder)\n",
    "for the_file in os.listdir(dianping_folder):\n",
    "    file_path = os.path.join(dianping_folder, the_file)\n",
    "    try:\n",
    "        if os.path.isfile(file_path):\n",
    "            os.unlink(file_path)\n",
    "        #elif os.path.isdir(file_path): shutil.rmtree(file_path)\n",
    "    except Exception as e:\n",
    "        print(e)\n",
    "snownlp_folder = './data/processed/training/snownlp/'\n",
    "if not os.path.exists(snownlp_folder):\n",
    "    os.makedirs(snownlp_folder)\n",
    "for the_file in os.listdir(snownlp_folder):\n",
    "    file_path = os.path.join(snownlp_folder, the_file)\n",
    "    try:\n",
    "        if os.path.isfile(file_path):\n",
    "            os.unlink(file_path)\n",
    "        #elif os.path.isdir(file_path): shutil.rmtree(file_path)\n",
    "    except Exception as e:\n",
    "        print(e)\n",
    "dev_folder = './data/processed/validation/'\n",
    "if not os.path.exists(dev_folder):\n",
    "    os.makedirs(dev_folder)\n",
    "for the_file in os.listdir(dev_folder):\n",
    "    file_path = os.path.join(dev_folder, the_file)\n",
    "    try:\n",
    "        if os.path.isfile(file_path):\n",
    "            os.unlink(file_path)\n",
    "        #elif os.path.isdir(file_path): shutil.rmtree(file_path)\n",
    "    except Exception as e:\n",
    "        print(e)\n"
   ]
  },
  {
   "cell_type": "code",
   "execution_count": 31,
   "metadata": {
    "collapsed": true
   },
   "outputs": [],
   "source": [
    "# snownlp\n",
    "shutil.copyfile(\"./data/pos.txt\",snownlp_folder + \"Positive.utf8\")\n",
    "shutil.copyfile(\"./data/neg.txt\",snownlp_folder + \"Negative.utf8\")\n",
    "os.mknod(snownlp_folder + \"Neutral.utf8\") "
   ]
  },
  {
   "cell_type": "code",
   "execution_count": 32,
   "metadata": {
    "collapsed": true
   },
   "outputs": [],
   "source": [
    "# dianping\n",
    "for x in dianping['SENTIMENT'].unique():\n",
    "#     np.savetxt(dianping_folder+ x.replace('/',' ') +'.utf8',\\\n",
    "#                    dianping[dianping['SENTIMENT'] == x]['CONTENT'].values, fmt='%s')\n",
    "    filename = dianping_folder+ x.replace('/',' ') +'.utf8'\n",
    "    os.mknod(filename)\n",
    "    with open(filename,'w') as f:\n",
    "        for l in dianping[dianping['SENTIMENT'] == x]['CONTENT'].values:\n",
    "            f.write('%s\\n'%l)\n"
   ]
  },
  {
   "cell_type": "code",
   "execution_count": 33,
   "metadata": {
    "collapsed": true
   },
   "outputs": [],
   "source": [
    "# manulife\n",
    "for x in dev['SENTIMENT'].unique():\n",
    "#     np.savetxt(dev_folder+ x.replace('/',' ') +'.utf8',\\\n",
    "#                    train[train['SENTIMENT'] == x]['CONTENT'].values, fmt='%s')\n",
    "    filename = dev_folder+ x.replace('/',' ') +'.utf8'\n",
    "    os.mknod(filename)\n",
    "    with open(filename,'w') as f:\n",
    "        for l in dev[dev['SENTIMENT'] == x]['CONTENT'].values:\n",
    "            f.write('%s\\n'%l)\n",
    "\n",
    "for x in test['SENTIMENT'].unique():\n",
    "#     np.savetxt(testing_folder+ x.replace('/',' ') +'.utf8',\\\n",
    "#                    test[test['SENTIMENT'] == x]['CONTENT'].values, fmt='%s')\n",
    "    filename = testing_folder+ x.replace('/',' ') +'.utf8'\n",
    "    os.mknod(filename)\n",
    "    with open(filename,'w') as f:\n",
    "        for l in test[test['SENTIMENT'] == x]['CONTENT'].values:\n",
    "            f.write('%s\\n'%l)"
   ]
  },
  {
   "cell_type": "code",
   "execution_count": 34,
   "metadata": {},
   "outputs": [
    {
     "data": {
      "text/plain": [
       "Neutral     14871\n",
       "Positive      465\n",
       "Negative      287\n",
       "Name: SENTIMENT, dtype: int64"
      ]
     },
     "execution_count": 34,
     "metadata": {},
     "output_type": "execute_result"
    }
   ],
   "source": [
    "dev['SENTIMENT'].value_counts()"
   ]
  },
  {
   "cell_type": "code",
   "execution_count": 35,
   "metadata": {},
   "outputs": [
    {
     "data": {
      "text/plain": [
       "Series([], Name: SENTIMENT, dtype: int64)"
      ]
     },
     "execution_count": 35,
     "metadata": {},
     "output_type": "execute_result"
    }
   ],
   "source": [
    "test['SENTIMENT'].value_counts()"
   ]
  },
  {
   "cell_type": "code",
   "execution_count": 13,
   "metadata": {
    "collapsed": true
   },
   "outputs": [],
   "source": [
    "from gensim.models import Word2Vec\n",
    "w2vModel = Word2Vec.load('runs/trained_word2vec.model.all')"
   ]
  },
  {
   "cell_type": "code",
   "execution_count": 3,
   "metadata": {},
   "outputs": [
    {
     "data": {
      "text/plain": [
       "4806"
      ]
     },
     "execution_count": 3,
     "metadata": {},
     "output_type": "execute_result"
    }
   ],
   "source": [
    "len(w2vModel.wv.vocab)"
   ]
  },
  {
   "cell_type": "code",
   "execution_count": null,
   "metadata": {
    "collapsed": true
   },
   "outputs": [],
   "source": []
  },
  {
   "cell_type": "code",
   "execution_count": 275,
   "metadata": {
    "collapsed": true
   },
   "outputs": [],
   "source": [
    "from gensim.models import KeyedVectors\n",
    "w2vModel = KeyedVectors.load_word2vec_format('runs/wiki.zh.vec')"
   ]
  },
  {
   "cell_type": "code",
   "execution_count": 16,
   "metadata": {},
   "outputs": [
    {
     "name": "stdout",
     "output_type": "stream",
     "text": [
      "骗\n",
      "1266\n"
     ]
    }
   ],
   "source": [
    "vocab_obj = w2vModel.wv.vocab\n",
    "word = '骗'\n",
    "print(word)\n",
    "print(vocab_obj[word].index)"
   ]
  },
  {
   "cell_type": "code",
   "execution_count": 41,
   "metadata": {},
   "outputs": [
    {
     "data": {
      "text/html": [
       "<div>\n",
       "<style>\n",
       "    .dataframe thead tr:only-child th {\n",
       "        text-align: right;\n",
       "    }\n",
       "\n",
       "    .dataframe thead th {\n",
       "        text-align: left;\n",
       "    }\n",
       "\n",
       "    .dataframe tbody tr th {\n",
       "        vertical-align: top;\n",
       "    }\n",
       "</style>\n",
       "<table border=\"1\" class=\"dataframe\">\n",
       "  <thead>\n",
       "    <tr style=\"text-align: right;\">\n",
       "      <th></th>\n",
       "      <th>CONTENT</th>\n",
       "      <th>SENTIMENT</th>\n",
       "    </tr>\n",
       "  </thead>\n",
       "  <tbody>\n",
       "    <tr>\n",
       "      <th>0</th>\n",
       "      <td>仓储式购物环境，看着货架上一堆堆的物品，人的购物欲望就被激发起来了！进口食品很多，特别是西点...</td>\n",
       "      <td>Positive</td>\n",
       "    </tr>\n",
       "    <tr>\n",
       "      <th>1</th>\n",
       "      <td>有点远 在西安的时候逛得多我在岳麓区这边 每次去都要坐一个多小时的车 搞得后来没什么欲望去了...</td>\n",
       "      <td>Positive</td>\n",
       "    </tr>\n",
       "    <tr>\n",
       "      <th>2</th>\n",
       "      <td>实在要来赞一赞省博，首先网站做的很好，不多的能支持firefox的网站啊。网上订票系统非常靠...</td>\n",
       "      <td>Positive</td>\n",
       "    </tr>\n",
       "    <tr>\n",
       "      <th>3</th>\n",
       "      <td>第二次去了，正值周末，10点到已经只拿到下午2点的票子。估计排在后面的人是看不成了。马王堆是...</td>\n",
       "      <td>Positive</td>\n",
       "    </tr>\n",
       "    <tr>\n",
       "      <th>4</th>\n",
       "      <td>给予全五星的评价在于带我们的荣誉志愿者，唐老伯。呵呵，好像是财政厅退休公务员，带着湖南口音，...</td>\n",
       "      <td>Positive</td>\n",
       "    </tr>\n",
       "  </tbody>\n",
       "</table>\n",
       "</div>"
      ],
      "text/plain": [
       "                                             CONTENT SENTIMENT\n",
       "0  仓储式购物环境，看着货架上一堆堆的物品，人的购物欲望就被激发起来了！进口食品很多，特别是西点...  Positive\n",
       "1  有点远 在西安的时候逛得多我在岳麓区这边 每次去都要坐一个多小时的车 搞得后来没什么欲望去了...  Positive\n",
       "2  实在要来赞一赞省博，首先网站做的很好，不多的能支持firefox的网站啊。网上订票系统非常靠...  Positive\n",
       "3  第二次去了，正值周末，10点到已经只拿到下午2点的票子。估计排在后面的人是看不成了。马王堆是...  Positive\n",
       "4  给予全五星的评价在于带我们的荣誉志愿者，唐老伯。呵呵，好像是财政厅退休公务员，带着湖南口音，...  Positive"
      ]
     },
     "execution_count": 41,
     "metadata": {},
     "output_type": "execute_result"
    }
   ],
   "source": [
    "dianping.head()"
   ]
  },
  {
   "cell_type": "code",
   "execution_count": 70,
   "metadata": {
    "collapsed": true
   },
   "outputs": [],
   "source": [
    "from os import listdir"
   ]
  },
  {
   "cell_type": "code",
   "execution_count": 162,
   "metadata": {},
   "outputs": [
    {
     "data": {
      "text/plain": [
       "0.049958374957880025"
      ]
     },
     "execution_count": 162,
     "metadata": {},
     "output_type": "execute_result"
    }
   ],
   "source": [
    "2. / (1. + np.exp(-10. * 0.01)) - 1"
   ]
  },
  {
   "cell_type": "code",
   "execution_count": null,
   "metadata": {
    "collapsed": true
   },
   "outputs": [],
   "source": []
  }
 ],
 "metadata": {
  "kernelspec": {
   "display_name": "Python 3",
   "language": "python",
   "name": "python3"
  },
  "language_info": {
   "codemirror_mode": {
    "name": "ipython",
    "version": 3
   },
   "file_extension": ".py",
   "mimetype": "text/x-python",
   "name": "python",
   "nbconvert_exporter": "python",
   "pygments_lexer": "ipython3",
   "version": "3.6.3"
  }
 },
 "nbformat": 4,
 "nbformat_minor": 2
}
