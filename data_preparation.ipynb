{
 "cells": [
  {
   "cell_type": "code",
   "execution_count": 12,
   "metadata": {},
   "outputs": [],
   "source": [
    "import pandas as pd\n",
    "import numpy as np\n",
    "import re\n",
    "import os\n",
    "from os import listdir\n",
    "from os.path import isfile, join\n",
    "import data_helpers"
   ]
  },
  {
   "cell_type": "code",
   "execution_count": 3,
   "metadata": {
    "collapsed": true
   },
   "outputs": [],
   "source": [
    "weibo_m = pd.read_csv('./data/Weibo_M.csv')\n",
    "weibo = pd.read_csv('./data/Weibo.csv')\n",
    "wechat = pd.read_csv('./data/Wechat.csv')\n",
    "news_forum = pd.read_csv('./data/News_forum.csv')"
   ]
  },
  {
   "cell_type": "code",
   "execution_count": 4,
   "metadata": {
    "collapsed": true
   },
   "outputs": [],
   "source": [
    "weibo_m = weibo_m[['COMMENT','AREAS AFFECTED']].dropna(axis=0, how = 'any')\n",
    "weibo = weibo[['COMMENT','AREAS AFFECTED']].dropna(axis=0, how = 'any')\n",
    "wechat = wechat[['CONTENT','AREAS AFFECTED']].dropna(axis=0, how = 'any')\n",
    "news_forum = news_forum[['CONTENT','AREAS AFFECTED']].dropna(axis=0, how = 'any')"
   ]
  },
  {
   "cell_type": "code",
   "execution_count": 5,
   "metadata": {
    "collapsed": true
   },
   "outputs": [],
   "source": [
    "weibo_m.columns = ['CONTENT','AREAS AFFECTED']\n",
    "weibo.columns = ['CONTENT','AREAS AFFECTED']"
   ]
  },
  {
   "cell_type": "code",
   "execution_count": 31,
   "metadata": {
    "collapsed": true
   },
   "outputs": [],
   "source": [
    "data = pd.concat([weibo_m,weibo,wechat,news_forum])"
   ]
  },
  {
   "cell_type": "code",
   "execution_count": 32,
   "metadata": {
    "collapsed": true
   },
   "outputs": [],
   "source": [
    "data['CONTENT'] = data['CONTENT'].str.replace('\\n', '')\n",
    "data['AREAS AFFECTED'] = data['AREAS AFFECTED'].str.replace('life', 'Life')\n",
    "data['AREAS AFFECTED'] = data['AREAS AFFECTED'].str.replace('sponsored', 'Sponsored')\n",
    "data['AREAS AFFECTED'] = data['AREAS AFFECTED'].str.replace('news', 'News')"
   ]
  },
  {
   "cell_type": "code",
   "execution_count": 33,
   "metadata": {},
   "outputs": [
    {
     "data": {
      "text/plain": [
       "array(['Life Comprehend', 'Products/Service', 'Health Information',\n",
       "       'Ads/Marketing', 'Customer Service', 'Irrelevant Ads',\n",
       "       'Charity Events', 'Survey/Questions', 'Contact Information', 'Fund',\n",
       "       'Corporate Brands', 'Sponsored Events', 'Volunteering Activity',\n",
       "       'Products', 'Website Issues', 'Corporate News', 'Recruitment',\n",
       "       'Agent Issues', 'Employment', 'Stocks&Earnings',\n",
       "       'General Mentioned', 'Employee Information'], dtype=object)"
      ]
     },
     "execution_count": 33,
     "metadata": {},
     "output_type": "execute_result"
    }
   ],
   "source": [
    "data['AREAS AFFECTED'].unique()"
   ]
  },
  {
   "cell_type": "code",
   "execution_count": 34,
   "metadata": {},
   "outputs": [],
   "source": [
    "#data['AREAS AFFECTED'] = (data['AREAS AFFECTED'] == 'Products/Service').astype(str)"
   ]
  },
  {
   "cell_type": "code",
   "execution_count": 35,
   "metadata": {},
   "outputs": [],
   "source": [
    "mypath = './data/processed/'\n",
    "for the_file in os.listdir(mypath):\n",
    "    file_path = os.path.join(mypath, the_file)\n",
    "    try:\n",
    "        if os.path.isfile(file_path):\n",
    "            os.unlink(file_path)\n",
    "        #elif os.path.isdir(file_path): shutil.rmtree(file_path)\n",
    "    except Exception as e:\n",
    "        print(e)"
   ]
  },
  {
   "cell_type": "code",
   "execution_count": 36,
   "metadata": {},
   "outputs": [],
   "source": [
    "for x in data['AREAS AFFECTED'].unique():\n",
    "    np.savetxt(mypath+ x.replace('/',' ') +'.utf8',\\\n",
    "                   data[data['AREAS AFFECTED'] == x]['CONTENT'].values, fmt='%s')"
   ]
  },
  {
   "cell_type": "code",
   "execution_count": null,
   "metadata": {
    "collapsed": true
   },
   "outputs": [],
   "source": []
  }
 ],
 "metadata": {
  "kernelspec": {
   "display_name": "Python 2",
   "language": "python",
   "name": "python2"
  },
  "language_info": {
   "codemirror_mode": {
    "name": "ipython",
    "version": 2
   },
   "file_extension": ".py",
   "mimetype": "text/x-python",
   "name": "python",
   "nbconvert_exporter": "python",
   "pygments_lexer": "ipython2",
   "version": "2.7.13"
  }
 },
 "nbformat": 4,
 "nbformat_minor": 2
}
