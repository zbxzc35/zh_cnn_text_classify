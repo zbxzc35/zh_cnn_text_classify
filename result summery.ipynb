{
 "cells": [
  {
   "cell_type": "code",
   "execution_count": 1,
   "metadata": {
    "collapsed": true
   },
   "outputs": [],
   "source": [
    "import pandas as pd\n"
   ]
  },
  {
   "cell_type": "code",
   "execution_count": 119,
   "metadata": {
    "collapsed": true
   },
   "outputs": [],
   "source": [
    "myfile = './runs/2017-10-05T07:04:31.212577/'"
   ]
  },
  {
   "cell_type": "code",
   "execution_count": 71,
   "metadata": {
    "collapsed": true
   },
   "outputs": [],
   "source": [
    "data = pd.read_csv(myfile+'prediction.csv',names = ['content','lable','predict'])"
   ]
  },
  {
   "cell_type": "code",
   "execution_count": 88,
   "metadata": {
    "collapsed": true
   },
   "outputs": [],
   "source": [
    "data['content'] = data['content'].str.replace(' ', '')\n",
    "data = data.dropna()"
   ]
  },
  {
   "cell_type": "code",
   "execution_count": 89,
   "metadata": {},
   "outputs": [],
   "source": [
    "customer_service = data[data['lable'] == 'Customer Service']\n",
    "others = data[data['lable'] != 'Customer Service']"
   ]
  },
  {
   "cell_type": "code",
   "execution_count": 114,
   "metadata": {},
   "outputs": [
    {
     "data": {
      "text/plain": [
       "3081"
      ]
     },
     "execution_count": 114,
     "metadata": {},
     "output_type": "execute_result"
    }
   ],
   "source": [
    "len(data)"
   ]
  },
  {
   "cell_type": "code",
   "execution_count": 91,
   "metadata": {},
   "outputs": [],
   "source": [
    "true_pos = sum(customer_service['predict'] == customer_service['lable'])"
   ]
  },
  {
   "cell_type": "code",
   "execution_count": 106,
   "metadata": {},
   "outputs": [],
   "source": [
    "false_pos = sum(others['predict'] == 'Customer Service')"
   ]
  },
  {
   "cell_type": "code",
   "execution_count": 109,
   "metadata": {},
   "outputs": [],
   "source": [
    "false_neg = sum(customer_service['predict'] != customer_service['lable'])"
   ]
  },
  {
   "cell_type": "code",
   "execution_count": 110,
   "metadata": {
    "collapsed": true
   },
   "outputs": [],
   "source": [
    "true_neg = sum(others['predict'] == others['lable'])"
   ]
  },
  {
   "cell_type": "code",
   "execution_count": 111,
   "metadata": {},
   "outputs": [
    {
     "data": {
      "text/plain": [
       "8"
      ]
     },
     "execution_count": 111,
     "metadata": {},
     "output_type": "execute_result"
    }
   ],
   "source": [
    "false_pos"
   ]
  },
  {
   "cell_type": "code",
   "execution_count": 112,
   "metadata": {},
   "outputs": [
    {
     "data": {
      "text/plain": [
       "0.95294117647058818"
      ]
     },
     "execution_count": 112,
     "metadata": {},
     "output_type": "execute_result"
    }
   ],
   "source": [
    "precision = true_pos*1./(true_pos+false_pos)\n",
    "precision"
   ]
  },
  {
   "cell_type": "code",
   "execution_count": 113,
   "metadata": {},
   "outputs": [
    {
     "data": {
      "text/plain": [
       "0.97005988023952094"
      ]
     },
     "execution_count": 113,
     "metadata": {},
     "output_type": "execute_result"
    }
   ],
   "source": [
    "recall = true_pos*1./(true_pos+false_neg)\n",
    "recall"
   ]
  },
  {
   "cell_type": "code",
   "execution_count": 122,
   "metadata": {},
   "outputs": [
    {
     "data": {
      "text/html": [
       "<div>\n",
       "<style>\n",
       "    .dataframe thead tr:only-child th {\n",
       "        text-align: right;\n",
       "    }\n",
       "\n",
       "    .dataframe thead th {\n",
       "        text-align: left;\n",
       "    }\n",
       "\n",
       "    .dataframe tbody tr th {\n",
       "        vertical-align: top;\n",
       "    }\n",
       "</style>\n",
       "<table border=\"1\" class=\"dataframe\">\n",
       "  <thead>\n",
       "    <tr style=\"text-align: right;\">\n",
       "      <th></th>\n",
       "      <th>content</th>\n",
       "      <th>lable</th>\n",
       "      <th>predict</th>\n",
       "    </tr>\n",
       "  </thead>\n",
       "  <tbody>\n",
       "    <tr>\n",
       "      <th>436</th>\n",
       "      <td>您好想问下湖南衡阳有没有服务点请速回答谢谢</td>\n",
       "      <td>Customer Service</td>\n",
       "      <td>General Mentioned</td>\n",
       "    </tr>\n",
       "    <tr>\n",
       "      <th>499</th>\n",
       "      <td>这是今天早上获颁发的中宏保险名人会的证书也就是说在客户服务方面是做到中宏保险最好的一个象征作...</td>\n",
       "      <td>Customer Service</td>\n",
       "      <td>Corporate Brands</td>\n",
       "    </tr>\n",
       "    <tr>\n",
       "      <th>529</th>\n",
       "      <td>中宏人寿保险</td>\n",
       "      <td>Customer Service</td>\n",
       "      <td>Contact Information</td>\n",
       "    </tr>\n",
       "    <tr>\n",
       "      <th>559</th>\n",
       "      <td>中宏金彩人生三什么时候退保比较合适</td>\n",
       "      <td>Customer Service</td>\n",
       "      <td>Products Service</td>\n",
       "    </tr>\n",
       "    <tr>\n",
       "      <th>584</th>\n",
       "      <td>国际救援服务不管你人在地球的任何一个角落一个电话我与中宏随时为你服务</td>\n",
       "      <td>Customer Service</td>\n",
       "      <td>Ads Marketing</td>\n",
       "    </tr>\n",
       "  </tbody>\n",
       "</table>\n",
       "</div>"
      ],
      "text/plain": [
       "                                               content             lable  \\\n",
       "436                              您好想问下湖南衡阳有没有服务点请速回答谢谢  Customer Service   \n",
       "499  这是今天早上获颁发的中宏保险名人会的证书也就是说在客户服务方面是做到中宏保险最好的一个象征作...  Customer Service   \n",
       "529                                             中宏人寿保险  Customer Service   \n",
       "559                                  中宏金彩人生三什么时候退保比较合适  Customer Service   \n",
       "584                 国际救援服务不管你人在地球的任何一个角落一个电话我与中宏随时为你服务  Customer Service   \n",
       "\n",
       "                 predict  \n",
       "436    General Mentioned  \n",
       "499     Corporate Brands  \n",
       "529  Contact Information  \n",
       "559     Products Service  \n",
       "584        Ads Marketing  "
      ]
     },
     "execution_count": 122,
     "metadata": {},
     "output_type": "execute_result"
    }
   ],
   "source": [
    "out = customer_service[customer_service['predict'] != 'Customer Service']\n",
    "out.to_csv(myfile+'false_neg.csv')\n",
    "out"
   ]
  },
  {
   "cell_type": "code",
   "execution_count": 123,
   "metadata": {},
   "outputs": [
    {
     "data": {
      "text/html": [
       "<div>\n",
       "<style>\n",
       "    .dataframe thead tr:only-child th {\n",
       "        text-align: right;\n",
       "    }\n",
       "\n",
       "    .dataframe thead th {\n",
       "        text-align: left;\n",
       "    }\n",
       "\n",
       "    .dataframe tbody tr th {\n",
       "        vertical-align: top;\n",
       "    }\n",
       "</style>\n",
       "<table border=\"1\" class=\"dataframe\">\n",
       "  <thead>\n",
       "    <tr style=\"text-align: right;\">\n",
       "      <th></th>\n",
       "      <th>content</th>\n",
       "      <th>lable</th>\n",
       "      <th>predict</th>\n",
       "    </tr>\n",
       "  </thead>\n",
       "  <tbody>\n",
       "    <tr>\n",
       "      <th>975</th>\n",
       "      <td>人生的美好其实是无止境的追求丫小情</td>\n",
       "      <td>Life Comprehend</td>\n",
       "      <td>Customer Service</td>\n",
       "    </tr>\n",
       "    <tr>\n",
       "      <th>1139</th>\n",
       "      <td>中宏人寿保险有限公司投保人受益人对被保险人的故意杀害故意伤害被保险人故意自伤故意犯罪或拒捕被...</td>\n",
       "      <td>Corporate Brands</td>\n",
       "      <td>Customer Service</td>\n",
       "    </tr>\n",
       "    <tr>\n",
       "      <th>1270</th>\n",
       "      <td>中宏保险是最专业的保险公司是唯一一个在网站零投诉的寿险保险公司</td>\n",
       "      <td>Corporate Brands</td>\n",
       "      <td>Customer Service</td>\n",
       "    </tr>\n",
       "    <tr>\n",
       "      <th>1439</th>\n",
       "      <td>中宏人寿保险有限公司投保人受益人对被保险人的故意杀害故意伤害被保险人故意自伤故意犯罪或拒捕被...</td>\n",
       "      <td>Products Service</td>\n",
       "      <td>Customer Service</td>\n",
       "    </tr>\n",
       "    <tr>\n",
       "      <th>1735</th>\n",
       "      <td>转发微博中宏保险根据媒体报道月日约时分一艘载有人从南京驶往重庆的客轮在长江中游湖北监利水域倾...</td>\n",
       "      <td>Products Service</td>\n",
       "      <td>Customer Service</td>\n",
       "    </tr>\n",
       "    <tr>\n",
       "      <th>2243</th>\n",
       "      <td>中宏人寿昆山市营销服务部服务热线</td>\n",
       "      <td>Products Service</td>\n",
       "      <td>Customer Service</td>\n",
       "    </tr>\n",
       "    <tr>\n",
       "      <th>2281</th>\n",
       "      <td>浙江省慈溪市匡堰派出所所长胡挺滥用职权办假案造假证甬崇司鉴所临鉴字第号已明确黄文聪且上诉损伤...</td>\n",
       "      <td>Products Service</td>\n",
       "      <td>Customer Service</td>\n",
       "    </tr>\n",
       "    <tr>\n",
       "      <th>2775</th>\n",
       "      <td>九江县交警部门联动保雨雪冰冻天气交通安全人民网中宏人寿保险有限公司上海分公司探索强化员工安全...</td>\n",
       "      <td>Corporate News</td>\n",
       "      <td>Customer Service</td>\n",
       "    </tr>\n",
       "  </tbody>\n",
       "</table>\n",
       "</div>"
      ],
      "text/plain": [
       "                                                content             lable  \\\n",
       "975                                   人生的美好其实是无止境的追求丫小情   Life Comprehend   \n",
       "1139  中宏人寿保险有限公司投保人受益人对被保险人的故意杀害故意伤害被保险人故意自伤故意犯罪或拒捕被...  Corporate Brands   \n",
       "1270                    中宏保险是最专业的保险公司是唯一一个在网站零投诉的寿险保险公司  Corporate Brands   \n",
       "1439  中宏人寿保险有限公司投保人受益人对被保险人的故意杀害故意伤害被保险人故意自伤故意犯罪或拒捕被...  Products Service   \n",
       "1735  转发微博中宏保险根据媒体报道月日约时分一艘载有人从南京驶往重庆的客轮在长江中游湖北监利水域倾...  Products Service   \n",
       "2243                                   中宏人寿昆山市营销服务部服务热线  Products Service   \n",
       "2281  浙江省慈溪市匡堰派出所所长胡挺滥用职权办假案造假证甬崇司鉴所临鉴字第号已明确黄文聪且上诉损伤...  Products Service   \n",
       "2775  九江县交警部门联动保雨雪冰冻天气交通安全人民网中宏人寿保险有限公司上海分公司探索强化员工安全...    Corporate News   \n",
       "\n",
       "               predict  \n",
       "975   Customer Service  \n",
       "1139  Customer Service  \n",
       "1270  Customer Service  \n",
       "1439  Customer Service  \n",
       "1735  Customer Service  \n",
       "2243  Customer Service  \n",
       "2281  Customer Service  \n",
       "2775  Customer Service  "
      ]
     },
     "execution_count": 123,
     "metadata": {},
     "output_type": "execute_result"
    }
   ],
   "source": [
    "out = others[others['predict'] == 'Customer Service']\n",
    "out.to_csv(myfile+'false_pos.csv')\n",
    "out"
   ]
  },
  {
   "cell_type": "code",
   "execution_count": null,
   "metadata": {
    "collapsed": true
   },
   "outputs": [],
   "source": []
  }
 ],
 "metadata": {
  "kernelspec": {
   "display_name": "Python 2",
   "language": "python",
   "name": "python2"
  },
  "language_info": {
   "codemirror_mode": {
    "name": "ipython",
    "version": 2
   },
   "file_extension": ".py",
   "mimetype": "text/x-python",
   "name": "python",
   "nbconvert_exporter": "python",
   "pygments_lexer": "ipython2",
   "version": "2.7.13"
  }
 },
 "nbformat": 4,
 "nbformat_minor": 2
}
