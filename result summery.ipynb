{
 "cells": [
  {
   "cell_type": "code",
   "execution_count": 1,
   "metadata": {
    "collapsed": true
   },
   "outputs": [],
   "source": [
    "import pandas as pd\n"
   ]
  },
  {
   "cell_type": "code",
   "execution_count": 6,
   "metadata": {
    "collapsed": true
   },
   "outputs": [],
   "source": [
    "myfile = './runs/2USX97~S/' "
   ]
  },
  {
   "cell_type": "code",
   "execution_count": 7,
   "metadata": {},
   "outputs": [],
   "source": [
    "data = pd.read_csv(myfile+'prediction.csv',names = ['content','lable','predict'])"
   ]
  },
  {
   "cell_type": "code",
   "execution_count": 8,
   "metadata": {},
   "outputs": [
    {
     "data": {
      "text/html": [
       "<div>\n",
       "<style>\n",
       "    .dataframe thead tr:only-child th {\n",
       "        text-align: right;\n",
       "    }\n",
       "\n",
       "    .dataframe thead th {\n",
       "        text-align: left;\n",
       "    }\n",
       "\n",
       "    .dataframe tbody tr th {\n",
       "        vertical-align: top;\n",
       "    }\n",
       "</style>\n",
       "<table border=\"1\" class=\"dataframe\">\n",
       "  <thead>\n",
       "    <tr style=\"text-align: right;\">\n",
       "      <th></th>\n",
       "      <th>content</th>\n",
       "      <th>lable</th>\n",
       "      <th>predict</th>\n",
       "    </tr>\n",
       "  </thead>\n",
       "  <tbody>\n",
       "    <tr>\n",
       "      <th>0</th>\n",
       "      <td>我 觉 得 中 宏 保 险 真 的 做 得 很 不 错 周 柏 豪 身 为 中 宏 保 险 ...</td>\n",
       "      <td>Positive</td>\n",
       "      <td>Positive</td>\n",
       "    </tr>\n",
       "    <tr>\n",
       "      <th>1</th>\n",
       "      <td>上 海 快 验 保 门 诊 部 体 检 中 心 代 人 体 检 枪 手 作 弊 医 院 在 ...</td>\n",
       "      <td>Positive</td>\n",
       "      <td>Neutral</td>\n",
       "    </tr>\n",
       "    <tr>\n",
       "      <th>2</th>\n",
       "      <td>第 十 一 届 中 国 最 佳 国 际 品 牌 建 设 案 例 奖 大 陆 马 牌 轮 胎 ...</td>\n",
       "      <td>Positive</td>\n",
       "      <td>Neutral</td>\n",
       "    </tr>\n",
       "    <tr>\n",
       "      <th>3</th>\n",
       "      <td>月 日 中 宏 开 通 微 信 理 赔 服 务 月 日 我 们 绵 阳 机 构 第 一 个 ...</td>\n",
       "      <td>Positive</td>\n",
       "      <td>Positive</td>\n",
       "    </tr>\n",
       "    <tr>\n",
       "      <th>4</th>\n",
       "      <td>转 发 微 博 中 宏 保 险 第 四 届 中 国 财 经 峰 会 日 前 在 北 京 财 ...</td>\n",
       "      <td>Positive</td>\n",
       "      <td>Positive</td>\n",
       "    </tr>\n",
       "    <tr>\n",
       "      <th>5</th>\n",
       "      <td>十 年 来 中 宏 保 险 通 过 行 动 传 达 一 种 健 康 的 公 益 态 度 公 ...</td>\n",
       "      <td>Positive</td>\n",
       "      <td>Positive</td>\n",
       "    </tr>\n",
       "    <tr>\n",
       "      <th>6</th>\n",
       "      <td>赞 鼓 掌 中 宏 保 险 第 四 届 中 国 财 经 峰 会 日 前 在 北 京 财 富 ...</td>\n",
       "      <td>Positive</td>\n",
       "      <td>Positive</td>\n",
       "    </tr>\n",
       "    <tr>\n",
       "      <th>7</th>\n",
       "      <td>谢 谢 中 宏 保 险 中 宏 保 险 为 赴 尼 泊 尔 救 援 队 提 供 意 外 保 ...</td>\n",
       "      <td>Positive</td>\n",
       "      <td>Neutral</td>\n",
       "    </tr>\n",
       "    <tr>\n",
       "      <th>8</th>\n",
       "      <td>宏 利 金 融 中 方 股 东 中 化 集 团 雄 厚 实 力 我 们 致 力 于 最 值 ...</td>\n",
       "      <td>Positive</td>\n",
       "      <td>Positive</td>\n",
       "    </tr>\n",
       "    <tr>\n",
       "      <th>9</th>\n",
       "      <td>中 宏 荣 誉 中 宏 保 险 荣 膺 最 佳 品 牌 形 象 奖</td>\n",
       "      <td>Positive</td>\n",
       "      <td>Positive</td>\n",
       "    </tr>\n",
       "    <tr>\n",
       "      <th>10</th>\n",
       "      <td>中 宏 保 险 四 川 分 公 司 荣 获 新 浪 金 麒 麟 年 最 佳 寿 险 公 司 ...</td>\n",
       "      <td>Positive</td>\n",
       "      <td>Positive</td>\n",
       "    </tr>\n",
       "    <tr>\n",
       "      <th>11</th>\n",
       "      <td>全 市 家 寿 险 公 司 服 务 测 评 中 宏 人 寿 位 居 前 三 鼓 掌 鼓 掌 ...</td>\n",
       "      <td>Positive</td>\n",
       "      <td>Positive</td>\n",
       "    </tr>\n",
       "    <tr>\n",
       "      <th>12</th>\n",
       "      <td>心 中 宏 保 险 的 产 品 一 经 问 世 总 能 斩 获 各 种 殊 荣 产 品 价 ...</td>\n",
       "      <td>Positive</td>\n",
       "      <td>Positive</td>\n",
       "    </tr>\n",
       "    <tr>\n",
       "      <th>13</th>\n",
       "      <td>一 天 几 块 钱 保 全 家 中 宏 保 险 世 界 第 三 的 保 险 公 司 给 你 ...</td>\n",
       "      <td>Positive</td>\n",
       "      <td>Neutral</td>\n",
       "    </tr>\n",
       "    <tr>\n",
       "      <th>14</th>\n",
       "      <td>荣 誉 几 家 保 险 公 司 评 比 中 中 宏 人 寿 少 儿 重 疾 险 长 保 福 ...</td>\n",
       "      <td>Positive</td>\n",
       "      <td>Positive</td>\n",
       "    </tr>\n",
       "    <tr>\n",
       "      <th>15</th>\n",
       "      <td>亲 爱 的 中 宏 保 险 的 客 户 们 最 新 消 息 回 馈 在 如 此 美 好 的 ...</td>\n",
       "      <td>Positive</td>\n",
       "      <td>Positive</td>\n",
       "    </tr>\n",
       "    <tr>\n",
       "      <th>16</th>\n",
       "      <td>好 好 的 中 宏 保 险 网 络 红 人 晓 林 我 会 多 关 注 多 转 发 天 使 ...</td>\n",
       "      <td>Positive</td>\n",
       "      <td>Positive</td>\n",
       "    </tr>\n",
       "    <tr>\n",
       "      <th>17</th>\n",
       "      <td>中 宏 保 险 再 次 被 保 监 会 评 为 类 公 司 最 权 威 的 肯 定</td>\n",
       "      <td>Positive</td>\n",
       "      <td>Positive</td>\n",
       "    </tr>\n",
       "    <tr>\n",
       "      <th>18</th>\n",
       "      <td>拍 手 中 宏 保 险 中 宏 人 寿 坚 定 做 客 户 健 康 的 保 护 神 理 赔 ...</td>\n",
       "      <td>Positive</td>\n",
       "      <td>Positive</td>\n",
       "    </tr>\n",
       "    <tr>\n",
       "      <th>19</th>\n",
       "      <td>这 中 宏 保 险 真 的 让 我 很 震 惊 天 使 妈 妈 彼 岸 看 到 这 样 的 ...</td>\n",
       "      <td>Positive</td>\n",
       "      <td>Positive</td>\n",
       "    </tr>\n",
       "    <tr>\n",
       "      <th>20</th>\n",
       "      <td>很 喜 欢 中 宏 保 险 的 这 种 社 会 行 为</td>\n",
       "      <td>Positive</td>\n",
       "      <td>Positive</td>\n",
       "    </tr>\n",
       "    <tr>\n",
       "      <th>21</th>\n",
       "      <td>因 为 中 宏 的 平 台 我 们 可 以 是 风 险 管 理 师 保 险 企 业 家 演 ...</td>\n",
       "      <td>Positive</td>\n",
       "      <td>Neutral</td>\n",
       "    </tr>\n",
       "    <tr>\n",
       "      <th>22</th>\n",
       "      <td>微 笑 香 港 苹 果 日 报 财 经 新 闻 为 什 么 宏 利 年 来 被 全 球 保 ...</td>\n",
       "      <td>Positive</td>\n",
       "      <td>Positive</td>\n",
       "    </tr>\n",
       "    <tr>\n",
       "      <th>23</th>\n",
       "      <td>加 拿 大 宏 利 金 融 中 宏 保 险 的 外 资 控 股 方 香 港 的 股 王 以 ...</td>\n",
       "      <td>Positive</td>\n",
       "      <td>Positive</td>\n",
       "    </tr>\n",
       "    <tr>\n",
       "      <th>24</th>\n",
       "      <td>贺 中 宏 保 险 荣 获 杰 出 品 牌 形 象 奖 中 国 财 经 峰 会 是 经 济 ...</td>\n",
       "      <td>Positive</td>\n",
       "      <td>Positive</td>\n",
       "    </tr>\n",
       "    <tr>\n",
       "      <th>25</th>\n",
       "      <td>除 人 物 奖 项 外 峰 会 现 场 还 颁 发 了 最 佳 品 牌 形 象 奖 最 佳 ...</td>\n",
       "      <td>Positive</td>\n",
       "      <td>Positive</td>\n",
       "    </tr>\n",
       "    <tr>\n",
       "      <th>26</th>\n",
       "      <td>香 港 苹 果 日 报 财 经 新 闻 为 什 么 宏 利 年 来 被 全 球 保 户 称 ...</td>\n",
       "      <td>Positive</td>\n",
       "      <td>Positive</td>\n",
       "    </tr>\n",
       "    <tr>\n",
       "      <th>27</th>\n",
       "      <td>险 资 向 我 扫 来 谢 谢 中 宏 保 险</td>\n",
       "      <td>Positive</td>\n",
       "      <td>Positive</td>\n",
       "    </tr>\n",
       "    <tr>\n",
       "      <th>28</th>\n",
       "      <td>中 宏 保 险 只 做 人 寿 所 以 更 专 业</td>\n",
       "      <td>Positive</td>\n",
       "      <td>Neutral</td>\n",
       "    </tr>\n",
       "    <tr>\n",
       "      <th>29</th>\n",
       "      <td>中 宏 保 险 本 月 号 隆 重 推 出 长 保 安 康 重 疾 保 险 无 分 红 性 ...</td>\n",
       "      <td>Positive</td>\n",
       "      <td>Positive</td>\n",
       "    </tr>\n",
       "    <tr>\n",
       "      <th>...</th>\n",
       "      <td>...</td>\n",
       "      <td>...</td>\n",
       "      <td>...</td>\n",
       "    </tr>\n",
       "    <tr>\n",
       "      <th>3095</th>\n",
       "      <td>亲 爱 的 客 户 朋 友 们 公 司 给 你 们 的 优 惠 活 的 倒 计 时 开 始 ...</td>\n",
       "      <td>Neutral</td>\n",
       "      <td>Neutral</td>\n",
       "    </tr>\n",
       "    <tr>\n",
       "      <th>3096</th>\n",
       "      <td>说 的 实 在 中 宏 保 险 越 有 故 事 的 人 越 沉 静 简 单 越 肤 浅 单 ...</td>\n",
       "      <td>Neutral</td>\n",
       "      <td>Neutral</td>\n",
       "    </tr>\n",
       "    <tr>\n",
       "      <th>3097</th>\n",
       "      <td>转 发 微 博 中 宏 保 险 静 夜 心 语 往 事 如 烟 浅 笑 而 安 慢 慢 的 ...</td>\n",
       "      <td>Neutral</td>\n",
       "      <td>Neutral</td>\n",
       "    </tr>\n",
       "    <tr>\n",
       "      <th>3098</th>\n",
       "      <td>中 宏 人 寿 老 总 李 勇 下 班 后 去 宾 馆 约 客 户 谈 事 期 间 突 发 ...</td>\n",
       "      <td>Neutral</td>\n",
       "      <td>Neutral</td>\n",
       "    </tr>\n",
       "    <tr>\n",
       "      <th>3099</th>\n",
       "      <td>网 易 财 经 连 续 第 四 年 发 布 中 国 金 融 强 中 国 金 融 强 由 家 ...</td>\n",
       "      <td>Neutral</td>\n",
       "      <td>Neutral</td>\n",
       "    </tr>\n",
       "    <tr>\n",
       "      <th>3100</th>\n",
       "      <td>原 中 宏 人 寿 总 裁 林 重 文 创 办 第 三 方 保 险 中 介 机 构 江 泰 ...</td>\n",
       "      <td>Neutral</td>\n",
       "      <td>Neutral</td>\n",
       "    </tr>\n",
       "    <tr>\n",
       "      <th>3101</th>\n",
       "      <td>中 银 金 融 商 务 有 限 公 司 以 下 简 称 中 银 商 务 于 年 月 成 立 ...</td>\n",
       "      <td>Neutral</td>\n",
       "      <td>Neutral</td>\n",
       "    </tr>\n",
       "    <tr>\n",
       "      <th>3102</th>\n",
       "      <td>有 一 种 理 解 叫 感 同 身 受 寒 潮 来 袭 让 我 们 挑 战 寒 冷 不 二 ...</td>\n",
       "      <td>Neutral</td>\n",
       "      <td>Neutral</td>\n",
       "    </tr>\n",
       "    <tr>\n",
       "      <th>3103</th>\n",
       "      <td>在 你 印 象 中 幼 儿 园 毕 业 表 演 是 怎 么 一 回 事 如 果 你 认 为 ...</td>\n",
       "      <td>Neutral</td>\n",
       "      <td>Neutral</td>\n",
       "    </tr>\n",
       "    <tr>\n",
       "      <th>3104</th>\n",
       "      <td>这 是 中 国 保 监 会 月 日 颁 布 的 处 罚 报 表 其 中 依 然 没 有 中 ...</td>\n",
       "      <td>Neutral</td>\n",
       "      <td>Positive</td>\n",
       "    </tr>\n",
       "    <tr>\n",
       "      <th>3105</th>\n",
       "      <td>精 英 学 员 实 习 生 日 锦 江 都 城 新 文 化 中 宏 保 险 如 家 酒 店 ...</td>\n",
       "      <td>Neutral</td>\n",
       "      <td>Neutral</td>\n",
       "    </tr>\n",
       "    <tr>\n",
       "      <th>3106</th>\n",
       "      <td>盛 世 中 宏 荣 耀 荆 楚 中 宏 保 险 营 销 精 英 颁 奖 盛 典 活 动 马 ...</td>\n",
       "      <td>Neutral</td>\n",
       "      <td>Neutral</td>\n",
       "    </tr>\n",
       "    <tr>\n",
       "      <th>3107</th>\n",
       "      <td>女 性 保 险 中 宏 保 险 关 于 女 性 保 险 的 小 常 识 购 买 女 性 保 ...</td>\n",
       "      <td>Neutral</td>\n",
       "      <td>Neutral</td>\n",
       "    </tr>\n",
       "    <tr>\n",
       "      <th>3108</th>\n",
       "      <td>保 险 优 选 转 发 微 博 中 宏 保 险 保 险 理 念 真 正 不 能 输 在 起 ...</td>\n",
       "      <td>Neutral</td>\n",
       "      <td>Neutral</td>\n",
       "    </tr>\n",
       "    <tr>\n",
       "      <th>3109</th>\n",
       "      <td>转 发 微 博 中 宏 保 险 静 夜 心 语 受 挫 一 次 对 生 活 的 理 解 加 ...</td>\n",
       "      <td>Neutral</td>\n",
       "      <td>Neutral</td>\n",
       "    </tr>\n",
       "    <tr>\n",
       "      <th>3110</th>\n",
       "      <td>中 国 保 险 公 司 排 名 公 司 名 称 原 保 险 保 费 收 入 资 本 结 构 ...</td>\n",
       "      <td>Neutral</td>\n",
       "      <td>Neutral</td>\n",
       "    </tr>\n",
       "    <tr>\n",
       "      <th>3111</th>\n",
       "      <td>人 生 的 美 好 其 实 是 无 止 境 的 追 求 丫 小 情</td>\n",
       "      <td>Neutral</td>\n",
       "      <td>Neutral</td>\n",
       "    </tr>\n",
       "    <tr>\n",
       "      <th>3112</th>\n",
       "      <td>一 个 绿 色 盒 子 代 表 什 么 疑 问 代 表 对 您 超 过 年 的 承 诺 不 ...</td>\n",
       "      <td>Neutral</td>\n",
       "      <td>Neutral</td>\n",
       "    </tr>\n",
       "    <tr>\n",
       "      <th>3113</th>\n",
       "      <td>转 发 微 博 中 宏 保 险 小 时 候 幸 福 是 一 件 东 西 拥 有 就 幸 福 ...</td>\n",
       "      <td>Neutral</td>\n",
       "      <td>Neutral</td>\n",
       "    </tr>\n",
       "    <tr>\n",
       "      <th>3114</th>\n",
       "      <td>能 不 能 别 吹 牛 逼 不 吹 会 不 会 死 偷 笑 改 保 险 都 不 敢 承 认 ...</td>\n",
       "      <td>Neutral</td>\n",
       "      <td>Neutral</td>\n",
       "    </tr>\n",
       "    <tr>\n",
       "      <th>3115</th>\n",
       "      <td>围 观 世 界 杯 领 现 金 给 力 的 微 博 世 界 杯 福 利 疯 抢 围 观 世 ...</td>\n",
       "      <td>Neutral</td>\n",
       "      <td>Neutral</td>\n",
       "    </tr>\n",
       "    <tr>\n",
       "      <th>3116</th>\n",
       "      <td>转 发 微 博 中 宏 保 险 你 的 器 官 需 要 打 扫 了 吗 经 常 打 嗝 腹 ...</td>\n",
       "      <td>Neutral</td>\n",
       "      <td>Neutral</td>\n",
       "    </tr>\n",
       "    <tr>\n",
       "      <th>3117</th>\n",
       "      <td>转 发 微 博 信 赖 由 时 间 累 积 而 成 本 期 大 众 理 财 惊 现 中 宏 ...</td>\n",
       "      <td>Neutral</td>\n",
       "      <td>Neutral</td>\n",
       "    </tr>\n",
       "    <tr>\n",
       "      <th>3118</th>\n",
       "      <td>积 极 健 康 也 是 传 递 一 种 思 想 评 论 我 的 微 博 月 日 香 港 流 ...</td>\n",
       "      <td>Neutral</td>\n",
       "      <td>Neutral</td>\n",
       "    </tr>\n",
       "    <tr>\n",
       "      <th>3119</th>\n",
       "      <td>转 江 苏 省 盐 城 中 宏 人 寿 老 总 李 勇 昨 天 中 午 不 舒 服 在 南 ...</td>\n",
       "      <td>Neutral</td>\n",
       "      <td>Neutral</td>\n",
       "    </tr>\n",
       "    <tr>\n",
       "      <th>3120</th>\n",
       "      <td>中 国 保 监 会 关 于 人 身 保 险 失 效 保 单 专 项 清 理 工 作 情 况 ...</td>\n",
       "      <td>Neutral</td>\n",
       "      <td>Neutral</td>\n",
       "    </tr>\n",
       "    <tr>\n",
       "      <th>3121</th>\n",
       "      <td>中 宏 保 险 客 户 服 务 未 来 就 是 现 在 亲 子 教 育 活 动 专 题 讲 ...</td>\n",
       "      <td>Neutral</td>\n",
       "      <td>Neutral</td>\n",
       "    </tr>\n",
       "    <tr>\n",
       "      <th>3122</th>\n",
       "      <td>有 需 要 买 保 险 的 找 我 中 宏 保 险</td>\n",
       "      <td>Neutral</td>\n",
       "      <td>Neutral</td>\n",
       "    </tr>\n",
       "    <tr>\n",
       "      <th>3123</th>\n",
       "      <td>五 月 在 一 片 繁 花 绿 树 中 走 来 温 暖 的 阳 光 照 耀 着 大 地 它 ...</td>\n",
       "      <td>Neutral</td>\n",
       "      <td>Neutral</td>\n",
       "    </tr>\n",
       "    <tr>\n",
       "      <th>3124</th>\n",
       "      <td>转 发 微 博 中 宏 保 险 保 险 小 贴 士 保 险 产 品 的 选 购 应 结 合 ...</td>\n",
       "      <td>Neutral</td>\n",
       "      <td>Neutral</td>\n",
       "    </tr>\n",
       "  </tbody>\n",
       "</table>\n",
       "<p>3125 rows × 3 columns</p>\n",
       "</div>"
      ],
      "text/plain": [
       "                                                content     lable   predict\n",
       "0     我 觉 得 中 宏 保 险 真 的 做 得 很 不 错 周 柏 豪 身 为 中 宏 保 险 ...  Positive  Positive\n",
       "1     上 海 快 验 保 门 诊 部 体 检 中 心 代 人 体 检 枪 手 作 弊 医 院 在 ...  Positive   Neutral\n",
       "2     第 十 一 届 中 国 最 佳 国 际 品 牌 建 设 案 例 奖 大 陆 马 牌 轮 胎 ...  Positive   Neutral\n",
       "3     月 日 中 宏 开 通 微 信 理 赔 服 务 月 日 我 们 绵 阳 机 构 第 一 个 ...  Positive  Positive\n",
       "4     转 发 微 博 中 宏 保 险 第 四 届 中 国 财 经 峰 会 日 前 在 北 京 财 ...  Positive  Positive\n",
       "5     十 年 来 中 宏 保 险 通 过 行 动 传 达 一 种 健 康 的 公 益 态 度 公 ...  Positive  Positive\n",
       "6     赞 鼓 掌 中 宏 保 险 第 四 届 中 国 财 经 峰 会 日 前 在 北 京 财 富 ...  Positive  Positive\n",
       "7     谢 谢 中 宏 保 险 中 宏 保 险 为 赴 尼 泊 尔 救 援 队 提 供 意 外 保 ...  Positive   Neutral\n",
       "8     宏 利 金 融 中 方 股 东 中 化 集 团 雄 厚 实 力 我 们 致 力 于 最 值 ...  Positive  Positive\n",
       "9                     中 宏 荣 誉 中 宏 保 险 荣 膺 最 佳 品 牌 形 象 奖  Positive  Positive\n",
       "10    中 宏 保 险 四 川 分 公 司 荣 获 新 浪 金 麒 麟 年 最 佳 寿 险 公 司 ...  Positive  Positive\n",
       "11    全 市 家 寿 险 公 司 服 务 测 评 中 宏 人 寿 位 居 前 三 鼓 掌 鼓 掌 ...  Positive  Positive\n",
       "12    心 中 宏 保 险 的 产 品 一 经 问 世 总 能 斩 获 各 种 殊 荣 产 品 价 ...  Positive  Positive\n",
       "13    一 天 几 块 钱 保 全 家 中 宏 保 险 世 界 第 三 的 保 险 公 司 给 你 ...  Positive   Neutral\n",
       "14    荣 誉 几 家 保 险 公 司 评 比 中 中 宏 人 寿 少 儿 重 疾 险 长 保 福 ...  Positive  Positive\n",
       "15    亲 爱 的 中 宏 保 险 的 客 户 们 最 新 消 息 回 馈 在 如 此 美 好 的 ...  Positive  Positive\n",
       "16    好 好 的 中 宏 保 险 网 络 红 人 晓 林 我 会 多 关 注 多 转 发 天 使 ...  Positive  Positive\n",
       "17            中 宏 保 险 再 次 被 保 监 会 评 为 类 公 司 最 权 威 的 肯 定  Positive  Positive\n",
       "18    拍 手 中 宏 保 险 中 宏 人 寿 坚 定 做 客 户 健 康 的 保 护 神 理 赔 ...  Positive  Positive\n",
       "19    这 中 宏 保 险 真 的 让 我 很 震 惊 天 使 妈 妈 彼 岸 看 到 这 样 的 ...  Positive  Positive\n",
       "20                          很 喜 欢 中 宏 保 险 的 这 种 社 会 行 为  Positive  Positive\n",
       "21    因 为 中 宏 的 平 台 我 们 可 以 是 风 险 管 理 师 保 险 企 业 家 演 ...  Positive   Neutral\n",
       "22    微 笑 香 港 苹 果 日 报 财 经 新 闻 为 什 么 宏 利 年 来 被 全 球 保 ...  Positive  Positive\n",
       "23    加 拿 大 宏 利 金 融 中 宏 保 险 的 外 资 控 股 方 香 港 的 股 王 以 ...  Positive  Positive\n",
       "24    贺 中 宏 保 险 荣 获 杰 出 品 牌 形 象 奖 中 国 财 经 峰 会 是 经 济 ...  Positive  Positive\n",
       "25    除 人 物 奖 项 外 峰 会 现 场 还 颁 发 了 最 佳 品 牌 形 象 奖 最 佳 ...  Positive  Positive\n",
       "26    香 港 苹 果 日 报 财 经 新 闻 为 什 么 宏 利 年 来 被 全 球 保 户 称 ...  Positive  Positive\n",
       "27                              险 资 向 我 扫 来 谢 谢 中 宏 保 险  Positive  Positive\n",
       "28                            中 宏 保 险 只 做 人 寿 所 以 更 专 业  Positive   Neutral\n",
       "29    中 宏 保 险 本 月 号 隆 重 推 出 长 保 安 康 重 疾 保 险 无 分 红 性 ...  Positive  Positive\n",
       "...                                                 ...       ...       ...\n",
       "3095  亲 爱 的 客 户 朋 友 们 公 司 给 你 们 的 优 惠 活 的 倒 计 时 开 始 ...   Neutral   Neutral\n",
       "3096  说 的 实 在 中 宏 保 险 越 有 故 事 的 人 越 沉 静 简 单 越 肤 浅 单 ...   Neutral   Neutral\n",
       "3097  转 发 微 博 中 宏 保 险 静 夜 心 语 往 事 如 烟 浅 笑 而 安 慢 慢 的 ...   Neutral   Neutral\n",
       "3098  中 宏 人 寿 老 总 李 勇 下 班 后 去 宾 馆 约 客 户 谈 事 期 间 突 发 ...   Neutral   Neutral\n",
       "3099  网 易 财 经 连 续 第 四 年 发 布 中 国 金 融 强 中 国 金 融 强 由 家 ...   Neutral   Neutral\n",
       "3100  原 中 宏 人 寿 总 裁 林 重 文 创 办 第 三 方 保 险 中 介 机 构 江 泰 ...   Neutral   Neutral\n",
       "3101  中 银 金 融 商 务 有 限 公 司 以 下 简 称 中 银 商 务 于 年 月 成 立 ...   Neutral   Neutral\n",
       "3102  有 一 种 理 解 叫 感 同 身 受 寒 潮 来 袭 让 我 们 挑 战 寒 冷 不 二 ...   Neutral   Neutral\n",
       "3103  在 你 印 象 中 幼 儿 园 毕 业 表 演 是 怎 么 一 回 事 如 果 你 认 为 ...   Neutral   Neutral\n",
       "3104  这 是 中 国 保 监 会 月 日 颁 布 的 处 罚 报 表 其 中 依 然 没 有 中 ...   Neutral  Positive\n",
       "3105  精 英 学 员 实 习 生 日 锦 江 都 城 新 文 化 中 宏 保 险 如 家 酒 店 ...   Neutral   Neutral\n",
       "3106  盛 世 中 宏 荣 耀 荆 楚 中 宏 保 险 营 销 精 英 颁 奖 盛 典 活 动 马 ...   Neutral   Neutral\n",
       "3107  女 性 保 险 中 宏 保 险 关 于 女 性 保 险 的 小 常 识 购 买 女 性 保 ...   Neutral   Neutral\n",
       "3108  保 险 优 选 转 发 微 博 中 宏 保 险 保 险 理 念 真 正 不 能 输 在 起 ...   Neutral   Neutral\n",
       "3109  转 发 微 博 中 宏 保 险 静 夜 心 语 受 挫 一 次 对 生 活 的 理 解 加 ...   Neutral   Neutral\n",
       "3110  中 国 保 险 公 司 排 名 公 司 名 称 原 保 险 保 费 收 入 资 本 结 构 ...   Neutral   Neutral\n",
       "3111                  人 生 的 美 好 其 实 是 无 止 境 的 追 求 丫 小 情   Neutral   Neutral\n",
       "3112  一 个 绿 色 盒 子 代 表 什 么 疑 问 代 表 对 您 超 过 年 的 承 诺 不 ...   Neutral   Neutral\n",
       "3113  转 发 微 博 中 宏 保 险 小 时 候 幸 福 是 一 件 东 西 拥 有 就 幸 福 ...   Neutral   Neutral\n",
       "3114  能 不 能 别 吹 牛 逼 不 吹 会 不 会 死 偷 笑 改 保 险 都 不 敢 承 认 ...   Neutral   Neutral\n",
       "3115  围 观 世 界 杯 领 现 金 给 力 的 微 博 世 界 杯 福 利 疯 抢 围 观 世 ...   Neutral   Neutral\n",
       "3116  转 发 微 博 中 宏 保 险 你 的 器 官 需 要 打 扫 了 吗 经 常 打 嗝 腹 ...   Neutral   Neutral\n",
       "3117  转 发 微 博 信 赖 由 时 间 累 积 而 成 本 期 大 众 理 财 惊 现 中 宏 ...   Neutral   Neutral\n",
       "3118  积 极 健 康 也 是 传 递 一 种 思 想 评 论 我 的 微 博 月 日 香 港 流 ...   Neutral   Neutral\n",
       "3119  转 江 苏 省 盐 城 中 宏 人 寿 老 总 李 勇 昨 天 中 午 不 舒 服 在 南 ...   Neutral   Neutral\n",
       "3120  中 国 保 监 会 关 于 人 身 保 险 失 效 保 单 专 项 清 理 工 作 情 况 ...   Neutral   Neutral\n",
       "3121  中 宏 保 险 客 户 服 务 未 来 就 是 现 在 亲 子 教 育 活 动 专 题 讲 ...   Neutral   Neutral\n",
       "3122                          有 需 要 买 保 险 的 找 我 中 宏 保 险   Neutral   Neutral\n",
       "3123  五 月 在 一 片 繁 花 绿 树 中 走 来 温 暖 的 阳 光 照 耀 着 大 地 它 ...   Neutral   Neutral\n",
       "3124  转 发 微 博 中 宏 保 险 保 险 小 贴 士 保 险 产 品 的 选 购 应 结 合 ...   Neutral   Neutral\n",
       "\n",
       "[3125 rows x 3 columns]"
      ]
     },
     "execution_count": 8,
     "metadata": {},
     "output_type": "execute_result"
    }
   ],
   "source": [
    "data"
   ]
  },
  {
   "cell_type": "code",
   "execution_count": 9,
   "metadata": {
    "collapsed": true
   },
   "outputs": [],
   "source": [
    "data['content'] = data['content'].str.replace(' ', '')\n",
    "data = data.dropna()"
   ]
  },
  {
   "cell_type": "code",
   "execution_count": 10,
   "metadata": {
    "collapsed": true
   },
   "outputs": [],
   "source": [
    "# data['lable'] = data['lable'].str.replace('Products Service', 'Customer Service')\n",
    "# data['predict'] = data['predict'].str.replace('Products Service', 'Customer Service')"
   ]
  },
  {
   "cell_type": "code",
   "execution_count": 11,
   "metadata": {
    "collapsed": true
   },
   "outputs": [],
   "source": [
    "eval_class = 'Negative'"
   ]
  },
  {
   "cell_type": "code",
   "execution_count": 12,
   "metadata": {
    "collapsed": true
   },
   "outputs": [],
   "source": [
    "customer_service = data[data['lable'] == eval_class]\n",
    "others = data[data['lable'] != eval_class]"
   ]
  },
  {
   "cell_type": "code",
   "execution_count": 13,
   "metadata": {},
   "outputs": [
    {
     "data": {
      "text/plain": [
       "3055"
      ]
     },
     "execution_count": 13,
     "metadata": {},
     "output_type": "execute_result"
    }
   ],
   "source": [
    "len(others)"
   ]
  },
  {
   "cell_type": "code",
   "execution_count": 14,
   "metadata": {},
   "outputs": [
    {
     "data": {
      "text/plain": [
       "56"
      ]
     },
     "execution_count": 14,
     "metadata": {},
     "output_type": "execute_result"
    }
   ],
   "source": [
    "len(customer_service)"
   ]
  },
  {
   "cell_type": "code",
   "execution_count": 15,
   "metadata": {},
   "outputs": [
    {
     "data": {
      "text/plain": [
       "43"
      ]
     },
     "execution_count": 15,
     "metadata": {},
     "output_type": "execute_result"
    }
   ],
   "source": [
    "true_pos = sum(customer_service['predict'] == customer_service['lable'])\n",
    "true_pos"
   ]
  },
  {
   "cell_type": "code",
   "execution_count": 16,
   "metadata": {},
   "outputs": [
    {
     "data": {
      "text/plain": [
       "6"
      ]
     },
     "execution_count": 16,
     "metadata": {},
     "output_type": "execute_result"
    }
   ],
   "source": [
    "false_pos = sum(others['predict'] == eval_class)\n",
    "false_pos"
   ]
  },
  {
   "cell_type": "code",
   "execution_count": 17,
   "metadata": {},
   "outputs": [
    {
     "data": {
      "text/plain": [
       "13"
      ]
     },
     "execution_count": 17,
     "metadata": {},
     "output_type": "execute_result"
    }
   ],
   "source": [
    "false_neg = sum(customer_service['predict'] != customer_service['lable'])\n",
    "false_neg"
   ]
  },
  {
   "cell_type": "code",
   "execution_count": 18,
   "metadata": {},
   "outputs": [
    {
     "data": {
      "text/plain": [
       "3049"
      ]
     },
     "execution_count": 18,
     "metadata": {},
     "output_type": "execute_result"
    }
   ],
   "source": [
    "true_neg = sum(others['predict'] != eval_class)\n",
    "true_neg"
   ]
  },
  {
   "cell_type": "code",
   "execution_count": 19,
   "metadata": {},
   "outputs": [
    {
     "data": {
      "text/plain": [
       "0.99389263902282221"
      ]
     },
     "execution_count": 19,
     "metadata": {},
     "output_type": "execute_result"
    }
   ],
   "source": [
    "acc = (true_neg+true_pos)*1./len(data)\n",
    "acc"
   ]
  },
  {
   "cell_type": "code",
   "execution_count": 21,
   "metadata": {},
   "outputs": [
    {
     "name": "stdout",
     "output_type": "stream",
     "text": [
      "43\n",
      "49\n",
      "0.877551020408\n"
     ]
    }
   ],
   "source": [
    "precision = true_pos*1./(true_pos+false_pos)\n",
    "print(true_pos)\n",
    "print(true_pos+false_pos)\n",
    "print(precision)"
   ]
  },
  {
   "cell_type": "code",
   "execution_count": 23,
   "metadata": {},
   "outputs": [
    {
     "name": "stdout",
     "output_type": "stream",
     "text": [
      "3049\n",
      "3062\n",
      "0.995754408883\n"
     ]
    }
   ],
   "source": [
    "precision_o = true_neg*1./(true_neg+false_neg) #others precision\n",
    "print(true_neg)\n",
    "print(true_neg+false_neg) \n",
    "print(precision_o)"
   ]
  },
  {
   "cell_type": "code",
   "execution_count": 24,
   "metadata": {},
   "outputs": [
    {
     "name": "stdout",
     "output_type": "stream",
     "text": [
      "43\n",
      "56\n",
      "0.767857142857\n"
     ]
    }
   ],
   "source": [
    "recall = true_pos*1./(true_pos+false_neg)\n",
    "print(true_pos)\n",
    "print(true_pos+false_neg)\n",
    "print(recall)"
   ]
  },
  {
   "cell_type": "code",
   "execution_count": 25,
   "metadata": {},
   "outputs": [
    {
     "name": "stdout",
     "output_type": "stream",
     "text": [
      "3049\n",
      "3055\n",
      "0.998036006547\n"
     ]
    }
   ],
   "source": [
    "recall_o = true_neg*1./(true_neg+false_pos) #others recall\n",
    "print(true_neg)\n",
    "print(true_neg+false_pos)\n",
    "print(recall_o)"
   ]
  },
  {
   "cell_type": "code",
   "execution_count": 26,
   "metadata": {},
   "outputs": [
    {
     "data": {
      "text/plain": [
       "0.81904761904761914"
      ]
     },
     "execution_count": 26,
     "metadata": {},
     "output_type": "execute_result"
    }
   ],
   "source": [
    "f1 = 2./((1./precision)+(1./recall))\n",
    "f1"
   ]
  },
  {
   "cell_type": "code",
   "execution_count": 27,
   "metadata": {},
   "outputs": [
    {
     "data": {
      "text/plain": [
       "0.9968939022396599"
      ]
     },
     "execution_count": 27,
     "metadata": {},
     "output_type": "execute_result"
    }
   ],
   "source": [
    "f1_o = 2./((1./precision_o)+(1./recall_o))\n",
    "f1_o"
   ]
  },
  {
   "cell_type": "code",
   "execution_count": 28,
   "metadata": {},
   "outputs": [
    {
     "data": {
      "text/html": [
       "<div>\n",
       "<style>\n",
       "    .dataframe thead tr:only-child th {\n",
       "        text-align: right;\n",
       "    }\n",
       "\n",
       "    .dataframe thead th {\n",
       "        text-align: left;\n",
       "    }\n",
       "\n",
       "    .dataframe tbody tr th {\n",
       "        vertical-align: top;\n",
       "    }\n",
       "</style>\n",
       "<table border=\"1\" class=\"dataframe\">\n",
       "  <thead>\n",
       "    <tr style=\"text-align: right;\">\n",
       "      <th></th>\n",
       "      <th>content</th>\n",
       "      <th>lable</th>\n",
       "      <th>predict</th>\n",
       "    </tr>\n",
       "  </thead>\n",
       "  <tbody>\n",
       "    <tr>\n",
       "      <th>100</th>\n",
       "      <td>昨天晚上一方面找我谈今天就把我客户全部拿走了这也太霸道了吧中宏保险川分你这个骗子公司我要和你...</td>\n",
       "      <td>Negative</td>\n",
       "      <td>Neutral</td>\n",
       "    </tr>\n",
       "    <tr>\n",
       "      <th>102</th>\n",
       "      <td>我现在在休病假还没有痊愈希望公司有起码的良心所有的辞退换岗事宜等我痊愈后上班再说实在没有那么...</td>\n",
       "      <td>Negative</td>\n",
       "      <td>Neutral</td>\n",
       "    </tr>\n",
       "    <tr>\n",
       "      <th>109</th>\n",
       "      <td>我也不敢要求普天之下皆我奶奶什么事都要要照顾我爸可是你们一而再再而三得要求一个听力残疾人本人...</td>\n",
       "      <td>Negative</td>\n",
       "      <td>Neutral</td>\n",
       "    </tr>\n",
       "    <tr>\n",
       "      <th>115</th>\n",
       "      <td>垃圾公司你到底专业吗评论我的微博盐蒸橙子治咳嗽橙子中性偏寒凉具有理气化痰润肺等多种功效橙皮中...</td>\n",
       "      <td>Negative</td>\n",
       "      <td>Neutral</td>\n",
       "    </tr>\n",
       "    <tr>\n",
       "      <th>119</th>\n",
       "      <td>当今天收到这么多客户朋友们的支持信息我的内心是很难受和感动滴维权道路还很长我会一如既往服务好...</td>\n",
       "      <td>Negative</td>\n",
       "      <td>Neutral</td>\n",
       "    </tr>\n",
       "    <tr>\n",
       "      <th>122</th>\n",
       "      <td>中宏保险的做了几十年保险部门经理竟然来和我说一句不知道辞职要写辞职报告简直滑天下之大稽把大学...</td>\n",
       "      <td>Negative</td>\n",
       "      <td>Neutral</td>\n",
       "    </tr>\n",
       "    <tr>\n",
       "      <th>125</th>\n",
       "      <td>一场大雨毁掉半个春天我的茶花像杀掉白雪公主的后妈一样开心我发现金融学比经济学讨厌多了虽然中宏...</td>\n",
       "      <td>Negative</td>\n",
       "      <td>Neutral</td>\n",
       "    </tr>\n",
       "    <tr>\n",
       "      <th>128</th>\n",
       "      <td>你识甘多人帮忙转发下啊等更多人知道中宏保险公司系点处理事情让更多的人知道</td>\n",
       "      <td>Negative</td>\n",
       "      <td>Neutral</td>\n",
       "    </tr>\n",
       "    <tr>\n",
       "      <th>129</th>\n",
       "      <td>贵公司还要点儿脸不要了这是贵公司的业绩贵公司的员工都在太平做业务的作为财险同业都表示不齿</td>\n",
       "      <td>Negative</td>\n",
       "      <td>Neutral</td>\n",
       "    </tr>\n",
       "    <tr>\n",
       "      <th>131</th>\n",
       "      <td>垃圾中宏服务跟狗屎一样中宏保险</td>\n",
       "      <td>Negative</td>\n",
       "      <td>Neutral</td>\n",
       "    </tr>\n",
       "    <tr>\n",
       "      <th>134</th>\n",
       "      <td>前两天市民杨先生向我们栏目反映年他在市区中宏人寿保险公司为孩子购买一份万事通两全分红型保险上...</td>\n",
       "      <td>Negative</td>\n",
       "      <td>Neutral</td>\n",
       "    </tr>\n",
       "    <tr>\n",
       "      <th>135</th>\n",
       "      <td>年有家外资寿险被监管罚款共处罚万元包括信诚人寿中英人寿君龙人寿恒大人寿中宏人寿中德安联交银康...</td>\n",
       "      <td>Negative</td>\n",
       "      <td>Neutral</td>\n",
       "    </tr>\n",
       "    <tr>\n",
       "      <th>144</th>\n",
       "      <td>哎还有多少人被洗脑了</td>\n",
       "      <td>Negative</td>\n",
       "      <td>Neutral</td>\n",
       "    </tr>\n",
       "  </tbody>\n",
       "</table>\n",
       "</div>"
      ],
      "text/plain": [
       "                                               content     lable  predict\n",
       "100  昨天晚上一方面找我谈今天就把我客户全部拿走了这也太霸道了吧中宏保险川分你这个骗子公司我要和你...  Negative  Neutral\n",
       "102  我现在在休病假还没有痊愈希望公司有起码的良心所有的辞退换岗事宜等我痊愈后上班再说实在没有那么...  Negative  Neutral\n",
       "109  我也不敢要求普天之下皆我奶奶什么事都要要照顾我爸可是你们一而再再而三得要求一个听力残疾人本人...  Negative  Neutral\n",
       "115  垃圾公司你到底专业吗评论我的微博盐蒸橙子治咳嗽橙子中性偏寒凉具有理气化痰润肺等多种功效橙皮中...  Negative  Neutral\n",
       "119  当今天收到这么多客户朋友们的支持信息我的内心是很难受和感动滴维权道路还很长我会一如既往服务好...  Negative  Neutral\n",
       "122  中宏保险的做了几十年保险部门经理竟然来和我说一句不知道辞职要写辞职报告简直滑天下之大稽把大学...  Negative  Neutral\n",
       "125  一场大雨毁掉半个春天我的茶花像杀掉白雪公主的后妈一样开心我发现金融学比经济学讨厌多了虽然中宏...  Negative  Neutral\n",
       "128               你识甘多人帮忙转发下啊等更多人知道中宏保险公司系点处理事情让更多的人知道  Negative  Neutral\n",
       "129       贵公司还要点儿脸不要了这是贵公司的业绩贵公司的员工都在太平做业务的作为财险同业都表示不齿  Negative  Neutral\n",
       "131                                    垃圾中宏服务跟狗屎一样中宏保险  Negative  Neutral\n",
       "134  前两天市民杨先生向我们栏目反映年他在市区中宏人寿保险公司为孩子购买一份万事通两全分红型保险上...  Negative  Neutral\n",
       "135  年有家外资寿险被监管罚款共处罚万元包括信诚人寿中英人寿君龙人寿恒大人寿中宏人寿中德安联交银康...  Negative  Neutral\n",
       "144                                         哎还有多少人被洗脑了  Negative  Neutral"
      ]
     },
     "execution_count": 28,
     "metadata": {},
     "output_type": "execute_result"
    }
   ],
   "source": [
    "out = customer_service[customer_service['predict'] != eval_class]\n",
    "out.to_csv(myfile+'false_neg.csv',encoding = 'utf-8')\n",
    "out"
   ]
  },
  {
   "cell_type": "code",
   "execution_count": 29,
   "metadata": {},
   "outputs": [
    {
     "data": {
      "text/html": [
       "<div>\n",
       "<style>\n",
       "    .dataframe thead tr:only-child th {\n",
       "        text-align: right;\n",
       "    }\n",
       "\n",
       "    .dataframe thead th {\n",
       "        text-align: left;\n",
       "    }\n",
       "\n",
       "    .dataframe tbody tr th {\n",
       "        vertical-align: top;\n",
       "    }\n",
       "</style>\n",
       "<table border=\"1\" class=\"dataframe\">\n",
       "  <thead>\n",
       "    <tr style=\"text-align: right;\">\n",
       "      <th></th>\n",
       "      <th>content</th>\n",
       "      <th>lable</th>\n",
       "      <th>predict</th>\n",
       "    </tr>\n",
       "  </thead>\n",
       "  <tbody>\n",
       "    <tr>\n",
       "      <th>1199</th>\n",
       "      <td>好大一桶啊女人香</td>\n",
       "      <td>Neutral</td>\n",
       "      <td>Negative</td>\n",
       "    </tr>\n",
       "    <tr>\n",
       "      <th>1502</th>\n",
       "      <td>已私信告知本人电话不要就此断尾请尽快联系评论我的微博甲状腺疾病患者能够愉快的吃海鲜吗一般所说...</td>\n",
       "      <td>Neutral</td>\n",
       "      <td>Negative</td>\n",
       "    </tr>\n",
       "    <tr>\n",
       "      <th>1641</th>\n",
       "      <td>亲在吗</td>\n",
       "      <td>Neutral</td>\n",
       "      <td>Negative</td>\n",
       "    </tr>\n",
       "    <tr>\n",
       "      <th>2006</th>\n",
       "      <td>沈志君</td>\n",
       "      <td>Neutral</td>\n",
       "      <td>Negative</td>\n",
       "    </tr>\n",
       "    <tr>\n",
       "      <th>2413</th>\n",
       "      <td>没有客服电话吗打电话投诉关羽斗悟空后悔死了岚岚加油中宏保险傻逼吗买这家的保险圈里都知道他家最...</td>\n",
       "      <td>Neutral</td>\n",
       "      <td>Negative</td>\n",
       "    </tr>\n",
       "    <tr>\n",
       "      <th>2497</th>\n",
       "      <td>谢了收到邮件了</td>\n",
       "      <td>Neutral</td>\n",
       "      <td>Negative</td>\n",
       "    </tr>\n",
       "  </tbody>\n",
       "</table>\n",
       "</div>"
      ],
      "text/plain": [
       "                                                content    lable   predict\n",
       "1199                                           好大一桶啊女人香  Neutral  Negative\n",
       "1502  已私信告知本人电话不要就此断尾请尽快联系评论我的微博甲状腺疾病患者能够愉快的吃海鲜吗一般所说...  Neutral  Negative\n",
       "1641                                                亲在吗  Neutral  Negative\n",
       "2006                                                沈志君  Neutral  Negative\n",
       "2413  没有客服电话吗打电话投诉关羽斗悟空后悔死了岚岚加油中宏保险傻逼吗买这家的保险圈里都知道他家最...  Neutral  Negative\n",
       "2497                                            谢了收到邮件了  Neutral  Negative"
      ]
     },
     "execution_count": 29,
     "metadata": {},
     "output_type": "execute_result"
    }
   ],
   "source": [
    "out = others[others['predict'] == eval_class]\n",
    "out.to_csv(myfile+'false_pos.csv',encoding = 'utf-8')\n",
    "out"
   ]
  },
  {
   "cell_type": "code",
   "execution_count": 30,
   "metadata": {},
   "outputs": [
    {
     "data": {
      "text/html": [
       "<div>\n",
       "<style>\n",
       "    .dataframe thead tr:only-child th {\n",
       "        text-align: right;\n",
       "    }\n",
       "\n",
       "    .dataframe thead th {\n",
       "        text-align: left;\n",
       "    }\n",
       "\n",
       "    .dataframe tbody tr th {\n",
       "        vertical-align: top;\n",
       "    }\n",
       "</style>\n",
       "<table border=\"1\" class=\"dataframe\">\n",
       "  <thead>\n",
       "    <tr style=\"text-align: right;\">\n",
       "      <th></th>\n",
       "      <th>content</th>\n",
       "      <th>lable</th>\n",
       "      <th>predict</th>\n",
       "    </tr>\n",
       "  </thead>\n",
       "  <tbody>\n",
       "  </tbody>\n",
       "</table>\n",
       "</div>"
      ],
      "text/plain": [
       "Empty DataFrame\n",
       "Columns: [content, lable, predict]\n",
       "Index: []"
      ]
     },
     "execution_count": 30,
     "metadata": {},
     "output_type": "execute_result"
    }
   ],
   "source": [
    "data[data['lable'] == 'Products Service']"
   ]
  },
  {
   "cell_type": "code",
   "execution_count": null,
   "metadata": {
    "collapsed": true
   },
   "outputs": [],
   "source": []
  },
  {
   "cell_type": "code",
   "execution_count": null,
   "metadata": {
    "collapsed": true
   },
   "outputs": [],
   "source": []
  }
 ],
 "metadata": {
  "kernelspec": {
   "display_name": "Python 3",
   "language": "python",
   "name": "python3"
  },
  "language_info": {
   "codemirror_mode": {
    "name": "ipython",
    "version": 3
   },
   "file_extension": ".py",
   "mimetype": "text/x-python",
   "name": "python",
   "nbconvert_exporter": "python",
   "pygments_lexer": "ipython3",
   "version": "3.6.3"
  }
 },
 "nbformat": 4,
 "nbformat_minor": 2
}
